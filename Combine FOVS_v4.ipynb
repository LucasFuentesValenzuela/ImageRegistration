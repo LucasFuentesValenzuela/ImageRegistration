{
 "cells": [
  {
   "cell_type": "markdown",
   "metadata": {
    "toc": true
   },
   "source": [
    "<h1>Table of Contents<span class=\"tocSkip\"></span></h1>\n",
    "<div class=\"toc\"><ul class=\"toc-item\"><li><span><a href=\"#Flip-and-rotate-all-images\" data-toc-modified-id=\"Flip-and-rotate-all-images-1\"><span class=\"toc-item-num\">1&nbsp;&nbsp;</span>Flip and rotate all images</a></span></li><li><span><a href=\"#Concatenate-FOVs,-then-crop-useful-region\" data-toc-modified-id=\"Concatenate-FOVs,-then-crop-useful-region-2\"><span class=\"toc-item-num\">2&nbsp;&nbsp;</span>Concatenate FOVs, then crop useful region</a></span></li><li><span><a href=\"#Run-Registration-on-all-files\" data-toc-modified-id=\"Run-Registration-on-all-files-3\"><span class=\"toc-item-num\">3&nbsp;&nbsp;</span>Run Registration on all files</a></span></li><li><span><a href=\"#Registration-with-AstroAlign----pipeline-for-transforming-and-for-checking\" data-toc-modified-id=\"Registration-with-AstroAlign----pipeline-for-transforming-and-for-checking-4\"><span class=\"toc-item-num\">4&nbsp;&nbsp;</span>Registration with AstroAlign -- pipeline for transforming and for checking</a></span><ul class=\"toc-item\"><li><span><a href=\"#Test-on-problematic-FOVs\" data-toc-modified-id=\"Test-on-problematic-FOVs-4.1\"><span class=\"toc-item-num\">4.1&nbsp;&nbsp;</span>Test on problematic FOVs</a></span></li><li><span><a href=\"#Run-find-transform\" data-toc-modified-id=\"Run-find-transform-4.2\"><span class=\"toc-item-num\">4.2&nbsp;&nbsp;</span>Run find transform</a></span></li></ul></li></ul></div>"
   ]
  },
  {
   "cell_type": "code",
   "execution_count": 22,
   "metadata": {},
   "outputs": [
    {
     "name": "stdout",
     "output_type": "stream",
     "text": [
      "The autoreload extension is already loaded. To reload it, use:\n",
      "  %reload_ext autoreload\n"
     ]
    }
   ],
   "source": [
    "%load_ext autoreload\n",
    "%autoreload 2\n",
    "import numpy as np\n",
    "import matplotlib.pyplot as plt\n",
    "import cv2\n",
    "import re\n",
    "import os\n",
    "\n",
    "import tifffile as tiff\n",
    "\n",
    "from helpers import *\n",
    "\n",
    "\n",
    "from astroalign_test import *"
   ]
  },
  {
   "cell_type": "code",
   "execution_count": 4,
   "metadata": {},
   "outputs": [],
   "source": [
    "Folders=dict()\n",
    "Folders['HighMag']='/Volumes/prakash-lab/Projects/Octopi/3C, scan 1, part 1 split/'\n",
    "Folders['lowMag']='../3C Octopi/BGremoved/'\n",
    "Folders['HighMag_RF']='../3C Octopi/HighMag_RF/'\n",
    "Folders['Virtual']='../3C Octopi/HighMag_Tiled/'\n",
    "Folders['Aligned']='../3C Octopi/Registered/'"
   ]
  },
  {
   "cell_type": "markdown",
   "metadata": {},
   "source": [
    "# Flip and rotate all images"
   ]
  },
  {
   "cell_type": "code",
   "execution_count": 9,
   "metadata": {
    "scrolled": true
   },
   "outputs": [
    {
     "name": "stdout",
     "output_type": "stream",
     "text": [
      "20x 15% overlap002_part 1 - Stitched_001_001.tif\n",
      "20x 15% overlap002_part 1 - Stitched_001_002.tif\n",
      "20x 15% overlap002_part 1 - Stitched_001_003.tif\n",
      "20x 15% overlap002_part 1 - Stitched_001_004.tif\n",
      "20x 15% overlap002_part 1 - Stitched_001_005.tif\n",
      "20x 15% overlap002_part 1 - Stitched_001_006.tif\n",
      "20x 15% overlap002_part 1 - Stitched_001_007.tif\n",
      "20x 15% overlap002_part 1 - Stitched_001_008.tif\n",
      "20x 15% overlap002_part 1 - Stitched_001_009.tif\n",
      "20x 15% overlap002_part 1 - Stitched_001_010.tif\n",
      "20x 15% overlap002_part 1 - Stitched_002_001.tif\n",
      "20x 15% overlap002_part 1 - Stitched_002_002.tif\n",
      "20x 15% overlap002_part 1 - Stitched_002_003.tif\n",
      "20x 15% overlap002_part 1 - Stitched_002_004.tif\n",
      "20x 15% overlap002_part 1 - Stitched_002_005.tif\n",
      "20x 15% overlap002_part 1 - Stitched_002_006.tif\n",
      "20x 15% overlap002_part 1 - Stitched_002_007.tif\n",
      "20x 15% overlap002_part 1 - Stitched_002_008.tif\n",
      "20x 15% overlap002_part 1 - Stitched_002_009.tif\n",
      "20x 15% overlap002_part 1 - Stitched_002_010.tif\n",
      "20x 15% overlap002_part 1 - Stitched_003_001.tif\n",
      "20x 15% overlap002_part 1 - Stitched_003_002.tif\n",
      "20x 15% overlap002_part 1 - Stitched_003_003.tif\n",
      "20x 15% overlap002_part 1 - Stitched_003_004.tif\n",
      "20x 15% overlap002_part 1 - Stitched_003_005.tif\n",
      "20x 15% overlap002_part 1 - Stitched_003_006.tif\n",
      "20x 15% overlap002_part 1 - Stitched_003_007.tif\n",
      "20x 15% overlap002_part 1 - Stitched_003_008.tif\n",
      "20x 15% overlap002_part 1 - Stitched_003_009.tif\n",
      "20x 15% overlap002_part 1 - Stitched_003_010.tif\n",
      "20x 15% overlap002_part 1 - Stitched_004_001.tif\n",
      "20x 15% overlap002_part 1 - Stitched_004_002.tif\n",
      "20x 15% overlap002_part 1 - Stitched_004_003.tif\n",
      "20x 15% overlap002_part 1 - Stitched_004_004.tif\n",
      "20x 15% overlap002_part 1 - Stitched_004_005.tif\n",
      "20x 15% overlap002_part 1 - Stitched_004_006.tif\n",
      "20x 15% overlap002_part 1 - Stitched_004_007.tif\n",
      "20x 15% overlap002_part 1 - Stitched_004_008.tif\n",
      "20x 15% overlap002_part 1 - Stitched_004_009.tif\n",
      "20x 15% overlap002_part 1 - Stitched_004_010.tif\n",
      "20x 15% overlap002_part 1 - Stitched_005_001.tif\n",
      "20x 15% overlap002_part 1 - Stitched_005_002.tif\n",
      "20x 15% overlap002_part 1 - Stitched_005_003.tif\n",
      "20x 15% overlap002_part 1 - Stitched_005_004.tif\n",
      "20x 15% overlap002_part 1 - Stitched_005_005.tif\n",
      "20x 15% overlap002_part 1 - Stitched_005_006.tif\n",
      "20x 15% overlap002_part 1 - Stitched_005_007.tif\n",
      "20x 15% overlap002_part 1 - Stitched_005_008.tif\n",
      "20x 15% overlap002_part 1 - Stitched_005_009.tif\n",
      "20x 15% overlap002_part 1 - Stitched_005_010.tif\n",
      "20x 15% overlap002_part 1 - Stitched_006_001.tif\n",
      "20x 15% overlap002_part 1 - Stitched_006_002.tif\n",
      "20x 15% overlap002_part 1 - Stitched_006_003.tif\n",
      "20x 15% overlap002_part 1 - Stitched_006_004.tif\n",
      "20x 15% overlap002_part 1 - Stitched_006_005.tif\n",
      "20x 15% overlap002_part 1 - Stitched_006_006.tif\n",
      "20x 15% overlap002_part 1 - Stitched_006_007.tif\n",
      "20x 15% overlap002_part 1 - Stitched_006_008.tif\n",
      "20x 15% overlap002_part 1 - Stitched_006_009.tif\n",
      "20x 15% overlap002_part 1 - Stitched_006_010.tif\n",
      "20x 15% overlap002_part 1 - Stitched_007_001.tif\n",
      "20x 15% overlap002_part 1 - Stitched_007_002.tif\n",
      "20x 15% overlap002_part 1 - Stitched_007_003.tif\n",
      "20x 15% overlap002_part 1 - Stitched_007_004.tif\n",
      "20x 15% overlap002_part 1 - Stitched_007_005.tif\n",
      "20x 15% overlap002_part 1 - Stitched_007_006.tif\n",
      "20x 15% overlap002_part 1 - Stitched_007_007.tif\n",
      "20x 15% overlap002_part 1 - Stitched_007_008.tif\n",
      "20x 15% overlap002_part 1 - Stitched_007_009.tif\n",
      "20x 15% overlap002_part 1 - Stitched_007_010.tif\n",
      "20x 15% overlap002_part 1 - Stitched_008_001.tif\n",
      "20x 15% overlap002_part 1 - Stitched_008_002.tif\n",
      "20x 15% overlap002_part 1 - Stitched_008_003.tif\n",
      "20x 15% overlap002_part 1 - Stitched_008_004.tif\n",
      "20x 15% overlap002_part 1 - Stitched_008_005.tif\n",
      "20x 15% overlap002_part 1 - Stitched_008_006.tif\n",
      "20x 15% overlap002_part 1 - Stitched_008_007.tif\n",
      "20x 15% overlap002_part 1 - Stitched_008_008.tif\n",
      "20x 15% overlap002_part 1 - Stitched_008_009.tif\n",
      "20x 15% overlap002_part 1 - Stitched_008_010.tif\n",
      "20x 15% overlap002_part 1 - Stitched_009_001.tif\n",
      "20x 15% overlap002_part 1 - Stitched_009_002.tif\n",
      "20x 15% overlap002_part 1 - Stitched_009_003.tif\n",
      "20x 15% overlap002_part 1 - Stitched_009_004.tif\n",
      "20x 15% overlap002_part 1 - Stitched_009_005.tif\n",
      "20x 15% overlap002_part 1 - Stitched_009_006.tif\n",
      "20x 15% overlap002_part 1 - Stitched_009_007.tif\n",
      "20x 15% overlap002_part 1 - Stitched_009_008.tif\n",
      "20x 15% overlap002_part 1 - Stitched_009_009.tif\n",
      "20x 15% overlap002_part 1 - Stitched_009_010.tif\n",
      "20x 15% overlap002_part 1 - Stitched_010_001.tif\n",
      "20x 15% overlap002_part 1 - Stitched_010_002.tif\n",
      "20x 15% overlap002_part 1 - Stitched_010_003.tif\n",
      "20x 15% overlap002_part 1 - Stitched_010_004.tif\n",
      "20x 15% overlap002_part 1 - Stitched_010_005.tif\n",
      "20x 15% overlap002_part 1 - Stitched_010_006.tif\n",
      "20x 15% overlap002_part 1 - Stitched_010_007.tif\n",
      "20x 15% overlap002_part 1 - Stitched_010_008.tif\n",
      "20x 15% overlap002_part 1 - Stitched_010_009.tif\n",
      "20x 15% overlap002_part 1 - Stitched_010_010.tif\n",
      "20x 15% overlap002_part 1 - Stitched_011_001.tif\n",
      "20x 15% overlap002_part 1 - Stitched_011_002.tif\n",
      "20x 15% overlap002_part 1 - Stitched_011_003.tif\n",
      "20x 15% overlap002_part 1 - Stitched_011_004.tif\n",
      "20x 15% overlap002_part 1 - Stitched_011_005.tif\n",
      "20x 15% overlap002_part 1 - Stitched_011_006.tif\n",
      "20x 15% overlap002_part 1 - Stitched_011_007.tif\n",
      "20x 15% overlap002_part 1 - Stitched_011_008.tif\n",
      "20x 15% overlap002_part 1 - Stitched_011_009.tif\n",
      "20x 15% overlap002_part 1 - Stitched_011_010.tif\n",
      "20x 15% overlap002_part 1 - Stitched_012_001.tif\n",
      "20x 15% overlap002_part 1 - Stitched_012_002.tif\n",
      "20x 15% overlap002_part 1 - Stitched_012_003.tif\n",
      "20x 15% overlap002_part 1 - Stitched_012_004.tif\n",
      "20x 15% overlap002_part 1 - Stitched_012_005.tif\n",
      "20x 15% overlap002_part 1 - Stitched_012_006.tif\n",
      "20x 15% overlap002_part 1 - Stitched_012_007.tif\n",
      "20x 15% overlap002_part 1 - Stitched_012_008.tif\n",
      "20x 15% overlap002_part 1 - Stitched_012_009.tif\n",
      "20x 15% overlap002_part 1 - Stitched_012_010.tif\n",
      "20x 15% overlap002_part 1 - Stitched_013_001.tif\n",
      "20x 15% overlap002_part 1 - Stitched_013_002.tif\n",
      "20x 15% overlap002_part 1 - Stitched_013_003.tif\n",
      "20x 15% overlap002_part 1 - Stitched_013_004.tif\n",
      "20x 15% overlap002_part 1 - Stitched_013_005.tif\n",
      "20x 15% overlap002_part 1 - Stitched_013_006.tif\n",
      "20x 15% overlap002_part 1 - Stitched_013_007.tif\n",
      "20x 15% overlap002_part 1 - Stitched_013_008.tif\n",
      "20x 15% overlap002_part 1 - Stitched_013_009.tif\n",
      "20x 15% overlap002_part 1 - Stitched_013_010.tif\n",
      "20x 15% overlap002_part 1 - Stitched_014_001.tif\n",
      "20x 15% overlap002_part 1 - Stitched_014_002.tif\n",
      "20x 15% overlap002_part 1 - Stitched_014_003.tif\n",
      "20x 15% overlap002_part 1 - Stitched_014_004.tif\n",
      "20x 15% overlap002_part 1 - Stitched_014_005.tif\n",
      "20x 15% overlap002_part 1 - Stitched_014_006.tif\n",
      "20x 15% overlap002_part 1 - Stitched_014_007.tif\n",
      "20x 15% overlap002_part 1 - Stitched_014_008.tif\n",
      "20x 15% overlap002_part 1 - Stitched_014_009.tif\n",
      "20x 15% overlap002_part 1 - Stitched_014_010.tif\n"
     ]
    }
   ],
   "source": [
    "flip_rotate_images(Folders)"
   ]
  },
  {
   "cell_type": "markdown",
   "metadata": {},
   "source": [
    "# Concatenate FOVs, then crop useful region"
   ]
  },
  {
   "cell_type": "code",
   "execution_count": 3,
   "metadata": {},
   "outputs": [],
   "source": [
    "#high mag\n",
    "pixel_size=0.365623*10**-6\n",
    "# nb_pixel_y=3081\n",
    "# nb_pixel_x=2755\n",
    "\n",
    "nb_pixel_y=4000\n",
    "nb_pixel_x=3000"
   ]
  },
  {
   "cell_type": "code",
   "execution_count": 4,
   "metadata": {},
   "outputs": [],
   "source": [
    "#OCTOPI\n",
    "fov_oct=1.6*10**-3\n",
    "offset=dict()\n",
    "#there is an offset in the different picture\n",
    "\n",
    "# 3B\n",
    "# offset['x']=3000*pixel_size\n",
    "# offset['y']=1500*pixel_size\n",
    "\n",
    "#3C\n",
    "offset['x']=3000*pixel_size\n",
    "offset['y']=0*pixel_size\n",
    "#difference on each side\n",
    "delta=3*10**-4"
   ]
  },
  {
   "cell_type": "code",
   "execution_count": 21,
   "metadata": {
    "scrolled": true
   },
   "outputs": [
    {
     "name": "stdout",
     "output_type": "stream",
     "text": [
      "_00_00_fluorescent_linearRGB.png\n",
      "0_0.png\n",
      "(6017, 6017)\n",
      "---------------\n",
      "_00_01_fluorescent_linearRGB.png\n",
      "0_1.png\n",
      "(6017, 6017)\n",
      "---------------\n",
      "_00_02_fluorescent_linearRGB.png\n",
      "0_2.png\n",
      "(6017, 6017)\n",
      "---------------\n",
      "_00_03_fluorescent_linearRGB.png\n",
      "0_3.png\n",
      "(6017, 6017)\n",
      "---------------\n",
      "_00_04_fluorescent_linearRGB.png\n",
      "0_4.png\n",
      "(6017, 6017)\n",
      "---------------\n",
      "_00_05_fluorescent_linearRGB.png\n",
      "0_5.png\n",
      "(6017, 6017)\n",
      "---------------\n",
      "_00_06_fluorescent_linearRGB.png\n",
      "0_6.png\n",
      "(6017, 6017)\n",
      "---------------\n",
      "_00_07_fluorescent_linearRGB.png\n",
      "0_7.png\n",
      "(6017, 6017)\n",
      "---------------\n",
      "_00_08_fluorescent_linearRGB.png\n",
      "0_8.png\n",
      "(6017, 6017)\n",
      "---------------\n",
      "_00_09_fluorescent_linearRGB.png\n",
      "0_9.png\n",
      "(6017, 6017)\n",
      "---------------\n",
      "_00_10_fluorescent_linearRGB.png\n",
      "0_10.png\n",
      "(6017, 6017)\n",
      "---------------\n",
      "_00_11_fluorescent_linearRGB.png\n",
      "0_11.png\n",
      "(6017, 4701)\n",
      "---------------\n",
      "_01_00_fluorescent_linearRGB.png\n",
      "1_0.png\n",
      "(6017, 6017)\n",
      "---------------\n",
      "_01_01_fluorescent_linearRGB.png\n",
      "1_1.png\n",
      "(6017, 6017)\n",
      "---------------\n",
      "_01_02_fluorescent_linearRGB.png\n",
      "1_2.png\n",
      "(6017, 6017)\n",
      "---------------\n",
      "_01_03_fluorescent_linearRGB.png\n",
      "1_3.png\n",
      "(6017, 6017)\n",
      "---------------\n",
      "_01_04_fluorescent_linearRGB.png\n",
      "1_4.png\n",
      "(6017, 6017)\n",
      "---------------\n",
      "_01_05_fluorescent_linearRGB.png\n",
      "1_5.png\n",
      "(6017, 6017)\n",
      "---------------\n",
      "_01_06_fluorescent_linearRGB.png\n",
      "1_6.png\n",
      "(6017, 6017)\n",
      "---------------\n",
      "_01_07_fluorescent_linearRGB.png\n",
      "1_7.png\n",
      "(6017, 6017)\n",
      "---------------\n",
      "_01_08_fluorescent_linearRGB.png\n",
      "1_8.png\n",
      "(6017, 6017)\n",
      "---------------\n",
      "_01_09_fluorescent_linearRGB.png\n",
      "1_9.png\n",
      "(6017, 6017)\n",
      "---------------\n",
      "_01_10_fluorescent_linearRGB.png\n",
      "1_10.png\n",
      "(6017, 6017)\n",
      "---------------\n",
      "_01_11_fluorescent_linearRGB.png\n",
      "1_11.png\n",
      "(6017, 4701)\n",
      "---------------\n",
      "_02_00_fluorescent_linearRGB.png\n",
      "2_0.png\n",
      "(6017, 6017)\n",
      "---------------\n",
      "_02_01_fluorescent_linearRGB.png\n",
      "2_1.png\n",
      "(6017, 6017)\n",
      "---------------\n",
      "_02_02_fluorescent_linearRGB.png\n",
      "2_2.png\n",
      "(6017, 6017)\n",
      "---------------\n",
      "_02_03_fluorescent_linearRGB.png\n",
      "2_3.png\n",
      "(6017, 6017)\n",
      "---------------\n",
      "_02_04_fluorescent_linearRGB.png\n",
      "2_4.png\n",
      "(6017, 6017)\n",
      "---------------\n",
      "_02_05_fluorescent_linearRGB.png\n",
      "2_5.png\n",
      "(6017, 6017)\n",
      "---------------\n",
      "_02_06_fluorescent_linearRGB.png\n",
      "2_6.png\n",
      "(6017, 6017)\n",
      "---------------\n",
      "_02_07_fluorescent_linearRGB.png\n",
      "2_7.png\n",
      "(6017, 6017)\n",
      "---------------\n",
      "_02_08_fluorescent_linearRGB.png\n",
      "2_8.png\n",
      "(6017, 6017)\n",
      "---------------\n",
      "_02_09_fluorescent_linearRGB.png\n",
      "2_9.png\n",
      "(6017, 6017)\n",
      "---------------\n",
      "_02_10_fluorescent_linearRGB.png\n",
      "2_10.png\n",
      "(6017, 6017)\n",
      "---------------\n",
      "_02_11_fluorescent_linearRGB.png\n",
      "2_11.png\n",
      "(6017, 4701)\n",
      "---------------\n",
      "_03_00_fluorescent_linearRGB.png\n",
      "3_0.png\n",
      "(6017, 6017)\n",
      "---------------\n",
      "_03_01_fluorescent_linearRGB.png\n",
      "3_1.png\n",
      "(6017, 6017)\n",
      "---------------\n",
      "_03_02_fluorescent_linearRGB.png\n",
      "3_2.png\n",
      "(6017, 6017)\n",
      "---------------\n",
      "_03_03_fluorescent_linearRGB.png\n",
      "3_3.png\n",
      "(6017, 6017)\n",
      "---------------\n",
      "_03_04_fluorescent_linearRGB.png\n",
      "3_4.png\n",
      "(6017, 6017)\n",
      "---------------\n",
      "_03_05_fluorescent_linearRGB.png\n",
      "3_5.png\n",
      "(6017, 6017)\n",
      "---------------\n",
      "_03_06_fluorescent_linearRGB.png\n",
      "3_6.png\n",
      "(6017, 6017)\n",
      "---------------\n",
      "_03_07_fluorescent_linearRGB.png\n",
      "3_7.png\n",
      "(6017, 6017)\n",
      "---------------\n",
      "_03_08_fluorescent_linearRGB.png\n",
      "3_8.png\n",
      "(6017, 6017)\n",
      "---------------\n",
      "_03_09_fluorescent_linearRGB.png\n",
      "3_9.png\n",
      "(6017, 6017)\n",
      "---------------\n",
      "_03_10_fluorescent_linearRGB.png\n",
      "3_10.png\n",
      "(6017, 6017)\n",
      "---------------\n",
      "_03_11_fluorescent_linearRGB.png\n",
      "3_11.png\n",
      "(6017, 4701)\n",
      "---------------\n",
      "_04_00_fluorescent_linearRGB.png\n",
      "4_0.png\n",
      "(6017, 6017)\n",
      "---------------\n",
      "_04_01_fluorescent_linearRGB.png\n",
      "4_1.png\n",
      "(6017, 6017)\n",
      "---------------\n",
      "_04_02_fluorescent_linearRGB.png\n",
      "4_2.png\n",
      "(6017, 6017)\n",
      "---------------\n",
      "_04_03_fluorescent_linearRGB.png\n",
      "4_3.png\n",
      "(6017, 6017)\n",
      "---------------\n",
      "_04_04_fluorescent_linearRGB.png\n",
      "4_4.png\n",
      "(6017, 6017)\n",
      "---------------\n",
      "_04_05_fluorescent_linearRGB.png\n",
      "4_5.png\n",
      "(6017, 6017)\n",
      "---------------\n",
      "_04_06_fluorescent_linearRGB.png\n",
      "4_6.png\n",
      "(6017, 6017)\n",
      "---------------\n",
      "_04_07_fluorescent_linearRGB.png\n",
      "4_7.png\n",
      "(6017, 6017)\n",
      "---------------\n",
      "_04_08_fluorescent_linearRGB.png\n",
      "4_8.png\n",
      "(6017, 6017)\n",
      "---------------\n",
      "_04_09_fluorescent_linearRGB.png\n",
      "4_9.png\n",
      "(6017, 6017)\n",
      "---------------\n",
      "_04_10_fluorescent_linearRGB.png\n",
      "4_10.png\n",
      "(6017, 6017)\n",
      "---------------\n",
      "_04_11_fluorescent_linearRGB.png\n",
      "4_11.png\n",
      "(6017, 4701)\n",
      "---------------\n",
      "_05_00_fluorescent_linearRGB.png\n",
      "5_0.png\n",
      "(6017, 6017)\n",
      "---------------\n",
      "_05_01_fluorescent_linearRGB.png\n",
      "5_1.png\n",
      "(6017, 6017)\n",
      "---------------\n",
      "_05_02_fluorescent_linearRGB.png\n",
      "5_2.png\n",
      "(6017, 6017)\n",
      "---------------\n",
      "_05_03_fluorescent_linearRGB.png\n",
      "5_3.png\n",
      "(6017, 6017)\n",
      "---------------\n",
      "_05_04_fluorescent_linearRGB.png\n",
      "5_4.png\n",
      "(6017, 6017)\n",
      "---------------\n",
      "_05_05_fluorescent_linearRGB.png\n",
      "5_5.png\n",
      "(6017, 6017)\n",
      "---------------\n",
      "_05_06_fluorescent_linearRGB.png\n",
      "5_6.png\n",
      "(6017, 6017)\n",
      "---------------\n",
      "_05_07_fluorescent_linearRGB.png\n",
      "5_7.png\n",
      "(6017, 6017)\n",
      "---------------\n",
      "_05_08_fluorescent_linearRGB.png\n",
      "5_8.png\n",
      "(6017, 6017)\n",
      "---------------\n",
      "_05_09_fluorescent_linearRGB.png\n",
      "5_9.png\n",
      "(6017, 6017)\n",
      "---------------\n",
      "_05_10_fluorescent_linearRGB.png\n",
      "5_10.png\n",
      "(6017, 6017)\n",
      "---------------\n",
      "_05_11_fluorescent_linearRGB.png\n",
      "5_11.png\n",
      "(6017, 4701)\n",
      "---------------\n",
      "_06_00_fluorescent_linearRGB.png\n",
      "6_0.png\n",
      "(6017, 6017)\n",
      "---------------\n",
      "_06_01_fluorescent_linearRGB.png\n",
      "6_1.png\n",
      "(6017, 6017)\n",
      "---------------\n",
      "_06_02_fluorescent_linearRGB.png\n",
      "6_2.png\n",
      "(6017, 6017)\n",
      "---------------\n",
      "_06_03_fluorescent_linearRGB.png\n",
      "6_3.png\n",
      "(6017, 6017)\n",
      "---------------\n",
      "_06_04_fluorescent_linearRGB.png\n",
      "6_4.png\n",
      "(6017, 6017)\n",
      "---------------\n",
      "_06_05_fluorescent_linearRGB.png\n",
      "6_5.png\n",
      "(6017, 6017)\n",
      "---------------\n",
      "_06_06_fluorescent_linearRGB.png\n",
      "6_6.png\n",
      "(6017, 6017)\n",
      "---------------\n",
      "_06_07_fluorescent_linearRGB.png\n",
      "6_7.png\n",
      "(6017, 6017)\n",
      "---------------\n",
      "_06_08_fluorescent_linearRGB.png\n",
      "6_8.png\n",
      "(6017, 6017)\n",
      "---------------\n",
      "_06_09_fluorescent_linearRGB.png\n",
      "6_9.png\n",
      "(6017, 6017)\n",
      "---------------\n",
      "_06_10_fluorescent_linearRGB.png\n",
      "6_10.png\n",
      "(6017, 6017)\n",
      "---------------\n",
      "_06_11_fluorescent_linearRGB.png\n",
      "6_11.png\n",
      "(6017, 4701)\n",
      "---------------\n",
      "_07_00_fluorescent_linearRGB.png\n",
      "7_0.png\n",
      "(6017, 6017)\n",
      "---------------\n",
      "_07_01_fluorescent_linearRGB.png\n",
      "7_1.png\n",
      "(6017, 6017)\n",
      "---------------\n",
      "_07_02_fluorescent_linearRGB.png\n",
      "7_2.png\n",
      "(6017, 6017)\n",
      "---------------\n",
      "_07_03_fluorescent_linearRGB.png\n",
      "7_3.png\n",
      "(6017, 6017)\n",
      "---------------\n",
      "_07_04_fluorescent_linearRGB.png\n",
      "7_4.png\n",
      "(6017, 6017)\n",
      "---------------\n",
      "_07_05_fluorescent_linearRGB.png\n",
      "7_5.png\n",
      "(6017, 6017)\n",
      "---------------\n",
      "_07_06_fluorescent_linearRGB.png\n",
      "7_6.png\n",
      "(6017, 6017)\n",
      "---------------\n",
      "_07_07_fluorescent_linearRGB.png\n",
      "7_7.png\n",
      "(6017, 6017)\n",
      "---------------\n",
      "_07_08_fluorescent_linearRGB.png\n",
      "7_8.png\n",
      "(6017, 6017)\n",
      "---------------\n",
      "_07_09_fluorescent_linearRGB.png\n",
      "7_9.png\n",
      "(6017, 6017)\n",
      "---------------\n",
      "_07_10_fluorescent_linearRGB.png\n",
      "7_10.png\n",
      "(6017, 6017)\n",
      "---------------\n",
      "_07_11_fluorescent_linearRGB.png\n",
      "7_11.png\n",
      "(6017, 4701)\n",
      "---------------\n",
      "_08_00_fluorescent_linearRGB.png\n",
      "8_0.png\n",
      "(6017, 6017)\n",
      "---------------\n",
      "_08_01_fluorescent_linearRGB.png\n",
      "8_1.png\n",
      "(6017, 6017)\n",
      "---------------\n",
      "_08_02_fluorescent_linearRGB.png\n",
      "8_2.png\n",
      "(6017, 6017)\n",
      "---------------\n",
      "_08_03_fluorescent_linearRGB.png\n",
      "8_3.png\n",
      "(6017, 6017)\n",
      "---------------\n",
      "_08_04_fluorescent_linearRGB.png\n",
      "8_4.png\n",
      "(6017, 6017)\n",
      "---------------\n",
      "_08_05_fluorescent_linearRGB.png\n",
      "8_5.png\n",
      "(6017, 6017)\n",
      "---------------\n",
      "_08_06_fluorescent_linearRGB.png\n",
      "8_6.png\n",
      "(6017, 6017)\n",
      "---------------\n",
      "_08_07_fluorescent_linearRGB.png\n",
      "8_7.png\n",
      "(6017, 6017)\n",
      "---------------\n",
      "_08_08_fluorescent_linearRGB.png\n",
      "8_8.png\n",
      "(6017, 6017)\n",
      "---------------\n",
      "_08_09_fluorescent_linearRGB.png\n",
      "8_9.png\n",
      "(6017, 6017)\n",
      "---------------\n",
      "_08_10_fluorescent_linearRGB.png\n",
      "8_10.png\n",
      "(6017, 6017)\n",
      "---------------\n",
      "_08_11_fluorescent_linearRGB.png\n",
      "8_11.png\n",
      "(6017, 4701)\n",
      "---------------\n",
      "_09_00_fluorescent_linearRGB.png\n",
      "9_0.png\n",
      "(6017, 6017)\n",
      "---------------\n",
      "_09_01_fluorescent_linearRGB.png\n",
      "9_1.png\n",
      "(6017, 6017)\n",
      "---------------\n",
      "_09_02_fluorescent_linearRGB.png\n",
      "9_2.png\n",
      "(6017, 6017)\n",
      "---------------\n",
      "_09_03_fluorescent_linearRGB.png\n",
      "9_3.png\n",
      "(6017, 6017)\n",
      "---------------\n",
      "_09_04_fluorescent_linearRGB.png\n",
      "9_4.png\n",
      "(6017, 6017)\n",
      "---------------\n",
      "_09_05_fluorescent_linearRGB.png\n",
      "9_5.png\n",
      "(6017, 6017)\n",
      "---------------\n",
      "_09_06_fluorescent_linearRGB.png\n",
      "9_6.png\n",
      "(6017, 6017)\n",
      "---------------\n",
      "_09_07_fluorescent_linearRGB.png\n",
      "9_7.png\n",
      "(6017, 6017)\n",
      "---------------\n",
      "_09_08_fluorescent_linearRGB.png\n",
      "9_8.png\n",
      "(6017, 6017)\n",
      "---------------\n",
      "_09_09_fluorescent_linearRGB.png\n"
     ]
    },
    {
     "name": "stdout",
     "output_type": "stream",
     "text": [
      "9_9.png\n",
      "(6017, 6017)\n",
      "---------------\n",
      "_09_10_fluorescent_linearRGB.png\n",
      "9_10.png\n",
      "(6017, 6017)\n",
      "---------------\n",
      "_09_11_fluorescent_linearRGB.png\n",
      "9_11.png\n",
      "(6017, 4701)\n",
      "---------------\n",
      "_10_00_fluorescent_linearRGB.png\n",
      "10_0.png\n",
      "(6017, 6017)\n",
      "---------------\n",
      "_10_01_fluorescent_linearRGB.png\n",
      "10_1.png\n",
      "(6017, 6017)\n",
      "---------------\n",
      "_10_02_fluorescent_linearRGB.png\n",
      "10_2.png\n",
      "(6017, 6017)\n",
      "---------------\n",
      "_10_03_fluorescent_linearRGB.png\n",
      "10_3.png\n",
      "(6017, 6017)\n",
      "---------------\n",
      "_10_04_fluorescent_linearRGB.png\n",
      "10_4.png\n",
      "(6017, 6017)\n",
      "---------------\n",
      "_10_05_fluorescent_linearRGB.png\n",
      "10_5.png\n",
      "(6017, 6017)\n",
      "---------------\n",
      "_10_06_fluorescent_linearRGB.png\n",
      "10_6.png\n",
      "(6017, 6017)\n",
      "---------------\n",
      "_10_07_fluorescent_linearRGB.png\n",
      "10_7.png\n",
      "(6017, 6017)\n",
      "---------------\n",
      "_10_08_fluorescent_linearRGB.png\n",
      "10_8.png\n",
      "(6017, 6017)\n",
      "---------------\n",
      "_10_09_fluorescent_linearRGB.png\n",
      "10_9.png\n",
      "(6017, 6017)\n",
      "---------------\n",
      "_10_10_fluorescent_linearRGB.png\n",
      "10_10.png\n",
      "(6017, 6017)\n",
      "---------------\n",
      "_10_11_fluorescent_linearRGB.png\n",
      "10_11.png\n",
      "(6017, 4701)\n",
      "---------------\n",
      "_11_00_fluorescent_linearRGB.png\n",
      "11_0.png\n",
      "(6017, 6017)\n",
      "---------------\n",
      "_11_01_fluorescent_linearRGB.png\n",
      "11_1.png\n",
      "(6017, 6017)\n",
      "---------------\n",
      "_11_02_fluorescent_linearRGB.png\n",
      "11_2.png\n",
      "(6017, 6017)\n",
      "---------------\n",
      "_11_03_fluorescent_linearRGB.png\n",
      "11_3.png\n",
      "(6017, 6017)\n",
      "---------------\n",
      "_11_04_fluorescent_linearRGB.png\n",
      "11_4.png\n",
      "(6017, 6017)\n",
      "---------------\n",
      "_11_05_fluorescent_linearRGB.png\n",
      "11_5.png\n",
      "(6017, 6017)\n",
      "---------------\n",
      "_11_06_fluorescent_linearRGB.png\n",
      "11_6.png\n",
      "(6017, 6017)\n",
      "---------------\n",
      "_11_07_fluorescent_linearRGB.png\n",
      "11_7.png\n",
      "(6017, 6017)\n",
      "---------------\n",
      "_11_08_fluorescent_linearRGB.png\n",
      "11_8.png\n",
      "(6017, 6017)\n",
      "---------------\n",
      "_11_09_fluorescent_linearRGB.png\n",
      "11_9.png\n",
      "(6017, 6017)\n",
      "---------------\n",
      "_11_10_fluorescent_linearRGB.png\n",
      "11_10.png\n",
      "(6017, 6017)\n",
      "---------------\n",
      "_11_11_fluorescent_linearRGB.png\n",
      "11_11.png\n",
      "(6017, 4701)\n",
      "---------------\n"
     ]
    }
   ],
   "source": [
    "concatenate_crop_ROI(nb_pixel_x,nb_pixel_y,delta,fov_oct,Folders,offset)"
   ]
  },
  {
   "cell_type": "markdown",
   "metadata": {},
   "source": [
    "# Run Registration on all files"
   ]
  },
  {
   "cell_type": "code",
   "execution_count": 40,
   "metadata": {},
   "outputs": [
    {
     "name": "stdout",
     "output_type": "stream",
     "text": [
      "_00_00_fluorescent_linearRGB.png\n",
      "ERROR: Could not find Registration -- skip FOV\n",
      "_00_01_fluorescent_linearRGB.png\n",
      "ERROR: Could not find Registration -- skip FOV\n",
      "_00_02_fluorescent_linearRGB.png\n",
      "ERROR: Could not find Registration -- skip FOV\n",
      "_00_03_fluorescent_linearRGB.png\n",
      "ERROR: Could not find Registration -- skip FOV\n",
      "_00_04_fluorescent_linearRGB.png\n",
      "Registration Succesful\n",
      "_00_05_fluorescent_linearRGB.png\n",
      "Other Error\n",
      "_00_06_fluorescent_linearRGB.png\n",
      "Other Error\n",
      "_00_07_fluorescent_linearRGB.png\n",
      "Other Error\n",
      "_00_08_fluorescent_linearRGB.png\n",
      "Other Error\n",
      "_00_09_fluorescent_linearRGB.png\n"
     ]
    },
    {
     "ename": "KeyboardInterrupt",
     "evalue": "",
     "output_type": "error",
     "traceback": [
      "\u001b[0;31m---------------------------------------------------------------------------\u001b[0m",
      "\u001b[0;31mKeyboardInterrupt\u001b[0m                         Traceback (most recent call last)",
      "\u001b[0;32m<ipython-input-40-1879510c5a16>\u001b[0m in \u001b[0;36m<module>\u001b[0;34m\u001b[0m\n\u001b[1;32m      1\u001b[0m \u001b[0mth\u001b[0m\u001b[0;34m=\u001b[0m\u001b[0;36m150\u001b[0m\u001b[0;34m\u001b[0m\u001b[0;34m\u001b[0m\u001b[0m\n\u001b[1;32m      2\u001b[0m \u001b[0;34m\u001b[0m\u001b[0m\n\u001b[0;32m----> 3\u001b[0;31m \u001b[0mrun_registration\u001b[0m\u001b[0;34m(\u001b[0m\u001b[0mFolders\u001b[0m\u001b[0;34m,\u001b[0m\u001b[0mth\u001b[0m\u001b[0;34m)\u001b[0m\u001b[0;34m\u001b[0m\u001b[0;34m\u001b[0m\u001b[0m\n\u001b[0m",
      "\u001b[0;32m~/Box/Octopi/Field data processing/Python/helpers.py\u001b[0m in \u001b[0;36mrun_registration\u001b[0;34m(Folders, th)\u001b[0m\n\u001b[1;32m    172\u001b[0m             \u001b[0mfull_image_name\u001b[0m\u001b[0;34m=\u001b[0m\u001b[0mstr\u001b[0m\u001b[0;34m(\u001b[0m\u001b[0mlow_mag_id_1\u001b[0m\u001b[0;34m)\u001b[0m\u001b[0;34m+\u001b[0m\u001b[0;34m'_'\u001b[0m\u001b[0;34m+\u001b[0m\u001b[0mstr\u001b[0m\u001b[0;34m(\u001b[0m\u001b[0mlow_mag_id_2\u001b[0m\u001b[0;34m)\u001b[0m\u001b[0;34m+\u001b[0m\u001b[0mstr\u001b[0m\u001b[0;34m(\u001b[0m\u001b[0;34m'.png'\u001b[0m\u001b[0;34m)\u001b[0m\u001b[0;34m\u001b[0m\u001b[0;34m\u001b[0m\u001b[0m\n\u001b[1;32m    173\u001b[0m             \u001b[0mimg_virtual\u001b[0m\u001b[0;34m=\u001b[0m\u001b[0mcv2\u001b[0m\u001b[0;34m.\u001b[0m\u001b[0mimread\u001b[0m\u001b[0;34m(\u001b[0m\u001b[0mFolders\u001b[0m\u001b[0;34m[\u001b[0m\u001b[0;34m'Virtual'\u001b[0m\u001b[0;34m]\u001b[0m\u001b[0;34m+\u001b[0m\u001b[0mfull_image_name\u001b[0m\u001b[0;34m,\u001b[0m\u001b[0;36m0\u001b[0m\u001b[0;34m)\u001b[0m\u001b[0;34m\u001b[0m\u001b[0;34m\u001b[0m\u001b[0m\n\u001b[0;32m--> 174\u001b[0;31m             \u001b[0mimg_lowMag\u001b[0m\u001b[0;34m=\u001b[0m\u001b[0mcv2\u001b[0m\u001b[0;34m.\u001b[0m\u001b[0mimread\u001b[0m\u001b[0;34m(\u001b[0m\u001b[0mFolders\u001b[0m\u001b[0;34m[\u001b[0m\u001b[0;34m'lowMag'\u001b[0m\u001b[0;34m]\u001b[0m\u001b[0;34m+\u001b[0m\u001b[0mfilename\u001b[0m\u001b[0;34m,\u001b[0m\u001b[0;36m0\u001b[0m\u001b[0;34m)\u001b[0m\u001b[0;34m\u001b[0m\u001b[0;34m\u001b[0m\u001b[0m\n\u001b[0m\u001b[1;32m    175\u001b[0m             \u001b[0;32mtry\u001b[0m\u001b[0;34m:\u001b[0m\u001b[0;34m\u001b[0m\u001b[0;34m\u001b[0m\u001b[0m\n\u001b[1;32m    176\u001b[0m                 \u001b[0mimg_aligned\u001b[0m\u001b[0;34m,\u001b[0m\u001b[0mtransf\u001b[0m\u001b[0;34m,\u001b[0m\u001b[0mpos_img_virtual\u001b[0m\u001b[0;34m,\u001b[0m\u001b[0mpos_img_lM\u001b[0m\u001b[0;34m=\u001b[0m\u001b[0mregister_img\u001b[0m\u001b[0;34m(\u001b[0m\u001b[0mimg_virtual\u001b[0m\u001b[0;34m,\u001b[0m\u001b[0mimg_lowMag\u001b[0m\u001b[0;34m,\u001b[0m\u001b[0mth\u001b[0m\u001b[0;34m)\u001b[0m\u001b[0;34m\u001b[0m\u001b[0;34m\u001b[0m\u001b[0m\n",
      "\u001b[0;31mKeyboardInterrupt\u001b[0m: "
     ]
    }
   ],
   "source": [
    "th=150\n",
    "PIXEL_TOL=50\n",
    "run_registration(Folders,th,PIXEL_TOL)"
   ]
  },
  {
   "cell_type": "markdown",
   "metadata": {},
   "source": [
    "# Registration with AstroAlign -- pipeline for transforming and for checking"
   ]
  },
  {
   "cell_type": "markdown",
   "metadata": {},
   "source": [
    "Source : https://github.com/toros-astro/astroalign/blob/master/README.md"
   ]
  },
  {
   "cell_type": "markdown",
   "metadata": {},
   "source": [
    "## Test on problematic FOVs"
   ]
  },
  {
   "cell_type": "code",
   "execution_count": 5,
   "metadata": {},
   "outputs": [],
   "source": [
    "img_virtual=cv2.imread(Folders['Virtual']+'0_0.png',0)\n",
    "img_lowMag=cv2.imread(Folders['lowMag']+'_00_00_fluorescent_linearRGB.png',0)\n"
   ]
  },
  {
   "cell_type": "code",
   "execution_count": 6,
   "metadata": {},
   "outputs": [],
   "source": [
    "th=150\n",
    "img_virtual_bin=binarize_img(img_virtual,th,True)\n",
    "img_lowMag_bin=binarize_img(img_lowMag,th,False)"
   ]
  },
  {
   "cell_type": "code",
   "execution_count": 38,
   "metadata": {},
   "outputs": [
    {
     "data": {
      "text/plain": [
       "(9, 2)"
      ]
     },
     "execution_count": 38,
     "metadata": {},
     "output_type": "execute_result"
    }
   ],
   "source": [
    "sources_lM=aa._find_sources(img_lowMag_bin)\n",
    "sources_lM.shape"
   ]
  },
  {
   "cell_type": "code",
   "execution_count": 12,
   "metadata": {},
   "outputs": [
    {
     "data": {
      "text/plain": [
       "<matplotlib.image.AxesImage at 0x1c29ec9860>"
      ]
     },
     "execution_count": 12,
     "metadata": {},
     "output_type": "execute_result"
    },
    {
     "data": {
      "image/png": "[encoded data removed]",
      "text/plain": [
       "<Figure size 720x720 with 1 Axes>"
      ]
     },
     "metadata": {
      "needs_background": "light"
     },
     "output_type": "display_data"
    }
   ],
   "source": [
    "plt.figure(figsize=(10,10))\n",
    "plt.imshow(img_lowMag_bin,cmap='gray', vmin=0, vmax=255)"
   ]
  },
  {
   "cell_type": "code",
   "execution_count": 37,
   "metadata": {},
   "outputs": [
    {
     "data": {
      "text/plain": [
       "(21, 2)"
      ]
     },
     "execution_count": 37,
     "metadata": {},
     "output_type": "execute_result"
    }
   ],
   "source": [
    "sources_virtual=aa._find_sources(img_virtual_bin)\n",
    "sources_virtual.shape"
   ]
  },
  {
   "cell_type": "code",
   "execution_count": 13,
   "metadata": {},
   "outputs": [
    {
     "data": {
      "text/plain": [
       "<matplotlib.image.AxesImage at 0x1c2a150828>"
      ]
     },
     "execution_count": 13,
     "metadata": {},
     "output_type": "execute_result"
    },
    {
     "data": {
      "image/png": "[encoded data removed]",
      "text/plain": [
       "<Figure size 720x720 with 1 Axes>"
      ]
     },
     "metadata": {
      "needs_background": "light"
     },
     "output_type": "display_data"
    }
   ],
   "source": [
    "plt.figure(figsize=(10,10))\n",
    "plt.imshow(img_virtual_bin,cmap='gray', vmin=0, vmax=255)"
   ]
  },
  {
   "cell_type": "code",
   "execution_count": 41,
   "metadata": {},
   "outputs": [],
   "source": [
    "img_test=img_virtual_bin[1500:5000,2500:]"
   ]
  },
  {
   "cell_type": "code",
   "execution_count": 55,
   "metadata": {},
   "outputs": [
    {
     "data": {
      "text/plain": [
       "(7, 2)"
      ]
     },
     "execution_count": 55,
     "metadata": {},
     "output_type": "execute_result"
    }
   ],
   "source": [
    "sources_test=aa._find_sources(img_test)\n",
    "sources_test.shape"
   ]
  },
  {
   "cell_type": "code",
   "execution_count": 42,
   "metadata": {},
   "outputs": [
    {
     "data": {
      "text/plain": [
       "<matplotlib.image.AxesImage at 0x1c2a388d68>"
      ]
     },
     "execution_count": 42,
     "metadata": {},
     "output_type": "execute_result"
    },
    {
     "data": {
      "image/png": "[encoded data removed]",
      "text/plain": [
       "<Figure size 720x720 with 1 Axes>"
      ]
     },
     "metadata": {
      "needs_background": "light"
     },
     "output_type": "display_data"
    }
   ],
   "source": [
    "plt.figure(figsize=(10,10))\n",
    "plt.imshow(img_test,cmap='gray', vmin=0, vmax=255)"
   ]
  },
  {
   "cell_type": "markdown",
   "metadata": {},
   "source": [
    "## Run find transform"
   ]
  },
  {
   "cell_type": "code",
   "execution_count": 26,
   "metadata": {},
   "outputs": [],
   "source": [
    "from astroalign_test import *"
   ]
  },
  {
   "cell_type": "code",
   "execution_count": 27,
   "metadata": {},
   "outputs": [
    {
     "name": "stdout",
     "output_type": "stream",
     "text": [
      "TEST\n",
      "Current Max Iter is:  100\n"
     ]
    },
    {
     "ename": "MaxIterError",
     "evalue": "Max iterations exceeded while trying to find acceptable transformation.",
     "output_type": "error",
     "traceback": [
      "\u001b[0;31m---------------------------------------------------------------------------\u001b[0m",
      "\u001b[0;31mMaxIterError\u001b[0m                              Traceback (most recent call last)",
      "\u001b[0;32m<ipython-input-27-171431bdf71e>\u001b[0m in \u001b[0;36m<module>\u001b[0;34m\u001b[0m\n\u001b[0;32m----> 1\u001b[0;31m \u001b[0mtransf\u001b[0m\u001b[0;34m,\u001b[0m \u001b[0;34m(\u001b[0m\u001b[0mpos_img_virtual\u001b[0m\u001b[0;34m,\u001b[0m \u001b[0mpos_img_lM\u001b[0m\u001b[0;34m)\u001b[0m \u001b[0;34m=\u001b[0m \u001b[0mfind_transform\u001b[0m\u001b[0;34m(\u001b[0m\u001b[0mimg_virtual_bin\u001b[0m\u001b[0;34m,\u001b[0m \u001b[0mimg_lowMag_bin\u001b[0m\u001b[0;34m)\u001b[0m\u001b[0;34m\u001b[0m\u001b[0;34m\u001b[0m\u001b[0m\n\u001b[0m",
      "\u001b[0;32m~/Box/Octopi/Field data processing/Python/astroalign_test.py\u001b[0m in \u001b[0;36mfind_transform\u001b[0;34m(source, target)\u001b[0m\n\u001b[1;32m    287\u001b[0m     \u001b[0;32melse\u001b[0m\u001b[0;34m:\u001b[0m\u001b[0;34m\u001b[0m\u001b[0;34m\u001b[0m\u001b[0m\n\u001b[1;32m    288\u001b[0m         best_t, inlier_ind = _ransac(\n\u001b[0;32m--> 289\u001b[0;31m             \u001b[0mmatches\u001b[0m\u001b[0;34m,\u001b[0m \u001b[0minv_model\u001b[0m\u001b[0;34m,\u001b[0m \u001b[0;36m1\u001b[0m\u001b[0;34m,\u001b[0m \u001b[0mmax_iter\u001b[0m\u001b[0;34m,\u001b[0m \u001b[0mPIXEL_TOL\u001b[0m\u001b[0;34m,\u001b[0m \u001b[0mmin_matches\u001b[0m\u001b[0;34m\u001b[0m\u001b[0;34m\u001b[0m\u001b[0m\n\u001b[0m\u001b[1;32m    290\u001b[0m         )\n\u001b[1;32m    291\u001b[0m     \u001b[0mtriangle_inliers\u001b[0m \u001b[0;34m=\u001b[0m \u001b[0mmatches\u001b[0m\u001b[0;34m[\u001b[0m\u001b[0minlier_ind\u001b[0m\u001b[0;34m]\u001b[0m\u001b[0;34m\u001b[0m\u001b[0;34m\u001b[0m\u001b[0m\n",
      "\u001b[0;32m~/Box/Octopi/Field data processing/Python/astroalign_test.py\u001b[0m in \u001b[0;36m_ransac\u001b[0;34m(data, model, min_data_points, max_iter, thresh, min_matches)\u001b[0m\n\u001b[1;32m    481\u001b[0m     \u001b[0;32mif\u001b[0m \u001b[0mbestfit\u001b[0m \u001b[0;32mis\u001b[0m \u001b[0;32mNone\u001b[0m\u001b[0;34m:\u001b[0m\u001b[0;34m\u001b[0m\u001b[0;34m\u001b[0m\u001b[0m\n\u001b[1;32m    482\u001b[0m         raise MaxIterError(\n\u001b[0;32m--> 483\u001b[0;31m             \u001b[0;34m\"Max iterations exceeded while trying to find \"\u001b[0m\u001b[0;34m\u001b[0m\u001b[0;34m\u001b[0m\u001b[0m\n\u001b[0m\u001b[1;32m    484\u001b[0m             \"acceptable transformation.\")\n\u001b[1;32m    485\u001b[0m \u001b[0;34m\u001b[0m\u001b[0m\n",
      "\u001b[0;31mMaxIterError\u001b[0m: Max iterations exceeded while trying to find acceptable transformation."
     ]
    }
   ],
   "source": [
    "transf, (pos_img_virtual, pos_img_lM) = find_transform(img_virtual_bin, img_lowMag_bin)"
   ]
  },
  {
   "cell_type": "code",
   "execution_count": 78,
   "metadata": {},
   "outputs": [],
   "source": [
    "registered_image = aa.apply_transform(transf,img_test, img_lowMag)\n",
    "img_aligned=registered_image[0]*3"
   ]
  },
  {
   "cell_type": "code",
   "execution_count": 84,
   "metadata": {},
   "outputs": [
    {
     "data": {
      "image/png": "[encoded data removed]",
      "text/plain": [
       "<Figure size 720x720 with 4 Axes>"
      ]
     },
     "metadata": {
      "needs_background": "light"
     },
     "output_type": "display_data"
    }
   ],
   "source": [
    "r=60\n",
    "viz_ref_points(img_virtual_bin,img_lowMag_bin,img_aligned,transf,pos_img_virtual,pos_img_lM,r,circles=False)"
   ]
  },
  {
   "cell_type": "code",
   "execution_count": null,
   "metadata": {},
   "outputs": [],
   "source": []
  }
 ],
 "metadata": {
  "kernelspec": {
   "display_name": "Python 3",
   "language": "python",
   "name": "python3"
  },
  "language_info": {
   "codemirror_mode": {
    "name": "ipython",
    "version": 3
   },
   "file_extension": ".py",
   "mimetype": "text/x-python",
   "name": "python",
   "nbconvert_exporter": "python",
   "pygments_lexer": "ipython3",
   "version": "3.6.8"
  },
  "toc": {
   "base_numbering": 1,
   "nav_menu": {},
   "number_sections": true,
   "sideBar": true,
   "skip_h1_title": false,
   "title_cell": "Table of Contents",
   "title_sidebar": "Contents",
   "toc_cell": true,
   "toc_position": {
    "height": "calc(100% - 180px)",
    "left": "10px",
    "top": "150px",
    "width": "250.08152770996094px"
   },
   "toc_section_display": true,
   "toc_window_display": true
  },
  "varInspector": {
   "cols": {
    "lenName": 16,
    "lenType": 16,
    "lenVar": 40
   },
   "kernels_config": {
    "python": {
     "delete_cmd_postfix": "",
     "delete_cmd_prefix": "del ",
     "library": "var_list.py",
     "varRefreshCmd": "print(var_dic_list())"
    },
    "r": {
     "delete_cmd_postfix": ") ",
     "delete_cmd_prefix": "rm(",
     "library": "var_list.r",
     "varRefreshCmd": "cat(var_dic_list()) "
    }
   },
   "types_to_exclude": [
    "module",
    "function",
    "builtin_function_or_method",
    "instance",
    "_Feature"
   ],
   "window_display": false
  }
 },
 "nbformat": 4,
 "nbformat_minor": 2
}
