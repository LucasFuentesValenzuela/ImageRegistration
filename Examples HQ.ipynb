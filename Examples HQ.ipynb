{
 "cells": [
  {
   "cell_type": "markdown",
   "metadata": {
    "toc": true
   },
   "source": [
    "<h1>Table of Contents<span class=\"tocSkip\"></span></h1>\n",
    "<div class=\"toc\"><ul class=\"toc-item\"><li><span><a href=\"#Concatenate-FOVs,-then-crop-useful-region\" data-toc-modified-id=\"Concatenate-FOVs,-then-crop-useful-region-1\"><span class=\"toc-item-num\">1&nbsp;&nbsp;</span>Concatenate FOVs, then crop useful region</a></span></li><li><span><a href=\"#Run-Registration-on-all-files\" data-toc-modified-id=\"Run-Registration-on-all-files-2\"><span class=\"toc-item-num\">2&nbsp;&nbsp;</span>Run Registration on all files</a></span></li><li><span><a href=\"#Registration-with-AstroAlign----pipeline-for-transforming-and-for-checking\" data-toc-modified-id=\"Registration-with-AstroAlign----pipeline-for-transforming-and-for-checking-3\"><span class=\"toc-item-num\">3&nbsp;&nbsp;</span>Registration with AstroAlign -- pipeline for transforming and for checking</a></span><ul class=\"toc-item\"><li><span><a href=\"#Test-on-problematic-FOVs\" data-toc-modified-id=\"Test-on-problematic-FOVs-3.1\"><span class=\"toc-item-num\">3.1&nbsp;&nbsp;</span>Test on problematic FOVs</a></span></li><li><span><a href=\"#Run-find-transform\" data-toc-modified-id=\"Run-find-transform-3.2\"><span class=\"toc-item-num\">3.2&nbsp;&nbsp;</span>Run find transform</a></span></li></ul></li></ul></div>"
   ]
  },
  {
   "cell_type": "code",
   "execution_count": 3,
   "metadata": {},
   "outputs": [
    {
     "name": "stdout",
     "output_type": "stream",
     "text": [
      "The autoreload extension is already loaded. To reload it, use:\n",
      "  %reload_ext autoreload\n"
     ]
    }
   ],
   "source": [
    "%load_ext autoreload\n",
    "%autoreload 2\n",
    "import numpy as np\n",
    "import matplotlib.pyplot as plt\n",
    "import cv2\n",
    "import re\n",
    "import os\n",
    "\n",
    "import tifffile as tiff\n",
    "from helpers import *\n",
    "from astroalign_test import *"
   ]
  },
  {
   "cell_type": "markdown",
   "metadata": {},
   "source": [
    "Note: the setup variable denotes the different configurations of images. \n",
    "For 16C, setup = 2. \n",
    "\n",
    "In the section below, you should replace the Volume path appropriatey. "
   ]
  },
  {
   "cell_type": "code",
   "execution_count": 1,
   "metadata": {},
   "outputs": [
    {
     "ename": "NameError",
     "evalue": "name 'os' is not defined",
     "output_type": "error",
     "traceback": [
      "\u001b[0;31m---------------------------------------------------------------------------\u001b[0m",
      "\u001b[0;31mNameError\u001b[0m                                 Traceback (most recent call last)",
      "\u001b[0;32m<ipython-input-1-91fd93a8d88e>\u001b[0m in \u001b[0;36m<module>\u001b[0;34m\u001b[0m\n\u001b[1;32m     19\u001b[0m \u001b[0;34m\u001b[0m\u001b[0m\n\u001b[1;32m     20\u001b[0m     \u001b[0mFolders\u001b[0m\u001b[0;34m=\u001b[0m\u001b[0mdict\u001b[0m\u001b[0;34m(\u001b[0m\u001b[0;34m)\u001b[0m\u001b[0;34m\u001b[0m\u001b[0;34m\u001b[0m\u001b[0m\n\u001b[0;32m---> 21\u001b[0;31m     \u001b[0mFolders\u001b[0m\u001b[0;34m[\u001b[0m\u001b[0;34m'HighMag_part1'\u001b[0m\u001b[0;34m]\u001b[0m\u001b[0;34m=\u001b[0m\u001b[0mos\u001b[0m\u001b[0;34m.\u001b[0m\u001b[0mpath\u001b[0m\u001b[0;34m.\u001b[0m\u001b[0mjoin\u001b[0m\u001b[0;34m(\u001b[0m\u001b[0mVolume\u001b[0m\u001b[0;34m,\u001b[0m\u001b[0;34m'stitched/'\u001b[0m\u001b[0;34m)\u001b[0m\u001b[0;34m\u001b[0m\u001b[0;34m\u001b[0m\u001b[0m\n\u001b[0m\u001b[1;32m     22\u001b[0m     \u001b[0mFolders\u001b[0m\u001b[0;34m[\u001b[0m\u001b[0;34m'lowMag'\u001b[0m\u001b[0;34m]\u001b[0m\u001b[0;34m=\u001b[0m\u001b[0mos\u001b[0m\u001b[0;34m.\u001b[0m\u001b[0mpath\u001b[0m\u001b[0;34m.\u001b[0m\u001b[0mjoin\u001b[0m\u001b[0;34m(\u001b[0m\u001b[0mVolume\u001b[0m\u001b[0;34m,\u001b[0m\u001b[0;34m'BGremoved/'\u001b[0m\u001b[0;34m)\u001b[0m\u001b[0;34m\u001b[0m\u001b[0;34m\u001b[0m\u001b[0m\n\u001b[1;32m     23\u001b[0m     \u001b[0mFolders\u001b[0m\u001b[0;34m[\u001b[0m\u001b[0;34m'HighMag_RF'\u001b[0m\u001b[0;34m]\u001b[0m\u001b[0;34m=\u001b[0m\u001b[0mos\u001b[0m\u001b[0;34m.\u001b[0m\u001b[0mpath\u001b[0m\u001b[0;34m.\u001b[0m\u001b[0mjoin\u001b[0m\u001b[0;34m(\u001b[0m\u001b[0mVolume\u001b[0m\u001b[0;34m,\u001b[0m\u001b[0;34m'HighMag_RF/'\u001b[0m\u001b[0;34m)\u001b[0m\u001b[0;34m\u001b[0m\u001b[0;34m\u001b[0m\u001b[0m\n",
      "\u001b[0;31mNameError\u001b[0m: name 'os' is not defined"
     ]
    }
   ],
   "source": [
    "setup=2\n",
    "\n",
    "if setup==1: #like 3C\n",
    "\n",
    "    #If fetched from the server\n",
    "\n",
    "    Folders=dict()\n",
    "    Folders['HighMag_part1']='/Volumes/prakash-lab/Projects/Octopi/3C, scan 1, part 1 split/'\n",
    "    Folders['HighMag_part2']='/Volumes/prakash-lab/Projects/Octopi/3C, scan 1, part 2 split/'\n",
    "    Folders['lowMag']='../3C Octopi/BGremoved/'\n",
    "    Folders['HighMag_RF']='../3C Octopi/HighMag_RF/'\n",
    "    Folders['Virtual']='../3C Octopi/HighMag_Tiled/'\n",
    "    Folders['Aligned']='../3C Octopi/Registered/'\n",
    "\n",
    "elif setup==2: #like 16C\n",
    "\n",
    "    #If fetched from the SSD\n",
    "    Volume='/Volumes/Extreme SSD/16C_1part/'\n",
    "\n",
    "    Folders=dict()\n",
    "    Folders['HighMag_part1']=os.path.join(Volume,'stitched/')\n",
    "    Folders['lowMag']=os.path.join(Volume,'BGremoved/')\n",
    "    Folders['HighMag_RF']=os.path.join(Volume,'HighMag_RF/')\n",
    "    Folders['Virtual']=os.path.join(Volume,'HighMag_Tiled/')\n",
    "    Folders['Aligned']=os.path.join(Volume,'Registered/')"
   ]
  },
  {
   "cell_type": "markdown",
   "metadata": {},
   "source": [
    "# Concatenate FOVs, then crop useful region"
   ]
  },
  {
   "cell_type": "code",
   "execution_count": 5,
   "metadata": {},
   "outputs": [],
   "source": [
    "#high mag\n",
    "pixel_size=0.365623*10**-6\n",
    "# nb_pixel_y=3081\n",
    "# nb_pixel_x=2755\n",
    "\n",
    "#have to improve how this is handled\n",
    "nb_pixel=dict()\n",
    "nb_pixel['y']=4000\n",
    "nb_pixel['x']=3000"
   ]
  },
  {
   "cell_type": "code",
   "execution_count": 15,
   "metadata": {},
   "outputs": [],
   "source": [
    "#OCTOPI\n",
    "fov_oct=1.6*10**-3\n",
    "\n",
    "#These parameters have to be determined in advance, manually\n",
    "#3C\n",
    "if setup==1:\n",
    "    offset=dict()\n",
    "    offset['x']=3000*pixel_size\n",
    "    offset['y']=0*pixel_size\n",
    "    offset['x_part2']=260*pixel_size\n",
    "    offset['y_part2']=32*pixel_size\n",
    "elif setup==2:\n",
    "    offset=dict()\n",
    "    #the offsets have to be checked afterwards\n",
    "    offset['x']=1200*pixel_size\n",
    "    offset['y']=1200*pixel_size\n",
    "\n",
    "#difference on each side, manual parameter\n",
    "delta=3*10**-4"
   ]
  },
  {
   "cell_type": "code",
   "execution_count": 17,
   "metadata": {
    "scrolled": true
   },
   "outputs": [
    {
     "name": "stderr",
     "output_type": "stream",
     "text": [
      "\n",
      "  0%|          | 0/150 [00:00<?, ?it/s]\u001b[A"
     ]
    },
    {
     "name": "stdout",
     "output_type": "stream",
     "text": [
      "_0000_0001_fluorescent.png\n",
      "0_1\n",
      "skipping\n",
      "_0002_0002_fluorescent.png\n",
      "2_2\n",
      "skipping\n",
      "_0006_0004_fluorescent.png\n",
      "6_4\n",
      "skipping\n",
      "_0010_0005_fluorescent.png\n",
      "10_5\n",
      "skipping\n",
      "_0004_0007_fluorescent.png\n",
      "4_7\n",
      "skipping\n",
      "_0007_0002_fluorescent.png\n",
      "7_2\n",
      "skipping\n",
      "_0011_0003_fluorescent.png\n",
      "11_3\n",
      "skipping\n",
      "_0005_0001_fluorescent.png\n",
      "5_1\n",
      "skipping\n",
      "_0001_0007_fluorescent.png\n",
      "1_7\n",
      "skipping\n",
      "_0003_0004_fluorescent.png\n",
      "3_4\n",
      "skipping\n",
      "_0004_0011_fluorescent.png\n",
      "4_11\n",
      "x_s, x_e:  0.0177387476 0.0199387476\n",
      "y_s, y_e:  0.0065387476 0.008738747600000001\n",
      "frame y end:  8\n",
      "frame y start 6\n"
     ]
    },
    {
     "name": "stderr",
     "output_type": "stream",
     "text": [
      "\n",
      " 11%|█▏        | 17/150 [00:05<00:45,  2.92it/s]\u001b[A"
     ]
    },
    {
     "name": "stdout",
     "output_type": "stream",
     "text": [
      "_0008_0002_fluorescent.png\n",
      "8_2\n",
      "x_s, x_e:  0.0033387476 0.0055387476\n",
      "y_s, y_e:  0.012938747600000002 0.015138747600000002\n",
      "frame y end:  14\n",
      "frame y start 12\n"
     ]
    },
    {
     "name": "stderr",
     "output_type": "stream",
     "text": [
      "\n",
      " 12%|█▏        | 18/150 [00:11<04:32,  2.06s/it]\u001b[A"
     ]
    },
    {
     "name": "stdout",
     "output_type": "stream",
     "text": [
      "_0001_0008_fluorescent.png\n",
      "1_8\n",
      "x_s, x_e:  0.012938747600000002 0.015138747600000002\n",
      "y_s, y_e:  0.0017387476 0.0039387476\n",
      "frame y end:  4\n",
      "frame y start 2\n"
     ]
    },
    {
     "name": "stderr",
     "output_type": "stream",
     "text": [
      "\n",
      " 13%|█▎        | 19/150 [00:16<06:13,  2.85s/it]\u001b[A"
     ]
    },
    {
     "name": "stdout",
     "output_type": "stream",
     "text": [
      "_0009_0004_fluorescent.png\n",
      "9_4\n",
      "x_s, x_e:  0.0065387476 0.008738747600000001\n",
      "y_s, y_e:  0.014538747600000002 0.016738747600000003\n",
      "frame y end:  16\n",
      "frame y start 14\n"
     ]
    },
    {
     "name": "stderr",
     "output_type": "stream",
     "text": [
      "\n",
      " 13%|█▎        | 20/150 [00:21<07:25,  3.43s/it]\u001b[A"
     ]
    },
    {
     "name": "stdout",
     "output_type": "stream",
     "text": [
      "_0001_0011_fluorescent.png\n",
      "1_11\n",
      "x_s, x_e:  0.0177387476 0.0199387476\n",
      "y_s, y_e:  0.0017387476 0.0039387476\n",
      "frame y end:  4\n",
      "frame y start 2\n"
     ]
    },
    {
     "name": "stderr",
     "output_type": "stream",
     "text": [
      "\n",
      " 14%|█▍        | 21/150 [00:26<08:11,  3.81s/it]\u001b[A"
     ]
    },
    {
     "name": "stdout",
     "output_type": "stream",
     "text": [
      "_0004_0008_fluorescent.png\n",
      "4_8\n",
      "x_s, x_e:  0.012938747600000002 0.015138747600000002\n",
      "y_s, y_e:  0.0065387476 0.008738747600000001\n",
      "frame y end:  8\n",
      "frame y start 6\n"
     ]
    },
    {
     "name": "stderr",
     "output_type": "stream",
     "text": [
      "\n",
      " 15%|█▍        | 22/150 [00:30<08:44,  4.10s/it]\u001b[A"
     ]
    },
    {
     "name": "stdout",
     "output_type": "stream",
     "text": [
      "_0005_0010_fluorescent.png\n",
      "5_10\n",
      "x_s, x_e:  0.0161387476 0.0183387476\n",
      "y_s, y_e:  0.0081387476 0.0103387476\n",
      "frame y end:  10\n",
      "frame y start 8\n"
     ]
    },
    {
     "name": "stderr",
     "output_type": "stream",
     "text": [
      "\n",
      " 15%|█▌        | 23/150 [00:39<11:16,  5.32s/it]\u001b[A"
     ]
    },
    {
     "name": "stdout",
     "output_type": "stream",
     "text": [
      "_0000_0009_fluorescent.png\n",
      "0_9\n",
      "x_s, x_e:  0.014538747600000002 0.016738747600000003\n",
      "y_s, y_e:  0.00043874759999999995 0.0026387475999999997\n",
      "frame y end:  3\n",
      "frame y start 1\n"
     ]
    },
    {
     "name": "stderr",
     "output_type": "stream",
     "text": [
      "\n",
      " 16%|█▌        | 24/150 [00:45<11:57,  5.70s/it]\u001b[A"
     ]
    },
    {
     "name": "stdout",
     "output_type": "stream",
     "text": [
      "_0009_0003_fluorescent.png\n",
      "9_3\n",
      "x_s, x_e:  0.0049387476000000005 0.0071387476\n",
      "y_s, y_e:  0.014538747600000002 0.016738747600000003\n",
      "frame y end:  16\n",
      "frame y start 14\n"
     ]
    },
    {
     "name": "stderr",
     "output_type": "stream",
     "text": [
      "\n",
      " 17%|█▋        | 25/150 [00:51<11:46,  5.65s/it]\u001b[A"
     ]
    },
    {
     "name": "stdout",
     "output_type": "stream",
     "text": [
      "_0000_0010_fluorescent.png\n",
      "0_10\n",
      "x_s, x_e:  0.0161387476 0.0183387476\n",
      "y_s, y_e:  0.00043874759999999995 0.0026387475999999997\n",
      "frame y end:  3\n",
      "frame y start 1\n"
     ]
    },
    {
     "name": "stderr",
     "output_type": "stream",
     "text": [
      "\n",
      " 17%|█▋        | 26/150 [00:56<11:33,  5.59s/it]\u001b[A"
     ]
    },
    {
     "name": "stdout",
     "output_type": "stream",
     "text": [
      "_0008_0005_fluorescent.png\n",
      "8_5\n",
      "x_s, x_e:  0.0081387476 0.0103387476\n",
      "y_s, y_e:  0.012938747600000002 0.015138747600000002\n",
      "frame y end:  14\n",
      "frame y start 12\n"
     ]
    },
    {
     "name": "stderr",
     "output_type": "stream",
     "text": [
      "\n",
      " 18%|█▊        | 27/150 [01:02<11:37,  5.67s/it]\u001b[A"
     ]
    },
    {
     "name": "stdout",
     "output_type": "stream",
     "text": [
      "_0005_0009_fluorescent.png\n",
      "5_9\n",
      "x_s, x_e:  0.014538747600000002 0.016738747600000003\n",
      "y_s, y_e:  0.0081387476 0.0103387476\n",
      "frame y end:  10\n",
      "frame y start 8\n"
     ]
    },
    {
     "name": "stderr",
     "output_type": "stream",
     "text": [
      "\n",
      " 19%|█▊        | 28/150 [01:08<11:30,  5.66s/it]\u001b[A"
     ]
    },
    {
     "name": "stdout",
     "output_type": "stream",
     "text": [
      "_0003_0003_fluorescent.png\n",
      "3_3\n",
      "x_s, x_e:  0.0049387476000000005 0.0071387476\n",
      "y_s, y_e:  0.0049387476000000005 0.0071387476\n",
      "frame y end:  7\n",
      "frame y start 5\n"
     ]
    },
    {
     "name": "stderr",
     "output_type": "stream",
     "text": [
      "\n",
      " 19%|█▉        | 29/150 [01:12<10:55,  5.42s/it]\u001b[A"
     ]
    },
    {
     "name": "stdout",
     "output_type": "stream",
     "text": [
      "_0001_0000_fluorescent.png\n",
      "1_0\n",
      "x_s, x_e:  0.00043874759999999995 0.0026387475999999997\n",
      "y_s, y_e:  0.0017387476 0.0039387476\n",
      "frame y end:  4\n",
      "frame y start 2\n"
     ]
    },
    {
     "name": "stderr",
     "output_type": "stream",
     "text": [
      "\n",
      " 20%|██        | 30/150 [01:17<10:35,  5.29s/it]\u001b[A"
     ]
    },
    {
     "name": "stdout",
     "output_type": "stream",
     "text": [
      "_0005_0006_fluorescent.png\n",
      "5_6\n",
      "x_s, x_e:  0.0097387476 0.0119387476\n",
      "y_s, y_e:  0.0081387476 0.0103387476\n",
      "frame y end:  10\n",
      "frame y start 8\n"
     ]
    },
    {
     "name": "stderr",
     "output_type": "stream",
     "text": [
      "\n",
      " 21%|██        | 31/150 [01:24<11:10,  5.64s/it]\u001b[A"
     ]
    },
    {
     "name": "stdout",
     "output_type": "stream",
     "text": [
      "_0011_0004_fluorescent.png\n",
      "11_4\n",
      "x_s, x_e:  0.0065387476 0.008738747600000001\n",
      "y_s, y_e:  0.0177387476 0.0199387476\n",
      "frame y end:  19\n",
      "frame y start 17\n"
     ]
    },
    {
     "name": "stderr",
     "output_type": "stream",
     "text": [
      "\n",
      " 21%|██▏       | 32/150 [01:29<10:31,  5.35s/it]\u001b[A"
     ]
    },
    {
     "name": "stdout",
     "output_type": "stream",
     "text": [
      "_0007_0005_fluorescent.png\n",
      "7_5\n",
      "x_s, x_e:  0.0081387476 0.0103387476\n",
      "y_s, y_e:  0.0113387476 0.013538747600000001\n",
      "frame y end:  13\n",
      "frame y start 11\n"
     ]
    },
    {
     "name": "stderr",
     "output_type": "stream",
     "text": [
      "\n",
      " 22%|██▏       | 33/150 [01:34<10:28,  5.37s/it]\u001b[A"
     ]
    },
    {
     "name": "stdout",
     "output_type": "stream",
     "text": [
      "_0004_0000_fluorescent.png\n",
      "4_0\n",
      "x_s, x_e:  0.00043874759999999995 0.0026387475999999997\n",
      "y_s, y_e:  0.0065387476 0.008738747600000001\n",
      "frame y end:  8\n",
      "frame y start 6\n"
     ]
    },
    {
     "name": "stderr",
     "output_type": "stream",
     "text": [
      "\n",
      " 23%|██▎       | 34/150 [01:39<10:02,  5.20s/it]\u001b[A"
     ]
    },
    {
     "name": "stdout",
     "output_type": "stream",
     "text": [
      "_0010_0002_fluorescent.png\n",
      "10_2\n",
      "x_s, x_e:  0.0033387476 0.0055387476\n",
      "y_s, y_e:  0.0161387476 0.0183387476\n",
      "frame y end:  17\n",
      "frame y start 15\n"
     ]
    },
    {
     "name": "stderr",
     "output_type": "stream",
     "text": [
      "\n",
      " 23%|██▎       | 35/150 [01:44<10:11,  5.31s/it]\u001b[A"
     ]
    },
    {
     "name": "stdout",
     "output_type": "stream",
     "text": [
      "_0006_0003_fluorescent.png\n",
      "6_3\n",
      "x_s, x_e:  0.0049387476000000005 0.0071387476\n",
      "y_s, y_e:  0.0097387476 0.0119387476\n",
      "frame y end:  11\n",
      "frame y start 9\n"
     ]
    },
    {
     "name": "stderr",
     "output_type": "stream",
     "text": [
      "\n",
      " 24%|██▍       | 36/150 [01:49<09:42,  5.11s/it]\u001b[A"
     ]
    },
    {
     "name": "stdout",
     "output_type": "stream",
     "text": [
      "_0002_0005_fluorescent.png\n",
      "2_5\n",
      "x_s, x_e:  0.0081387476 0.0103387476\n",
      "y_s, y_e:  0.0033387476 0.0055387476\n",
      "frame y end:  6\n",
      "frame y start 4\n"
     ]
    },
    {
     "name": "stderr",
     "output_type": "stream",
     "text": [
      "\n",
      " 25%|██▍       | 37/150 [01:54<09:49,  5.22s/it]\u001b[A"
     ]
    },
    {
     "name": "stdout",
     "output_type": "stream",
     "text": [
      "_0000_0006_fluorescent.png\n",
      "0_6\n",
      "x_s, x_e:  0.0097387476 0.0119387476\n",
      "y_s, y_e:  0.00043874759999999995 0.0026387475999999997\n",
      "frame y end:  3\n",
      "frame y start 1\n"
     ]
    },
    {
     "name": "stderr",
     "output_type": "stream",
     "text": [
      "\n",
      " 25%|██▌       | 38/150 [02:02<10:58,  5.88s/it]\u001b[A"
     ]
    },
    {
     "name": "stdout",
     "output_type": "stream",
     "text": [
      "_0000_0008_fluorescent.png\n",
      "0_8\n",
      "x_s, x_e:  0.012938747600000002 0.015138747600000002\n",
      "y_s, y_e:  0.00043874759999999995 0.0026387475999999997\n",
      "frame y end:  3\n",
      "frame y start 1\n"
     ]
    },
    {
     "name": "stderr",
     "output_type": "stream",
     "text": [
      "\n",
      " 26%|██▌       | 39/150 [02:09<11:20,  6.13s/it]\u001b[A"
     ]
    },
    {
     "name": "stdout",
     "output_type": "stream",
     "text": [
      "_0009_0002_fluorescent.png\n",
      "9_2\n",
      "x_s, x_e:  0.0033387476 0.0055387476\n",
      "y_s, y_e:  0.014538747600000002 0.016738747600000003\n",
      "frame y end:  16\n",
      "frame y start 14\n"
     ]
    },
    {
     "name": "stderr",
     "output_type": "stream",
     "text": [
      "\n",
      " 27%|██▋       | 40/150 [02:16<12:01,  6.56s/it]\u001b[A"
     ]
    },
    {
     "name": "stdout",
     "output_type": "stream",
     "text": [
      "_0005_0011_fluorescent.png\n",
      "5_11\n",
      "x_s, x_e:  0.0177387476 0.0199387476\n",
      "y_s, y_e:  0.0081387476 0.0103387476\n",
      "frame y end:  10\n",
      "frame y start 8\n"
     ]
    },
    {
     "name": "stderr",
     "output_type": "stream",
     "text": [
      "\n",
      " 27%|██▋       | 41/150 [02:21<10:59,  6.05s/it]\u001b[A"
     ]
    },
    {
     "name": "stdout",
     "output_type": "stream",
     "text": [
      "_0005_0008_fluorescent.png\n",
      "5_8\n",
      "x_s, x_e:  0.012938747600000002 0.015138747600000002\n",
      "y_s, y_e:  0.0081387476 0.0103387476\n",
      "frame y end:  10\n",
      "frame y start 8\n"
     ]
    },
    {
     "name": "stderr",
     "output_type": "stream",
     "text": [
      "\n",
      " 28%|██▊       | 42/150 [02:26<10:06,  5.61s/it]\u001b[A"
     ]
    },
    {
     "name": "stdout",
     "output_type": "stream",
     "text": [
      "_0000_0011_fluorescent.png\n",
      "0_11\n",
      "x_s, x_e:  0.0177387476 0.0199387476\n",
      "y_s, y_e:  0.00043874759999999995 0.0026387475999999997\n",
      "frame y end:  3\n",
      "frame y start 1\n"
     ]
    },
    {
     "name": "stderr",
     "output_type": "stream",
     "text": [
      "\n",
      " 29%|██▊       | 43/150 [02:31<09:42,  5.44s/it]\u001b[A"
     ]
    },
    {
     "name": "stdout",
     "output_type": "stream",
     "text": [
      "_0008_0004_fluorescent.png\n",
      "8_4\n",
      "x_s, x_e:  0.0065387476 0.008738747600000001\n",
      "y_s, y_e:  0.012938747600000002 0.015138747600000002\n",
      "frame y end:  14\n",
      "frame y start 12\n"
     ]
    },
    {
     "name": "stderr",
     "output_type": "stream",
     "text": [
      "\n",
      " 29%|██▉       | 44/150 [02:36<09:21,  5.30s/it]\u001b[A"
     ]
    },
    {
     "name": "stdout",
     "output_type": "stream",
     "text": [
      "_0005_0007_fluorescent.png\n",
      "5_7\n",
      "x_s, x_e:  0.0113387476 0.013538747600000001\n",
      "y_s, y_e:  0.0081387476 0.0103387476\n",
      "frame y end:  10\n",
      "frame y start 8\n"
     ]
    },
    {
     "name": "stderr",
     "output_type": "stream",
     "text": [
      "\n",
      " 30%|███       | 45/150 [02:40<08:50,  5.06s/it]\u001b[A"
     ]
    },
    {
     "name": "stdout",
     "output_type": "stream",
     "text": [
      "_0011_0005_fluorescent.png\n",
      "11_5\n",
      "x_s, x_e:  0.0081387476 0.0103387476\n",
      "y_s, y_e:  0.0177387476 0.0199387476\n",
      "frame y end:  19\n",
      "frame y start 17\n"
     ]
    },
    {
     "name": "stderr",
     "output_type": "stream",
     "text": [
      "\n",
      " 31%|███       | 46/150 [02:46<09:12,  5.31s/it]\u001b[A"
     ]
    },
    {
     "name": "stdout",
     "output_type": "stream",
     "text": [
      "_0007_0004_fluorescent.png\n",
      "7_4\n",
      "x_s, x_e:  0.0065387476 0.008738747600000001\n",
      "y_s, y_e:  0.0113387476 0.013538747600000001\n",
      "frame y end:  13\n",
      "frame y start 11\n"
     ]
    },
    {
     "name": "stderr",
     "output_type": "stream",
     "text": [
      "\n",
      " 31%|███▏      | 47/150 [02:51<09:02,  5.27s/it]\u001b[A"
     ]
    },
    {
     "name": "stdout",
     "output_type": "stream",
     "text": [
      "_0003_0002_fluorescent.png\n",
      "3_2\n",
      "x_s, x_e:  0.0033387476 0.0055387476\n",
      "y_s, y_e:  0.0049387476000000005 0.0071387476\n",
      "frame y end:  7\n",
      "frame y start 5\n"
     ]
    },
    {
     "name": "stderr",
     "output_type": "stream",
     "text": [
      "\n",
      " 32%|███▏      | 48/150 [02:58<09:37,  5.66s/it]\u001b[A"
     ]
    },
    {
     "name": "stdout",
     "output_type": "stream",
     "text": [
      "_0001_0001_fluorescent.png\n",
      "1_1\n",
      "x_s, x_e:  0.0017387476 0.0039387476\n",
      "y_s, y_e:  0.0017387476 0.0039387476\n",
      "frame y end:  4\n",
      "frame y start 2\n"
     ]
    },
    {
     "name": "stderr",
     "output_type": "stream",
     "text": [
      "\n",
      " 33%|███▎      | 49/150 [03:06<10:52,  6.46s/it]\u001b[A"
     ]
    },
    {
     "name": "stdout",
     "output_type": "stream",
     "text": [
      "_0002_0004_fluorescent.png\n",
      "2_4\n",
      "x_s, x_e:  0.0065387476 0.008738747600000001\n",
      "y_s, y_e:  0.0033387476 0.0055387476\n",
      "frame y end:  6\n",
      "frame y start 4\n"
     ]
    },
    {
     "name": "stderr",
     "output_type": "stream",
     "text": [
      "\n",
      " 33%|███▎      | 50/150 [03:13<11:05,  6.65s/it]\u001b[A"
     ]
    },
    {
     "name": "stdout",
     "output_type": "stream",
     "text": [
      "_0000_0007_fluorescent.png\n",
      "0_7\n",
      "x_s, x_e:  0.0113387476 0.013538747600000001\n",
      "y_s, y_e:  0.00043874759999999995 0.0026387475999999997\n",
      "frame y end:  3\n",
      "frame y start 1\n"
     ]
    },
    {
     "name": "stderr",
     "output_type": "stream",
     "text": [
      "\n",
      " 34%|███▍      | 51/150 [03:18<10:05,  6.12s/it]\u001b[A"
     ]
    },
    {
     "name": "stdout",
     "output_type": "stream",
     "text": [
      "_0004_0001_fluorescent.png\n",
      "4_1\n",
      "x_s, x_e:  0.0017387476 0.0039387476\n",
      "y_s, y_e:  0.0065387476 0.008738747600000001\n",
      "frame y end:  8\n",
      "frame y start 6\n"
     ]
    },
    {
     "name": "stderr",
     "output_type": "stream",
     "text": [
      "\n",
      " 35%|███▍      | 52/150 [03:24<09:57,  6.10s/it]\u001b[A"
     ]
    },
    {
     "name": "stdout",
     "output_type": "stream",
     "text": [
      "_0010_0003_fluorescent.png\n",
      "10_3\n",
      "x_s, x_e:  0.0049387476000000005 0.0071387476\n",
      "y_s, y_e:  0.0161387476 0.0183387476\n",
      "frame y end:  17\n",
      "frame y start 15\n"
     ]
    },
    {
     "name": "stderr",
     "output_type": "stream",
     "text": [
      "\n",
      " 35%|███▌      | 53/150 [03:29<09:12,  5.70s/it]\u001b[A"
     ]
    },
    {
     "name": "stdout",
     "output_type": "stream",
     "text": [
      "_0006_0002_fluorescent.png\n",
      "6_2\n",
      "x_s, x_e:  0.0033387476 0.0055387476\n",
      "y_s, y_e:  0.0097387476 0.0119387476\n",
      "frame y end:  11\n",
      "frame y start 9\n"
     ]
    },
    {
     "name": "stderr",
     "output_type": "stream",
     "text": [
      "\n",
      " 36%|███▌      | 54/150 [03:35<09:06,  5.69s/it]\u001b[A"
     ]
    },
    {
     "name": "stdout",
     "output_type": "stream",
     "text": [
      "_0006_0005_fluorescent.png\n",
      "6_5\n",
      "x_s, x_e:  0.0081387476 0.0103387476\n",
      "y_s, y_e:  0.0097387476 0.0119387476\n",
      "frame y end:  11\n",
      "frame y start 9\n"
     ]
    },
    {
     "name": "stderr",
     "output_type": "stream",
     "text": [
      "\n",
      " 37%|███▋      | 55/150 [03:40<08:54,  5.63s/it]\u001b[A"
     ]
    },
    {
     "name": "stdout",
     "output_type": "stream",
     "text": [
      "_0010_0004_fluorescent.png\n",
      "10_4\n",
      "x_s, x_e:  0.0065387476 0.008738747600000001\n",
      "y_s, y_e:  0.0161387476 0.0183387476\n",
      "frame y end:  17\n",
      "frame y start 15\n"
     ]
    },
    {
     "name": "stderr",
     "output_type": "stream",
     "text": [
      "\n",
      " 37%|███▋      | 56/150 [03:45<08:21,  5.34s/it]\u001b[A"
     ]
    },
    {
     "name": "stdout",
     "output_type": "stream",
     "text": [
      "_0004_0006_fluorescent.png\n",
      "4_6\n",
      "x_s, x_e:  0.0097387476 0.0119387476\n",
      "y_s, y_e:  0.0065387476 0.008738747600000001\n",
      "frame y end:  8\n",
      "frame y start 6\n"
     ]
    },
    {
     "name": "stderr",
     "output_type": "stream",
     "text": [
      "\n",
      " 38%|███▊      | 57/150 [03:50<08:23,  5.41s/it]\u001b[A"
     ]
    },
    {
     "name": "stdout",
     "output_type": "stream",
     "text": [
      "_0000_0000_fluorescent.png\n",
      "0_0\n",
      "x_s, x_e:  0.00043874759999999995 0.0026387475999999997\n",
      "y_s, y_e:  0.00043874759999999995 0.0026387475999999997\n",
      "frame y end:  3\n",
      "frame y start 1\n"
     ]
    },
    {
     "name": "stderr",
     "output_type": "stream",
     "text": [
      "\n",
      " 39%|███▊      | 58/150 [03:55<07:58,  5.20s/it]\u001b[A"
     ]
    },
    {
     "name": "stdout",
     "output_type": "stream",
     "text": [
      "_0002_0003_fluorescent.png\n",
      "2_3\n",
      "x_s, x_e:  0.0049387476000000005 0.0071387476\n",
      "y_s, y_e:  0.0033387476 0.0055387476\n",
      "frame y end:  6\n",
      "frame y start 4\n"
     ]
    },
    {
     "name": "stderr",
     "output_type": "stream",
     "text": [
      "\n",
      " 39%|███▉      | 59/150 [04:02<08:35,  5.66s/it]\u001b[A"
     ]
    },
    {
     "name": "stdout",
     "output_type": "stream",
     "text": [
      "_0001_0006_fluorescent.png\n",
      "1_6\n",
      "x_s, x_e:  0.0097387476 0.0119387476\n",
      "y_s, y_e:  0.0017387476 0.0039387476\n",
      "frame y end:  4\n",
      "frame y start 2\n"
     ]
    },
    {
     "name": "stderr",
     "output_type": "stream",
     "text": [
      "\n",
      " 40%|████      | 60/150 [04:09<09:12,  6.14s/it]\u001b[A"
     ]
    },
    {
     "name": "stdout",
     "output_type": "stream",
     "text": [
      "_0003_0005_fluorescent.png\n",
      "3_5\n",
      "x_s, x_e:  0.0081387476 0.0103387476\n",
      "y_s, y_e:  0.0049387476000000005 0.0071387476\n",
      "frame y end:  7\n",
      "frame y start 5\n"
     ]
    },
    {
     "name": "stderr",
     "output_type": "stream",
     "text": [
      "\n",
      " 41%|████      | 61/150 [04:15<08:54,  6.00s/it]\u001b[A"
     ]
    },
    {
     "name": "stdout",
     "output_type": "stream",
     "text": [
      "_0007_0003_fluorescent.png\n",
      "7_3\n",
      "x_s, x_e:  0.0049387476000000005 0.0071387476\n",
      "y_s, y_e:  0.0113387476 0.013538747600000001\n",
      "frame y end:  13\n",
      "frame y start 11\n"
     ]
    },
    {
     "name": "stderr",
     "output_type": "stream",
     "text": [
      "\n",
      " 41%|████▏     | 62/150 [04:19<08:14,  5.62s/it]\u001b[A"
     ]
    },
    {
     "name": "stdout",
     "output_type": "stream",
     "text": [
      "_0011_0002_fluorescent.png\n",
      "11_2\n",
      "x_s, x_e:  0.0033387476 0.0055387476\n",
      "y_s, y_e:  0.0177387476 0.0199387476\n",
      "frame y end:  19\n",
      "frame y start 17\n"
     ]
    },
    {
     "name": "stderr",
     "output_type": "stream",
     "text": [
      "\n",
      " 42%|████▏     | 63/150 [04:25<08:06,  5.60s/it]\u001b[A"
     ]
    },
    {
     "name": "stdout",
     "output_type": "stream",
     "text": [
      "_0005_0000_fluorescent.png\n",
      "5_0\n",
      "x_s, x_e:  0.00043874759999999995 0.0026387475999999997\n",
      "y_s, y_e:  0.0081387476 0.0103387476\n",
      "frame y end:  10\n",
      "frame y start 8\n"
     ]
    },
    {
     "name": "stderr",
     "output_type": "stream",
     "text": [
      "\n",
      " 43%|████▎     | 64/150 [04:30<07:41,  5.36s/it]\u001b[A"
     ]
    },
    {
     "name": "stdout",
     "output_type": "stream",
     "text": [
      "_0008_0003_fluorescent.png\n",
      "8_3\n",
      "x_s, x_e:  0.0049387476000000005 0.0071387476\n",
      "y_s, y_e:  0.012938747600000002 0.015138747600000002\n",
      "frame y end:  14\n",
      "frame y start 12\n"
     ]
    },
    {
     "name": "stderr",
     "output_type": "stream",
     "text": [
      "\n",
      " 43%|████▎     | 65/150 [04:34<07:07,  5.02s/it]\u001b[A"
     ]
    },
    {
     "name": "stdout",
     "output_type": "stream",
     "text": [
      "_0001_0009_fluorescent.png\n",
      "1_9\n",
      "x_s, x_e:  0.014538747600000002 0.016738747600000003\n",
      "y_s, y_e:  0.0017387476 0.0039387476\n",
      "frame y end:  4\n",
      "frame y start 2\n"
     ]
    },
    {
     "name": "stderr",
     "output_type": "stream",
     "text": [
      "\n",
      " 44%|████▍     | 66/150 [04:39<07:13,  5.16s/it]\u001b[A"
     ]
    },
    {
     "name": "stdout",
     "output_type": "stream",
     "text": [
      "_0004_0010_fluorescent.png\n",
      "4_10\n",
      "x_s, x_e:  0.0161387476 0.0183387476\n",
      "y_s, y_e:  0.0065387476 0.008738747600000001\n",
      "frame y end:  8\n",
      "frame y start 6\n"
     ]
    },
    {
     "name": "stderr",
     "output_type": "stream",
     "text": [
      "\n",
      " 45%|████▍     | 67/150 [04:45<07:16,  5.26s/it]\u001b[A"
     ]
    },
    {
     "name": "stdout",
     "output_type": "stream",
     "text": [
      "_0004_0009_fluorescent.png\n",
      "4_9\n",
      "x_s, x_e:  0.014538747600000002 0.016738747600000003\n",
      "y_s, y_e:  0.0065387476 0.008738747600000001\n",
      "frame y end:  8\n",
      "frame y start 6\n"
     ]
    },
    {
     "name": "stderr",
     "output_type": "stream",
     "text": [
      "\n",
      " 45%|████▌     | 68/150 [04:50<07:09,  5.24s/it]\u001b[A"
     ]
    },
    {
     "name": "stdout",
     "output_type": "stream",
     "text": [
      "_0009_0005_fluorescent.png\n",
      "9_5\n",
      "x_s, x_e:  0.0081387476 0.0103387476\n",
      "y_s, y_e:  0.014538747600000002 0.016738747600000003\n",
      "frame y end:  16\n",
      "frame y start 14\n"
     ]
    },
    {
     "name": "stderr",
     "output_type": "stream",
     "text": [
      "\n",
      " 46%|████▌     | 69/150 [04:56<07:10,  5.31s/it]\u001b[A"
     ]
    },
    {
     "name": "stdout",
     "output_type": "stream",
     "text": [
      "_0001_0010_fluorescent.png\n",
      "1_10\n",
      "x_s, x_e:  0.0161387476 0.0183387476\n",
      "y_s, y_e:  0.0017387476 0.0039387476\n",
      "frame y end:  4\n",
      "frame y start 2\n"
     ]
    },
    {
     "name": "stderr",
     "output_type": "stream",
     "text": [
      "\n",
      " 47%|████▋     | 70/150 [05:01<07:09,  5.37s/it]\u001b[A"
     ]
    },
    {
     "name": "stdout",
     "output_type": "stream",
     "text": [
      "_0007_0009_fluorescent.png\n",
      "7_9\n",
      "x_s, x_e:  0.014538747600000002 0.016738747600000003\n",
      "y_s, y_e:  0.0113387476 0.013538747600000001\n",
      "frame y end:  13\n",
      "frame y start 11\n"
     ]
    },
    {
     "name": "stderr",
     "output_type": "stream",
     "text": [
      "\n",
      " 47%|████▋     | 71/150 [05:07<07:10,  5.44s/it]\u001b[A"
     ]
    },
    {
     "name": "stdout",
     "output_type": "stream",
     "text": [
      "_0011_0008_fluorescent.png\n",
      "11_8\n",
      "x_s, x_e:  0.012938747600000002 0.015138747600000002\n",
      "y_s, y_e:  0.0177387476 0.0199387476\n",
      "frame y end:  19\n",
      "frame y start 17\n"
     ]
    },
    {
     "name": "stderr",
     "output_type": "stream",
     "text": [
      "\n",
      " 48%|████▊     | 72/150 [05:11<06:46,  5.21s/it]\u001b[A"
     ]
    },
    {
     "name": "stdout",
     "output_type": "stream",
     "text": [
      "_0002_0010_fluorescent.png\n",
      "2_10\n",
      "x_s, x_e:  0.0161387476 0.0183387476\n",
      "y_s, y_e:  0.0033387476 0.0055387476\n",
      "frame y end:  6\n",
      "frame y start 4\n"
     ]
    },
    {
     "name": "stderr",
     "output_type": "stream",
     "text": [
      "\n",
      " 49%|████▊     | 73/150 [05:17<06:43,  5.24s/it]\u001b[A"
     ]
    },
    {
     "name": "stdout",
     "output_type": "stream",
     "text": [
      "_0008_0006_fluorescent.png\n",
      "8_6\n",
      "x_s, x_e:  0.0097387476 0.0119387476\n",
      "y_s, y_e:  0.012938747600000002 0.015138747600000002\n",
      "frame y end:  14\n",
      "frame y start 12\n"
     ]
    },
    {
     "name": "stderr",
     "output_type": "stream",
     "text": [
      "\n",
      " 49%|████▉     | 74/150 [05:22<06:46,  5.35s/it]\u001b[A"
     ]
    },
    {
     "name": "stdout",
     "output_type": "stream",
     "text": [
      "_0002_0009_fluorescent.png\n",
      "2_9\n",
      "x_s, x_e:  0.014538747600000002 0.016738747600000003\n",
      "y_s, y_e:  0.0033387476 0.0055387476\n",
      "frame y end:  6\n",
      "frame y start 4\n"
     ]
    },
    {
     "name": "stderr",
     "output_type": "stream",
     "text": [
      "\n",
      " 50%|█████     | 75/150 [05:27<06:33,  5.25s/it]\u001b[A"
     ]
    },
    {
     "name": "stdout",
     "output_type": "stream",
     "text": [
      "_0009_0000_fluorescent.png\n",
      "9_0\n",
      "x_s, x_e:  0.00043874759999999995 0.0026387475999999997\n",
      "y_s, y_e:  0.014538747600000002 0.016738747600000003\n",
      "frame y end:  16\n",
      "frame y start 14\n"
     ]
    },
    {
     "name": "stderr",
     "output_type": "stream",
     "text": [
      "\n",
      " 51%|█████     | 76/150 [05:32<06:16,  5.09s/it]\u001b[A"
     ]
    },
    {
     "name": "stdout",
     "output_type": "stream",
     "text": [
      "_0011_0011_fluorescent.png\n",
      "11_11\n",
      "x_s, x_e:  0.0177387476 0.0199387476\n",
      "y_s, y_e:  0.0177387476 0.0199387476\n",
      "frame y end:  19\n",
      "frame y start 17\n"
     ]
    },
    {
     "name": "stderr",
     "output_type": "stream",
     "text": [
      "\n",
      " 51%|█████▏    | 77/150 [05:37<05:59,  4.93s/it]\u001b[A"
     ]
    },
    {
     "name": "stdout",
     "output_type": "stream",
     "text": [
      "_0007_0010_fluorescent.png\n",
      "7_10\n",
      "x_s, x_e:  0.0161387476 0.0183387476\n",
      "y_s, y_e:  0.0113387476 0.013538747600000001\n",
      "frame y end:  13\n",
      "frame y start 11\n"
     ]
    },
    {
     "name": "stderr",
     "output_type": "stream",
     "text": [
      "\n",
      " 52%|█████▏    | 78/150 [05:42<06:05,  5.08s/it]\u001b[A"
     ]
    },
    {
     "name": "stdout",
     "output_type": "stream",
     "text": [
      "_0002_0006_fluorescent.png\n",
      "2_6\n",
      "x_s, x_e:  0.0097387476 0.0119387476\n",
      "y_s, y_e:  0.0033387476 0.0055387476\n",
      "frame y end:  6\n",
      "frame y start 4\n"
     ]
    },
    {
     "name": "stderr",
     "output_type": "stream",
     "text": [
      "\n",
      " 53%|█████▎    | 79/150 [05:48<06:10,  5.22s/it]\u001b[A"
     ]
    },
    {
     "name": "stdout",
     "output_type": "stream",
     "text": [
      "_0000_0005_fluorescent.png\n",
      "0_5\n",
      "x_s, x_e:  0.0081387476 0.0103387476\n",
      "y_s, y_e:  0.00043874759999999995 0.0026387475999999997\n",
      "frame y end:  3\n",
      "frame y start 1\n"
     ]
    },
    {
     "name": "stderr",
     "output_type": "stream",
     "text": [
      "\n",
      " 53%|█████▎    | 80/150 [05:53<06:12,  5.32s/it]\u001b[A"
     ]
    },
    {
     "name": "stdout",
     "output_type": "stream",
     "text": [
      "_0008_0010_fluorescent.png\n",
      "8_10\n",
      "x_s, x_e:  0.0161387476 0.0183387476\n",
      "y_s, y_e:  0.012938747600000002 0.015138747600000002\n",
      "frame y end:  14\n",
      "frame y start 12\n"
     ]
    },
    {
     "name": "stderr",
     "output_type": "stream",
     "text": [
      "\n",
      " 54%|█████▍    | 81/150 [05:59<06:12,  5.40s/it]\u001b[A"
     ]
    },
    {
     "name": "stdout",
     "output_type": "stream",
     "text": [
      "_0010_0001_fluorescent.png\n",
      "10_1\n",
      "x_s, x_e:  0.0017387476 0.0039387476\n",
      "y_s, y_e:  0.0161387476 0.0183387476\n",
      "frame y end:  17\n",
      "frame y start 15\n"
     ]
    },
    {
     "name": "stderr",
     "output_type": "stream",
     "text": [
      "\n",
      " 55%|█████▍    | 82/150 [06:04<06:09,  5.43s/it]\u001b[A"
     ]
    },
    {
     "name": "stdout",
     "output_type": "stream",
     "text": [
      "_0004_0003_fluorescent.png\n",
      "4_3\n",
      "x_s, x_e:  0.0049387476000000005 0.0071387476\n",
      "y_s, y_e:  0.0065387476 0.008738747600000001\n",
      "frame y end:  8\n",
      "frame y start 6\n"
     ]
    },
    {
     "name": "stderr",
     "output_type": "stream",
     "text": [
      "\n",
      " 55%|█████▌    | 83/150 [06:09<05:47,  5.19s/it]\u001b[A"
     ]
    },
    {
     "name": "stdout",
     "output_type": "stream",
     "text": [
      "_0006_0000_fluorescent.png\n",
      "6_0\n",
      "x_s, x_e:  0.00043874759999999995 0.0026387475999999997\n",
      "y_s, y_e:  0.0097387476 0.0119387476\n",
      "frame y end:  11\n",
      "frame y start 9\n"
     ]
    },
    {
     "name": "stderr",
     "output_type": "stream",
     "text": [
      "\n",
      " 56%|█████▌    | 84/150 [06:14<05:33,  5.06s/it]\u001b[A"
     ]
    },
    {
     "name": "stdout",
     "output_type": "stream",
     "text": [
      "_0011_0007_fluorescent.png\n",
      "11_7\n",
      "x_s, x_e:  0.0113387476 0.013538747600000001\n",
      "y_s, y_e:  0.0177387476 0.0199387476\n",
      "frame y end:  19\n",
      "frame y start 17\n"
     ]
    },
    {
     "name": "stderr",
     "output_type": "stream",
     "text": [
      "\n",
      " 57%|█████▋    | 85/150 [06:18<05:21,  4.95s/it]\u001b[A"
     ]
    },
    {
     "name": "stdout",
     "output_type": "stream",
     "text": [
      "_0005_0005_fluorescent.png\n",
      "5_5\n",
      "x_s, x_e:  0.0081387476 0.0103387476\n",
      "y_s, y_e:  0.0081387476 0.0103387476\n",
      "frame y end:  10\n",
      "frame y start 8\n"
     ]
    },
    {
     "name": "stderr",
     "output_type": "stream",
     "text": [
      "\n",
      " 57%|█████▋    | 86/150 [06:24<05:27,  5.11s/it]\u001b[A"
     ]
    },
    {
     "name": "stdout",
     "output_type": "stream",
     "text": [
      "_0007_0006_fluorescent.png\n",
      "7_6\n",
      "x_s, x_e:  0.0097387476 0.0119387476\n",
      "y_s, y_e:  0.0113387476 0.013538747600000001\n",
      "frame y end:  13\n",
      "frame y start 11\n"
     ]
    },
    {
     "name": "stderr",
     "output_type": "stream",
     "text": [
      "\n",
      " 58%|█████▊    | 87/150 [06:29<05:28,  5.22s/it]\u001b[A"
     ]
    },
    {
     "name": "stdout",
     "output_type": "stream",
     "text": [
      "_0003_0000_fluorescent.png\n",
      "3_0\n",
      "x_s, x_e:  0.00043874759999999995 0.0026387475999999997\n",
      "y_s, y_e:  0.0049387476000000005 0.0071387476\n",
      "frame y end:  7\n",
      "frame y start 5\n"
     ]
    },
    {
     "name": "stderr",
     "output_type": "stream",
     "text": [
      "\n",
      " 59%|█████▊    | 88/150 [06:34<05:15,  5.10s/it]\u001b[A"
     ]
    },
    {
     "name": "stdout",
     "output_type": "stream",
     "text": [
      "_0008_0009_fluorescent.png\n",
      "8_9\n",
      "x_s, x_e:  0.014538747600000002 0.016738747600000003\n",
      "y_s, y_e:  0.012938747600000002 0.015138747600000002\n",
      "frame y end:  14\n",
      "frame y start 12\n"
     ]
    },
    {
     "name": "stderr",
     "output_type": "stream",
     "text": [
      "\n",
      " 59%|█████▉    | 89/150 [06:40<05:19,  5.24s/it]\u001b[A"
     ]
    },
    {
     "name": "stdout",
     "output_type": "stream",
     "text": [
      "_0001_0003_fluorescent.png\n",
      "1_3\n",
      "x_s, x_e:  0.0049387476000000005 0.0071387476\n",
      "y_s, y_e:  0.0017387476 0.0039387476\n",
      "frame y end:  4\n",
      "frame y start 2\n"
     ]
    },
    {
     "name": "stderr",
     "output_type": "stream",
     "text": [
      "\n",
      " 60%|██████    | 90/150 [06:44<05:02,  5.04s/it]\u001b[A"
     ]
    },
    {
     "name": "stdout",
     "output_type": "stream",
     "text": [
      "_0009_0011_fluorescent.png\n",
      "9_11\n",
      "x_s, x_e:  0.0177387476 0.0199387476\n",
      "y_s, y_e:  0.014538747600000002 0.016738747600000003\n",
      "frame y end:  16\n",
      "frame y start 14\n"
     ]
    },
    {
     "name": "stderr",
     "output_type": "stream",
     "text": [
      "\n",
      " 61%|██████    | 91/150 [06:49<04:49,  4.91s/it]\u001b[A"
     ]
    },
    {
     "name": "stdout",
     "output_type": "stream",
     "text": [
      "_0001_0004_fluorescent.png\n",
      "1_4\n",
      "x_s, x_e:  0.0065387476 0.008738747600000001\n",
      "y_s, y_e:  0.0017387476 0.0039387476\n",
      "frame y end:  4\n",
      "frame y start 2\n"
     ]
    },
    {
     "name": "stderr",
     "output_type": "stream",
     "text": [
      "\n",
      " 61%|██████▏   | 92/150 [06:53<04:38,  4.79s/it]\u001b[A"
     ]
    },
    {
     "name": "stdout",
     "output_type": "stream",
     "text": [
      "_0003_0007_fluorescent.png\n",
      "3_7\n",
      "x_s, x_e:  0.0113387476 0.013538747600000001\n",
      "y_s, y_e:  0.0049387476000000005 0.0071387476\n",
      "frame y end:  7\n",
      "frame y start 5\n"
     ]
    },
    {
     "name": "stderr",
     "output_type": "stream",
     "text": [
      "\n",
      " 62%|██████▏   | 93/150 [06:58<04:32,  4.79s/it]\u001b[A"
     ]
    },
    {
     "name": "stdout",
     "output_type": "stream",
     "text": [
      "_0007_0001_fluorescent.png\n",
      "7_1\n",
      "x_s, x_e:  0.0017387476 0.0039387476\n",
      "y_s, y_e:  0.0113387476 0.013538747600000001\n",
      "frame y end:  13\n",
      "frame y start 11\n"
     ]
    },
    {
     "name": "stderr",
     "output_type": "stream",
     "text": [
      "\n",
      " 63%|██████▎   | 94/150 [07:04<04:42,  5.04s/it]\u001b[A"
     ]
    },
    {
     "name": "stdout",
     "output_type": "stream",
     "text": [
      "_0005_0002_fluorescent.png\n",
      "5_2\n",
      "x_s, x_e:  0.0033387476 0.0055387476\n",
      "y_s, y_e:  0.0081387476 0.0103387476\n",
      "frame y end:  10\n",
      "frame y start 8\n"
     ]
    },
    {
     "name": "stderr",
     "output_type": "stream",
     "text": [
      "\n",
      " 63%|██████▎   | 95/150 [07:10<04:58,  5.42s/it]\u001b[A"
     ]
    },
    {
     "name": "stdout",
     "output_type": "stream",
     "text": [
      "_0011_0000_fluorescent.png\n",
      "11_0\n",
      "x_s, x_e:  0.00043874759999999995 0.0026387475999999997\n",
      "y_s, y_e:  0.0177387476 0.0199387476\n",
      "frame y end:  19\n",
      "frame y start 17\n"
     ]
    },
    {
     "name": "stderr",
     "output_type": "stream",
     "text": [
      "\n",
      " 64%|██████▍   | 96/150 [07:16<04:54,  5.46s/it]\u001b[A"
     ]
    },
    {
     "name": "stdout",
     "output_type": "stream",
     "text": [
      "_0006_0007_fluorescent.png\n",
      "6_7\n",
      "x_s, x_e:  0.0113387476 0.013538747600000001\n",
      "y_s, y_e:  0.0097387476 0.0119387476\n",
      "frame y end:  11\n",
      "frame y start 9\n"
     ]
    },
    {
     "name": "stderr",
     "output_type": "stream",
     "text": [
      "\n",
      " 65%|██████▍   | 97/150 [07:21<04:43,  5.36s/it]\u001b[A"
     ]
    },
    {
     "name": "stdout",
     "output_type": "stream",
     "text": [
      "_0004_0004_fluorescent.png\n",
      "4_4\n",
      "x_s, x_e:  0.0065387476 0.008738747600000001\n",
      "y_s, y_e:  0.0065387476 0.008738747600000001\n",
      "frame y end:  8\n",
      "frame y start 6\n"
     ]
    },
    {
     "name": "stderr",
     "output_type": "stream",
     "text": [
      "\n",
      " 65%|██████▌   | 98/150 [07:26<04:31,  5.22s/it]\u001b[A"
     ]
    },
    {
     "name": "stdout",
     "output_type": "stream",
     "text": [
      "_0010_0006_fluorescent.png\n",
      "10_6\n",
      "x_s, x_e:  0.0097387476 0.0119387476\n",
      "y_s, y_e:  0.0161387476 0.0183387476\n",
      "frame y end:  17\n",
      "frame y start 15\n"
     ]
    },
    {
     "name": "stderr",
     "output_type": "stream",
     "text": [
      "\n",
      " 66%|██████▌   | 99/150 [07:32<04:39,  5.48s/it]\u001b[A"
     ]
    },
    {
     "name": "stdout",
     "output_type": "stream",
     "text": [
      "_0000_0002_fluorescent.png\n",
      "0_2\n",
      "x_s, x_e:  0.0033387476 0.0055387476\n",
      "y_s, y_e:  0.00043874759999999995 0.0026387475999999997\n",
      "frame y end:  3\n",
      "frame y start 1\n"
     ]
    },
    {
     "name": "stderr",
     "output_type": "stream",
     "text": [
      "\n",
      " 67%|██████▋   | 100/150 [07:38<04:40,  5.60s/it]\u001b[A"
     ]
    },
    {
     "name": "stdout",
     "output_type": "stream",
     "text": [
      "_0009_0008_fluorescent.png\n",
      "9_8\n",
      "x_s, x_e:  0.012938747600000002 0.015138747600000002\n",
      "y_s, y_e:  0.014538747600000002 0.016738747600000003\n",
      "frame y end:  16\n",
      "frame y start 14\n"
     ]
    },
    {
     "name": "stderr",
     "output_type": "stream",
     "text": [
      "\n",
      " 67%|██████▋   | 101/150 [07:42<04:21,  5.33s/it]\u001b[A"
     ]
    },
    {
     "name": "stdout",
     "output_type": "stream",
     "text": [
      "_0002_0001_fluorescent.png\n",
      "2_1\n",
      "x_s, x_e:  0.0017387476 0.0039387476\n",
      "y_s, y_e:  0.0033387476 0.0055387476\n",
      "frame y end:  6\n",
      "frame y start 4\n"
     ]
    },
    {
     "name": "stderr",
     "output_type": "stream",
     "text": [
      "\n",
      " 68%|██████▊   | 102/150 [07:48<04:19,  5.40s/it]\u001b[A"
     ]
    },
    {
     "name": "stdout",
     "output_type": "stream",
     "text": [
      "_0010_0009_fluorescent.png\n",
      "10_9\n",
      "x_s, x_e:  0.014538747600000002 0.016738747600000003\n",
      "y_s, y_e:  0.0161387476 0.0183387476\n",
      "frame y end:  17\n",
      "frame y start 15\n"
     ]
    },
    {
     "name": "stderr",
     "output_type": "stream",
     "text": [
      "\n",
      " 69%|██████▊   | 103/150 [07:53<04:11,  5.34s/it]\u001b[A"
     ]
    },
    {
     "name": "stdout",
     "output_type": "stream",
     "text": [
      "_0006_0008_fluorescent.png\n",
      "6_8\n",
      "x_s, x_e:  0.012938747600000002 0.015138747600000002\n",
      "y_s, y_e:  0.0097387476 0.0119387476\n",
      "frame y end:  11\n",
      "frame y start 9\n"
     ]
    },
    {
     "name": "stderr",
     "output_type": "stream",
     "text": [
      "\n",
      " 69%|██████▉   | 104/150 [07:58<03:55,  5.12s/it]\u001b[A"
     ]
    },
    {
     "name": "stdout",
     "output_type": "stream",
     "text": [
      "_0009_0007_fluorescent.png\n",
      "9_7\n",
      "x_s, x_e:  0.0113387476 0.013538747600000001\n",
      "y_s, y_e:  0.014538747600000002 0.016738747600000003\n",
      "frame y end:  16\n",
      "frame y start 14\n"
     ]
    },
    {
     "name": "stderr",
     "output_type": "stream",
     "text": [
      "\n",
      " 70%|███████   | 105/150 [08:02<03:44,  4.99s/it]\u001b[A"
     ]
    },
    {
     "name": "stdout",
     "output_type": "stream",
     "text": [
      "_0003_0011_fluorescent.png\n",
      "3_11\n",
      "x_s, x_e:  0.0177387476 0.0199387476\n",
      "y_s, y_e:  0.0049387476000000005 0.0071387476\n",
      "frame y end:  7\n",
      "frame y start 5\n"
     ]
    },
    {
     "name": "stderr",
     "output_type": "stream",
     "text": [
      "\n",
      " 71%|███████   | 106/150 [08:07<03:33,  4.86s/it]\u001b[A"
     ]
    },
    {
     "name": "stdout",
     "output_type": "stream",
     "text": [
      "_0008_0001_fluorescent.png\n",
      "8_1\n",
      "x_s, x_e:  0.0017387476 0.0039387476\n",
      "y_s, y_e:  0.012938747600000002 0.015138747600000002\n",
      "frame y end:  14\n",
      "frame y start 12\n"
     ]
    },
    {
     "name": "stderr",
     "output_type": "stream",
     "text": [
      "\n",
      " 71%|███████▏  | 107/150 [08:13<03:38,  5.09s/it]\u001b[A"
     ]
    },
    {
     "name": "stdout",
     "output_type": "stream",
     "text": [
      "_0003_0008_fluorescent.png\n",
      "3_8\n",
      "x_s, x_e:  0.012938747600000002 0.015138747600000002\n",
      "y_s, y_e:  0.0049387476000000005 0.0071387476\n",
      "frame y end:  7\n",
      "frame y start 5\n"
     ]
    },
    {
     "name": "stderr",
     "output_type": "stream",
     "text": [
      "\n",
      " 72%|███████▏  | 108/150 [08:19<03:44,  5.35s/it]\u001b[A"
     ]
    },
    {
     "name": "stdout",
     "output_type": "stream",
     "text": [
      "_0006_0011_fluorescent.png\n",
      "6_11\n",
      "x_s, x_e:  0.0177387476 0.0199387476\n",
      "y_s, y_e:  0.0097387476 0.0119387476\n",
      "frame y end:  11\n",
      "frame y start 9\n"
     ]
    },
    {
     "name": "stderr",
     "output_type": "stream",
     "text": [
      "\n",
      " 73%|███████▎  | 109/150 [08:23<03:31,  5.15s/it]\u001b[A"
     ]
    },
    {
     "name": "stdout",
     "output_type": "stream",
     "text": [
      "_0010_0010_fluorescent.png\n",
      "10_10\n",
      "x_s, x_e:  0.0161387476 0.0183387476\n",
      "y_s, y_e:  0.0161387476 0.0183387476\n",
      "frame y end:  17\n",
      "frame y start 15\n"
     ]
    },
    {
     "name": "stderr",
     "output_type": "stream",
     "text": [
      "\n",
      " 73%|███████▎  | 110/150 [08:29<03:29,  5.23s/it]\u001b[A"
     ]
    },
    {
     "name": "stdout",
     "output_type": "stream",
     "text": [
      "_0007_0000_fluorescent.png\n",
      "7_0\n",
      "x_s, x_e:  0.00043874759999999995 0.0026387475999999997\n",
      "y_s, y_e:  0.0113387476 0.013538747600000001\n",
      "frame y end:  13\n",
      "frame y start 11\n"
     ]
    },
    {
     "name": "stderr",
     "output_type": "stream",
     "text": [
      "\n",
      " 74%|███████▍  | 111/150 [08:33<03:17,  5.07s/it]\u001b[A"
     ]
    },
    {
     "name": "stdout",
     "output_type": "stream",
     "text": [
      "_0005_0003_fluorescent.png\n",
      "5_3\n",
      "x_s, x_e:  0.0049387476000000005 0.0071387476\n",
      "y_s, y_e:  0.0081387476 0.0103387476\n",
      "frame y end:  10\n",
      "frame y start 8\n"
     ]
    },
    {
     "name": "stderr",
     "output_type": "stream",
     "text": [
      "\n",
      " 75%|███████▍  | 112/150 [08:38<03:10,  5.00s/it]\u001b[A"
     ]
    },
    {
     "name": "stdout",
     "output_type": "stream",
     "text": [
      "_0011_0001_fluorescent.png\n",
      "11_1\n",
      "x_s, x_e:  0.0017387476 0.0039387476\n",
      "y_s, y_e:  0.0177387476 0.0199387476\n",
      "frame y end:  19\n",
      "frame y start 17\n"
     ]
    },
    {
     "name": "stderr",
     "output_type": "stream",
     "text": [
      "\n",
      " 75%|███████▌  | 113/150 [08:44<03:10,  5.15s/it]\u001b[A"
     ]
    },
    {
     "name": "stdout",
     "output_type": "stream",
     "text": [
      "_0009_0010_fluorescent.png\n",
      "9_10\n",
      "x_s, x_e:  0.0161387476 0.0183387476\n",
      "y_s, y_e:  0.014538747600000002 0.016738747600000003\n",
      "frame y end:  16\n",
      "frame y start 14\n"
     ]
    },
    {
     "name": "stderr",
     "output_type": "stream",
     "text": [
      "\n",
      " 76%|███████▌  | 114/150 [08:50<03:15,  5.43s/it]\u001b[A"
     ]
    },
    {
     "name": "stdout",
     "output_type": "stream",
     "text": [
      "_0001_0005_fluorescent.png\n",
      "1_5\n",
      "x_s, x_e:  0.0081387476 0.0103387476\n",
      "y_s, y_e:  0.0017387476 0.0039387476\n",
      "frame y end:  4\n",
      "frame y start 2\n"
     ]
    },
    {
     "name": "stderr",
     "output_type": "stream",
     "text": [
      "\n",
      " 77%|███████▋  | 115/150 [08:55<03:11,  5.46s/it]\u001b[A"
     ]
    },
    {
     "name": "stdout",
     "output_type": "stream",
     "text": [
      "_0003_0006_fluorescent.png\n",
      "3_6\n",
      "x_s, x_e:  0.0097387476 0.0119387476\n",
      "y_s, y_e:  0.0049387476000000005 0.0071387476\n",
      "frame y end:  7\n",
      "frame y start 5\n"
     ]
    },
    {
     "name": "stderr",
     "output_type": "stream",
     "text": [
      "\n",
      " 77%|███████▋  | 116/150 [09:02<03:16,  5.78s/it]\u001b[A"
     ]
    },
    {
     "name": "stdout",
     "output_type": "stream",
     "text": [
      "_0000_0003_fluorescent.png\n",
      "0_3\n",
      "x_s, x_e:  0.0049387476000000005 0.0071387476\n",
      "y_s, y_e:  0.00043874759999999995 0.0026387475999999997\n",
      "frame y end:  3\n",
      "frame y start 1\n"
     ]
    },
    {
     "name": "stderr",
     "output_type": "stream",
     "text": [
      "\n",
      " 78%|███████▊  | 117/150 [09:07<03:07,  5.70s/it]\u001b[A"
     ]
    },
    {
     "name": "stdout",
     "output_type": "stream",
     "text": [
      "_0002_0000_fluorescent.png\n",
      "2_0\n",
      "x_s, x_e:  0.00043874759999999995 0.0026387475999999997\n",
      "y_s, y_e:  0.0033387476 0.0055387476\n",
      "frame y end:  6\n",
      "frame y start 4\n"
     ]
    },
    {
     "name": "stderr",
     "output_type": "stream",
     "text": [
      "\n",
      " 79%|███████▊  | 118/150 [09:13<03:02,  5.70s/it]\u001b[A"
     ]
    },
    {
     "name": "stdout",
     "output_type": "stream",
     "text": [
      "_0009_0009_fluorescent.png\n",
      "9_9\n",
      "x_s, x_e:  0.014538747600000002 0.016738747600000003\n",
      "y_s, y_e:  0.014538747600000002 0.016738747600000003\n",
      "frame y end:  16\n",
      "frame y start 14\n"
     ]
    },
    {
     "name": "stderr",
     "output_type": "stream",
     "text": [
      "\n",
      " 79%|███████▉  | 119/150 [09:19<02:56,  5.68s/it]\u001b[A"
     ]
    },
    {
     "name": "stdout",
     "output_type": "stream",
     "text": [
      "_0006_0006_fluorescent.png\n",
      "6_6\n",
      "x_s, x_e:  0.0097387476 0.0119387476\n",
      "y_s, y_e:  0.0097387476 0.0119387476\n",
      "frame y end:  11\n",
      "frame y start 9\n"
     ]
    },
    {
     "name": "stderr",
     "output_type": "stream",
     "text": [
      "\n",
      " 80%|████████  | 120/150 [09:24<02:49,  5.64s/it]\u001b[A"
     ]
    },
    {
     "name": "stdout",
     "output_type": "stream",
     "text": [
      "_0004_0005_fluorescent.png\n",
      "4_5\n",
      "x_s, x_e:  0.0081387476 0.0103387476\n",
      "y_s, y_e:  0.0065387476 0.008738747600000001\n",
      "frame y end:  8\n",
      "frame y start 6\n"
     ]
    },
    {
     "name": "stderr",
     "output_type": "stream",
     "text": [
      "\n",
      " 81%|████████  | 121/150 [09:30<02:42,  5.61s/it]\u001b[A"
     ]
    },
    {
     "name": "stdout",
     "output_type": "stream",
     "text": [
      "_0010_0007_fluorescent.png\n",
      "10_7\n",
      "x_s, x_e:  0.0113387476 0.013538747600000001\n",
      "y_s, y_e:  0.0161387476 0.0183387476\n",
      "frame y end:  17\n",
      "frame y start 15\n"
     ]
    },
    {
     "name": "stderr",
     "output_type": "stream",
     "text": [
      "\n",
      " 81%|████████▏ | 122/150 [09:34<02:28,  5.32s/it]\u001b[A"
     ]
    },
    {
     "name": "stdout",
     "output_type": "stream",
     "text": [
      "_0009_0006_fluorescent.png\n",
      "9_6\n",
      "x_s, x_e:  0.0097387476 0.0119387476\n",
      "y_s, y_e:  0.014538747600000002 0.016738747600000003\n",
      "frame y end:  16\n",
      "frame y start 14\n"
     ]
    },
    {
     "name": "stderr",
     "output_type": "stream",
     "text": [
      "\n",
      " 82%|████████▏ | 123/150 [09:40<02:22,  5.27s/it]\u001b[A"
     ]
    },
    {
     "name": "stdout",
     "output_type": "stream",
     "text": [
      "_0003_0010_fluorescent.png\n",
      "3_10\n",
      "x_s, x_e:  0.0161387476 0.0183387476\n",
      "y_s, y_e:  0.0049387476000000005 0.0071387476\n",
      "frame y end:  7\n",
      "frame y start 5\n"
     ]
    },
    {
     "name": "stderr",
     "output_type": "stream",
     "text": [
      "\n",
      " 83%|████████▎ | 124/150 [09:45<02:18,  5.34s/it]\u001b[A"
     ]
    },
    {
     "name": "stdout",
     "output_type": "stream",
     "text": [
      "_0010_0008_fluorescent.png\n",
      "10_8\n",
      "x_s, x_e:  0.012938747600000002 0.015138747600000002\n",
      "y_s, y_e:  0.0161387476 0.0183387476\n",
      "frame y end:  17\n",
      "frame y start 15\n"
     ]
    },
    {
     "name": "stderr",
     "output_type": "stream",
     "text": [
      "\n",
      " 83%|████████▎ | 125/150 [09:51<02:15,  5.41s/it]\u001b[A"
     ]
    },
    {
     "name": "stdout",
     "output_type": "stream",
     "text": [
      "_0006_0009_fluorescent.png\n",
      "6_9\n",
      "x_s, x_e:  0.014538747600000002 0.016738747600000003\n",
      "y_s, y_e:  0.0097387476 0.0119387476\n",
      "frame y end:  11\n",
      "frame y start 9\n"
     ]
    },
    {
     "name": "stderr",
     "output_type": "stream",
     "text": [
      "\n",
      " 84%|████████▍ | 126/150 [09:56<02:10,  5.44s/it]\u001b[A"
     ]
    },
    {
     "name": "stdout",
     "output_type": "stream",
     "text": [
      "_0006_0010_fluorescent.png\n",
      "6_10\n",
      "x_s, x_e:  0.0161387476 0.0183387476\n",
      "y_s, y_e:  0.0097387476 0.0119387476\n",
      "frame y end:  11\n",
      "frame y start 9\n"
     ]
    },
    {
     "name": "stderr",
     "output_type": "stream",
     "text": [
      "\n",
      " 85%|████████▍ | 127/150 [10:01<02:02,  5.31s/it]\u001b[A"
     ]
    },
    {
     "name": "stdout",
     "output_type": "stream",
     "text": [
      "_0010_0011_fluorescent.png\n",
      "10_11\n",
      "x_s, x_e:  0.0177387476 0.0199387476\n",
      "y_s, y_e:  0.0161387476 0.0183387476\n",
      "frame y end:  17\n",
      "frame y start 15\n"
     ]
    },
    {
     "name": "stderr",
     "output_type": "stream",
     "text": [
      "\n",
      " 85%|████████▌ | 128/150 [10:06<01:52,  5.13s/it]\u001b[A"
     ]
    },
    {
     "name": "stdout",
     "output_type": "stream",
     "text": [
      "_0003_0009_fluorescent.png\n",
      "3_9\n",
      "x_s, x_e:  0.014538747600000002 0.016738747600000003\n",
      "y_s, y_e:  0.0049387476000000005 0.0071387476\n",
      "frame y end:  7\n",
      "frame y start 5\n"
     ]
    },
    {
     "name": "stderr",
     "output_type": "stream",
     "text": [
      "\n",
      " 86%|████████▌ | 129/150 [10:11<01:50,  5.24s/it]\u001b[A"
     ]
    },
    {
     "name": "stdout",
     "output_type": "stream",
     "text": [
      "_0008_0000_fluorescent.png\n",
      "8_0\n",
      "x_s, x_e:  0.00043874759999999995 0.0026387475999999997\n",
      "y_s, y_e:  0.012938747600000002 0.015138747600000002\n",
      "frame y end:  14\n",
      "frame y start 12\n"
     ]
    },
    {
     "name": "stderr",
     "output_type": "stream",
     "text": [
      "\n",
      " 87%|████████▋ | 130/150 [10:16<01:44,  5.22s/it]\u001b[A"
     ]
    },
    {
     "name": "stdout",
     "output_type": "stream",
     "text": [
      "_0002_0011_fluorescent.png\n",
      "2_11\n",
      "x_s, x_e:  0.0177387476 0.0199387476\n",
      "y_s, y_e:  0.0033387476 0.0055387476\n",
      "frame y end:  6\n",
      "frame y start 4\n"
     ]
    },
    {
     "name": "stderr",
     "output_type": "stream",
     "text": [
      "\n",
      " 87%|████████▋ | 131/150 [10:21<01:35,  5.05s/it]\u001b[A"
     ]
    },
    {
     "name": "stdout",
     "output_type": "stream",
     "text": [
      "_0008_0007_fluorescent.png\n",
      "8_7\n",
      "x_s, x_e:  0.0113387476 0.013538747600000001\n",
      "y_s, y_e:  0.012938747600000002 0.015138747600000002\n",
      "frame y end:  14\n",
      "frame y start 12\n"
     ]
    },
    {
     "name": "stderr",
     "output_type": "stream",
     "text": [
      "\n",
      " 88%|████████▊ | 132/150 [10:26<01:28,  4.94s/it]\u001b[A"
     ]
    },
    {
     "name": "stdout",
     "output_type": "stream",
     "text": [
      "_0007_0008_fluorescent.png\n",
      "7_8\n",
      "x_s, x_e:  0.012938747600000002 0.015138747600000002\n",
      "y_s, y_e:  0.0113387476 0.013538747600000001\n",
      "frame y end:  13\n",
      "frame y start 11\n"
     ]
    },
    {
     "name": "stderr",
     "output_type": "stream",
     "text": [
      "\n",
      " 89%|████████▊ | 133/150 [10:31<01:23,  4.94s/it]\u001b[A"
     ]
    },
    {
     "name": "stdout",
     "output_type": "stream",
     "text": [
      "_0011_0009_fluorescent.png\n",
      "11_9\n",
      "x_s, x_e:  0.014538747600000002 0.016738747600000003\n",
      "y_s, y_e:  0.0177387476 0.0199387476\n",
      "frame y end:  19\n",
      "frame y start 17\n"
     ]
    },
    {
     "name": "stderr",
     "output_type": "stream",
     "text": [
      "\n",
      " 89%|████████▉ | 134/150 [10:37<01:25,  5.34s/it]\u001b[A"
     ]
    },
    {
     "name": "stdout",
     "output_type": "stream",
     "text": [
      "_0011_0010_fluorescent.png\n",
      "11_10\n",
      "x_s, x_e:  0.0161387476 0.0183387476\n",
      "y_s, y_e:  0.0177387476 0.0199387476\n",
      "frame y end:  19\n",
      "frame y start 17\n"
     ]
    },
    {
     "name": "stderr",
     "output_type": "stream",
     "text": [
      "\n",
      " 90%|█████████ | 135/150 [10:42<01:18,  5.23s/it]\u001b[A"
     ]
    },
    {
     "name": "stdout",
     "output_type": "stream",
     "text": [
      "_0007_0011_fluorescent.png\n",
      "7_11\n",
      "x_s, x_e:  0.0177387476 0.0199387476\n",
      "y_s, y_e:  0.0113387476 0.013538747600000001\n",
      "frame y end:  13\n",
      "frame y start 11\n"
     ]
    },
    {
     "name": "stderr",
     "output_type": "stream",
     "text": [
      "\n",
      " 91%|█████████ | 136/150 [10:47<01:10,  5.06s/it]\u001b[A"
     ]
    },
    {
     "name": "stdout",
     "output_type": "stream",
     "text": [
      "_0009_0001_fluorescent.png\n",
      "9_1\n",
      "x_s, x_e:  0.0017387476 0.0039387476\n",
      "y_s, y_e:  0.014538747600000002 0.016738747600000003\n",
      "frame y end:  16\n",
      "frame y start 14\n"
     ]
    },
    {
     "name": "stderr",
     "output_type": "stream",
     "text": [
      "\n",
      " 91%|█████████▏| 137/150 [10:52<01:07,  5.19s/it]\u001b[A"
     ]
    },
    {
     "name": "stdout",
     "output_type": "stream",
     "text": [
      "_0002_0008_fluorescent.png\n",
      "2_8\n",
      "x_s, x_e:  0.012938747600000002 0.015138747600000002\n",
      "y_s, y_e:  0.0033387476 0.0055387476\n",
      "frame y end:  6\n",
      "frame y start 4\n"
     ]
    },
    {
     "name": "stderr",
     "output_type": "stream",
     "text": [
      "\n",
      " 92%|█████████▏| 138/150 [10:57<01:00,  5.06s/it]\u001b[A"
     ]
    },
    {
     "name": "stdout",
     "output_type": "stream",
     "text": [
      "_0010_0000_fluorescent.png\n",
      "10_0\n",
      "x_s, x_e:  0.00043874759999999995 0.0026387475999999997\n",
      "y_s, y_e:  0.0161387476 0.0183387476\n",
      "frame y end:  17\n",
      "frame y start 15\n"
     ]
    },
    {
     "name": "stderr",
     "output_type": "stream",
     "text": [
      "\n",
      " 93%|█████████▎| 139/150 [11:01<00:53,  4.88s/it]\u001b[A"
     ]
    },
    {
     "name": "stdout",
     "output_type": "stream",
     "text": [
      "_0004_0002_fluorescent.png\n",
      "4_2\n",
      "x_s, x_e:  0.0033387476 0.0055387476\n",
      "y_s, y_e:  0.0065387476 0.008738747600000001\n",
      "frame y end:  8\n",
      "frame y start 6\n"
     ]
    },
    {
     "name": "stderr",
     "output_type": "stream",
     "text": [
      "\n",
      " 93%|█████████▎| 140/150 [11:07<00:50,  5.09s/it]\u001b[A"
     ]
    },
    {
     "name": "stdout",
     "output_type": "stream",
     "text": [
      "_0006_0001_fluorescent.png\n",
      "6_1\n",
      "x_s, x_e:  0.0017387476 0.0039387476\n",
      "y_s, y_e:  0.0097387476 0.0119387476\n",
      "frame y end:  11\n",
      "frame y start 9\n"
     ]
    },
    {
     "name": "stderr",
     "output_type": "stream",
     "text": [
      "\n",
      " 94%|█████████▍| 141/150 [11:13<00:47,  5.27s/it]\u001b[A"
     ]
    },
    {
     "name": "stdout",
     "output_type": "stream",
     "text": [
      "_0002_0007_fluorescent.png\n",
      "2_7\n",
      "x_s, x_e:  0.0113387476 0.013538747600000001\n",
      "y_s, y_e:  0.0033387476 0.0055387476\n",
      "frame y end:  6\n",
      "frame y start 4\n"
     ]
    },
    {
     "name": "stderr",
     "output_type": "stream",
     "text": [
      "\n",
      " 95%|█████████▍| 142/150 [11:18<00:43,  5.41s/it]\u001b[A"
     ]
    },
    {
     "name": "stdout",
     "output_type": "stream",
     "text": [
      "_0000_0004_fluorescent.png\n",
      "0_4\n",
      "x_s, x_e:  0.0065387476 0.008738747600000001\n",
      "y_s, y_e:  0.00043874759999999995 0.0026387475999999997\n",
      "frame y end:  3\n",
      "frame y start 1\n"
     ]
    },
    {
     "name": "stderr",
     "output_type": "stream",
     "text": [
      "\n",
      " 95%|█████████▌| 143/150 [11:24<00:38,  5.47s/it]\u001b[A"
     ]
    },
    {
     "name": "stdout",
     "output_type": "stream",
     "text": [
      "_0008_0011_fluorescent.png\n",
      "8_11\n",
      "x_s, x_e:  0.0177387476 0.0199387476\n",
      "y_s, y_e:  0.012938747600000002 0.015138747600000002\n",
      "frame y end:  14\n",
      "frame y start 12\n"
     ]
    },
    {
     "name": "stderr",
     "output_type": "stream",
     "text": [
      "\n",
      " 96%|█████████▌| 144/150 [11:30<00:33,  5.56s/it]\u001b[A"
     ]
    },
    {
     "name": "stdout",
     "output_type": "stream",
     "text": [
      "_0008_0008_fluorescent.png\n",
      "8_8\n",
      "x_s, x_e:  0.012938747600000002 0.015138747600000002\n",
      "y_s, y_e:  0.012938747600000002 0.015138747600000002\n",
      "frame y end:  14\n",
      "frame y start 12\n"
     ]
    },
    {
     "name": "stderr",
     "output_type": "stream",
     "text": [
      "\n",
      " 97%|█████████▋| 145/150 [11:35<00:26,  5.35s/it]\u001b[A"
     ]
    },
    {
     "name": "stdout",
     "output_type": "stream",
     "text": [
      "_0003_0001_fluorescent.png\n",
      "3_1\n",
      "x_s, x_e:  0.0017387476 0.0039387476\n",
      "y_s, y_e:  0.0049387476000000005 0.0071387476\n",
      "frame y end:  7\n",
      "frame y start 5\n"
     ]
    },
    {
     "name": "stderr",
     "output_type": "stream",
     "text": [
      "\n",
      " 97%|█████████▋| 146/150 [11:40<00:21,  5.43s/it]\u001b[A"
     ]
    },
    {
     "name": "stdout",
     "output_type": "stream",
     "text": [
      "_0001_0002_fluorescent.png\n",
      "1_2\n",
      "x_s, x_e:  0.0033387476 0.0055387476\n",
      "y_s, y_e:  0.0017387476 0.0039387476\n",
      "frame y end:  4\n",
      "frame y start 2\n"
     ]
    },
    {
     "name": "stderr",
     "output_type": "stream",
     "text": [
      "\n",
      " 98%|█████████▊| 147/150 [11:46<00:16,  5.48s/it]\u001b[A"
     ]
    },
    {
     "name": "stdout",
     "output_type": "stream",
     "text": [
      "_0011_0006_fluorescent.png\n",
      "11_6\n",
      "x_s, x_e:  0.0097387476 0.0119387476\n",
      "y_s, y_e:  0.0177387476 0.0199387476\n",
      "frame y end:  19\n",
      "frame y start 17\n"
     ]
    },
    {
     "name": "stderr",
     "output_type": "stream",
     "text": [
      "\n",
      " 99%|█████████▊| 148/150 [11:51<00:11,  5.52s/it]\u001b[A"
     ]
    },
    {
     "name": "stdout",
     "output_type": "stream",
     "text": [
      "_0005_0004_fluorescent.png\n",
      "5_4\n",
      "x_s, x_e:  0.0065387476 0.008738747600000001\n",
      "y_s, y_e:  0.0081387476 0.0103387476\n",
      "frame y end:  10\n",
      "frame y start 8\n"
     ]
    },
    {
     "name": "stderr",
     "output_type": "stream",
     "text": [
      "\n",
      " 99%|█████████▉| 149/150 [11:56<00:05,  5.26s/it]\u001b[A"
     ]
    },
    {
     "name": "stdout",
     "output_type": "stream",
     "text": [
      "_0007_0007_fluorescent.png\n",
      "7_7\n",
      "x_s, x_e:  0.0113387476 0.013538747600000001\n",
      "y_s, y_e:  0.0113387476 0.013538747600000001\n",
      "frame y end:  13\n",
      "frame y start 11\n"
     ]
    },
    {
     "name": "stderr",
     "output_type": "stream",
     "text": [
      "\n",
      "100%|██████████| 150/150 [12:01<00:00,  5.09s/it]\u001b[A"
     ]
    }
   ],
   "source": [
    "img=concatenate_crop_ROI(nb_pixel,delta,fov_oct,Folders,offset,setup)\n",
    "\n"
   ]
  },
  {
   "cell_type": "markdown",
   "metadata": {},
   "source": [
    "# Run Registration on all files"
   ]
  },
  {
   "cell_type": "code",
   "execution_count": 19,
   "metadata": {
    "scrolled": true
   },
   "outputs": [
    {
     "name": "stderr",
     "output_type": "stream",
     "text": [
      "\n",
      "  0%|          | 0/150 [00:00<?, ?it/s]\u001b[A\n",
      "  3%|▎         | 5/150 [00:00<00:03, 38.64it/s]\u001b[A"
     ]
    },
    {
     "name": "stdout",
     "output_type": "stream",
     "text": [
      "_0000_0001_fluorescent.png\n",
      "_0002_0002_fluorescent.png\n",
      "_0006_0004_fluorescent.png\n",
      "_0010_0005_fluorescent.png\n"
     ]
    },
    {
     "name": "stderr",
     "output_type": "stream",
     "text": [
      "\n",
      "  5%|▍         | 7/150 [00:07<02:32,  1.06s/it]\u001b[A"
     ]
    },
    {
     "name": "stdout",
     "output_type": "stream",
     "text": [
      "_0004_0007_fluorescent.png\n"
     ]
    },
    {
     "name": "stderr",
     "output_type": "stream",
     "text": [
      "\n",
      "  6%|▌         | 9/150 [00:11<03:23,  1.44s/it]\u001b[A"
     ]
    },
    {
     "name": "stdout",
     "output_type": "stream",
     "text": [
      "_0007_0002_fluorescent.png\n"
     ]
    },
    {
     "name": "stderr",
     "output_type": "stream",
     "text": [
      "\n",
      "  7%|▋         | 11/150 [00:13<02:56,  1.27s/it]\u001b[A"
     ]
    },
    {
     "name": "stdout",
     "output_type": "stream",
     "text": [
      "_0011_0003_fluorescent.png\n"
     ]
    },
    {
     "name": "stderr",
     "output_type": "stream",
     "text": [
      "\n",
      "  9%|▊         | 13/150 [00:18<03:35,  1.57s/it]\u001b[A"
     ]
    },
    {
     "name": "stdout",
     "output_type": "stream",
     "text": [
      "_0005_0001_fluorescent.png\n"
     ]
    },
    {
     "name": "stderr",
     "output_type": "stream",
     "text": [
      "\n",
      "  9%|▉         | 14/150 [00:22<05:26,  2.40s/it]\u001b[A"
     ]
    },
    {
     "name": "stdout",
     "output_type": "stream",
     "text": [
      "_0001_0007_fluorescent.png\n"
     ]
    },
    {
     "name": "stderr",
     "output_type": "stream",
     "text": [
      "\n",
      " 10%|█         | 15/150 [00:26<06:42,  2.98s/it]\u001b[A"
     ]
    },
    {
     "name": "stdout",
     "output_type": "stream",
     "text": [
      "_0003_0004_fluorescent.png\n"
     ]
    },
    {
     "name": "stderr",
     "output_type": "stream",
     "text": [
      "\n",
      " 11%|█         | 16/150 [00:28<05:35,  2.51s/it]\u001b[A"
     ]
    },
    {
     "name": "stdout",
     "output_type": "stream",
     "text": [
      "_0004_0011_fluorescent.png\n"
     ]
    },
    {
     "name": "stderr",
     "output_type": "stream",
     "text": [
      "\n",
      " 11%|█▏        | 17/150 [00:33<07:13,  3.26s/it]\u001b[A"
     ]
    },
    {
     "name": "stdout",
     "output_type": "stream",
     "text": [
      "_0008_0002_fluorescent.png\n"
     ]
    },
    {
     "name": "stderr",
     "output_type": "stream",
     "text": [
      "\n",
      " 12%|█▏        | 18/150 [00:37<08:02,  3.66s/it]\u001b[A"
     ]
    },
    {
     "name": "stdout",
     "output_type": "stream",
     "text": [
      "_0001_0008_fluorescent.png\n"
     ]
    },
    {
     "name": "stderr",
     "output_type": "stream",
     "text": [
      "\n",
      " 13%|█▎        | 19/150 [00:42<08:26,  3.87s/it]\u001b[A"
     ]
    },
    {
     "name": "stdout",
     "output_type": "stream",
     "text": [
      "_0009_0004_fluorescent.png\n"
     ]
    },
    {
     "name": "stderr",
     "output_type": "stream",
     "text": [
      "\n",
      " 13%|█▎        | 20/150 [00:46<08:47,  4.06s/it]\u001b[A"
     ]
    },
    {
     "name": "stdout",
     "output_type": "stream",
     "text": [
      "_0001_0011_fluorescent.png\n"
     ]
    },
    {
     "name": "stderr",
     "output_type": "stream",
     "text": [
      "\n",
      " 14%|█▍        | 21/150 [00:48<07:00,  3.26s/it]\u001b[A"
     ]
    },
    {
     "name": "stdout",
     "output_type": "stream",
     "text": [
      "_0004_0008_fluorescent.png\n"
     ]
    },
    {
     "name": "stderr",
     "output_type": "stream",
     "text": [
      "\n",
      " 15%|█▍        | 22/150 [00:52<08:01,  3.76s/it]\u001b[A"
     ]
    },
    {
     "name": "stdout",
     "output_type": "stream",
     "text": [
      "_0005_0010_fluorescent.png\n"
     ]
    },
    {
     "name": "stderr",
     "output_type": "stream",
     "text": [
      "\n",
      " 15%|█▌        | 23/150 [00:57<08:41,  4.10s/it]\u001b[A"
     ]
    },
    {
     "name": "stdout",
     "output_type": "stream",
     "text": [
      "_0000_0009_fluorescent.png\n"
     ]
    },
    {
     "name": "stderr",
     "output_type": "stream",
     "text": [
      "\n",
      " 16%|█▌        | 24/150 [00:59<06:48,  3.25s/it]\u001b[A"
     ]
    },
    {
     "name": "stdout",
     "output_type": "stream",
     "text": [
      "_0009_0003_fluorescent.png\n"
     ]
    },
    {
     "name": "stderr",
     "output_type": "stream",
     "text": [
      "\n",
      " 17%|█▋        | 25/150 [01:03<07:26,  3.57s/it]\u001b[A"
     ]
    },
    {
     "name": "stdout",
     "output_type": "stream",
     "text": [
      "_0000_0010_fluorescent.png\n"
     ]
    },
    {
     "name": "stderr",
     "output_type": "stream",
     "text": [
      "\n",
      " 17%|█▋        | 26/150 [01:08<08:08,  3.94s/it]\u001b[A"
     ]
    },
    {
     "name": "stdout",
     "output_type": "stream",
     "text": [
      "_0008_0005_fluorescent.png\n"
     ]
    },
    {
     "name": "stderr",
     "output_type": "stream",
     "text": [
      "\n",
      " 18%|█▊        | 27/150 [01:13<08:39,  4.22s/it]\u001b[A"
     ]
    },
    {
     "name": "stdout",
     "output_type": "stream",
     "text": [
      "_0005_0009_fluorescent.png\n"
     ]
    },
    {
     "name": "stderr",
     "output_type": "stream",
     "text": [
      "\n",
      " 19%|█▊        | 28/150 [01:17<08:47,  4.32s/it]\u001b[A"
     ]
    },
    {
     "name": "stdout",
     "output_type": "stream",
     "text": [
      "_0003_0003_fluorescent.png\n"
     ]
    },
    {
     "name": "stderr",
     "output_type": "stream",
     "text": [
      "\n",
      " 19%|█▉        | 29/150 [01:19<06:57,  3.45s/it]\u001b[A"
     ]
    },
    {
     "name": "stdout",
     "output_type": "stream",
     "text": [
      "_0001_0000_fluorescent.png\n"
     ]
    },
    {
     "name": "stderr",
     "output_type": "stream",
     "text": [
      "\n",
      " 20%|██        | 30/150 [01:20<05:33,  2.78s/it]\u001b[A"
     ]
    },
    {
     "name": "stdout",
     "output_type": "stream",
     "text": [
      "_0005_0006_fluorescent.png\n"
     ]
    },
    {
     "name": "stderr",
     "output_type": "stream",
     "text": [
      "\n",
      " 21%|██        | 31/150 [01:24<06:36,  3.33s/it]\u001b[A"
     ]
    },
    {
     "name": "stdout",
     "output_type": "stream",
     "text": [
      "_0011_0004_fluorescent.png\n"
     ]
    },
    {
     "name": "stderr",
     "output_type": "stream",
     "text": [
      "\n",
      " 21%|██▏       | 32/150 [01:33<09:38,  4.90s/it]\u001b[A"
     ]
    },
    {
     "name": "stdout",
     "output_type": "stream",
     "text": [
      "_0007_0005_fluorescent.png\n"
     ]
    },
    {
     "name": "stderr",
     "output_type": "stream",
     "text": [
      "\n",
      " 22%|██▏       | 33/150 [01:38<09:53,  5.08s/it]\u001b[A"
     ]
    },
    {
     "name": "stdout",
     "output_type": "stream",
     "text": [
      "_0004_0000_fluorescent.png\n"
     ]
    },
    {
     "name": "stderr",
     "output_type": "stream",
     "text": [
      "\n",
      " 23%|██▎       | 34/150 [01:43<09:22,  4.85s/it]\u001b[A"
     ]
    },
    {
     "name": "stdout",
     "output_type": "stream",
     "text": [
      "_0010_0002_fluorescent.png\n"
     ]
    },
    {
     "name": "stderr",
     "output_type": "stream",
     "text": [
      "\n",
      " 23%|██▎       | 35/150 [01:47<08:55,  4.66s/it]\u001b[A"
     ]
    },
    {
     "name": "stdout",
     "output_type": "stream",
     "text": [
      "_0006_0003_fluorescent.png\n"
     ]
    },
    {
     "name": "stderr",
     "output_type": "stream",
     "text": [
      "\n",
      " 24%|██▍       | 36/150 [01:48<07:00,  3.69s/it]\u001b[A"
     ]
    },
    {
     "name": "stdout",
     "output_type": "stream",
     "text": [
      "_0002_0005_fluorescent.png\n"
     ]
    },
    {
     "name": "stderr",
     "output_type": "stream",
     "text": [
      "\n",
      " 25%|██▍       | 37/150 [01:53<07:19,  3.89s/it]\u001b[A"
     ]
    },
    {
     "name": "stdout",
     "output_type": "stream",
     "text": [
      "_0000_0006_fluorescent.png\n"
     ]
    },
    {
     "name": "stderr",
     "output_type": "stream",
     "text": [
      "\n",
      " 25%|██▌       | 38/150 [01:57<07:39,  4.10s/it]\u001b[A"
     ]
    },
    {
     "name": "stdout",
     "output_type": "stream",
     "text": [
      "_0000_0008_fluorescent.png\n"
     ]
    },
    {
     "name": "stderr",
     "output_type": "stream",
     "text": [
      "\n",
      " 26%|██▌       | 39/150 [01:59<06:05,  3.29s/it]\u001b[A"
     ]
    },
    {
     "name": "stdout",
     "output_type": "stream",
     "text": [
      "_0009_0002_fluorescent.png\n"
     ]
    },
    {
     "name": "stderr",
     "output_type": "stream",
     "text": [
      "\n",
      " 27%|██▋       | 40/150 [02:04<06:58,  3.81s/it]\u001b[A"
     ]
    },
    {
     "name": "stdout",
     "output_type": "stream",
     "text": [
      "_0005_0011_fluorescent.png\n"
     ]
    },
    {
     "name": "stderr",
     "output_type": "stream",
     "text": [
      "\n",
      " 27%|██▋       | 41/150 [02:10<08:18,  4.58s/it]\u001b[A"
     ]
    },
    {
     "name": "stdout",
     "output_type": "stream",
     "text": [
      "_0005_0008_fluorescent.png\n"
     ]
    },
    {
     "name": "stderr",
     "output_type": "stream",
     "text": [
      "\n",
      " 28%|██▊       | 42/150 [02:15<08:20,  4.63s/it]\u001b[A"
     ]
    },
    {
     "name": "stdout",
     "output_type": "stream",
     "text": [
      "_0000_0011_fluorescent.png\n"
     ]
    },
    {
     "name": "stderr",
     "output_type": "stream",
     "text": [
      "\n",
      " 29%|██▊       | 43/150 [02:16<06:33,  3.68s/it]\u001b[A"
     ]
    },
    {
     "name": "stdout",
     "output_type": "stream",
     "text": [
      "_0008_0004_fluorescent.png\n"
     ]
    },
    {
     "name": "stderr",
     "output_type": "stream",
     "text": [
      "\n",
      " 29%|██▉       | 44/150 [02:22<07:19,  4.15s/it]\u001b[A"
     ]
    },
    {
     "name": "stdout",
     "output_type": "stream",
     "text": [
      "_0005_0007_fluorescent.png\n"
     ]
    },
    {
     "name": "stderr",
     "output_type": "stream",
     "text": [
      "\n",
      " 30%|███       | 45/150 [02:27<07:39,  4.38s/it]\u001b[A"
     ]
    },
    {
     "name": "stdout",
     "output_type": "stream",
     "text": [
      "_0011_0005_fluorescent.png\n"
     ]
    },
    {
     "name": "stderr",
     "output_type": "stream",
     "text": [
      "\n",
      " 31%|███       | 46/150 [02:38<11:24,  6.58s/it]\u001b[A"
     ]
    },
    {
     "name": "stdout",
     "output_type": "stream",
     "text": [
      "_0007_0004_fluorescent.png\n"
     ]
    },
    {
     "name": "stderr",
     "output_type": "stream",
     "text": [
      "\n",
      " 31%|███▏      | 47/150 [02:40<08:42,  5.08s/it]\u001b[A"
     ]
    },
    {
     "name": "stdout",
     "output_type": "stream",
     "text": [
      "_0003_0002_fluorescent.png\n"
     ]
    },
    {
     "name": "stderr",
     "output_type": "stream",
     "text": [
      "\n",
      " 32%|███▏      | 48/150 [02:44<08:12,  4.83s/it]\u001b[A"
     ]
    },
    {
     "name": "stdout",
     "output_type": "stream",
     "text": [
      "_0001_0001_fluorescent.png\n"
     ]
    },
    {
     "name": "stderr",
     "output_type": "stream",
     "text": [
      "\n",
      " 33%|███▎      | 49/150 [02:48<07:48,  4.64s/it]\u001b[A"
     ]
    },
    {
     "name": "stdout",
     "output_type": "stream",
     "text": [
      "_0002_0004_fluorescent.png\n"
     ]
    },
    {
     "name": "stderr",
     "output_type": "stream",
     "text": [
      "\n",
      " 33%|███▎      | 50/150 [02:50<06:04,  3.65s/it]\u001b[A"
     ]
    },
    {
     "name": "stdout",
     "output_type": "stream",
     "text": [
      "_0000_0007_fluorescent.png\n"
     ]
    },
    {
     "name": "stderr",
     "output_type": "stream",
     "text": [
      "\n",
      " 34%|███▍      | 51/150 [02:51<04:54,  2.97s/it]\u001b[A"
     ]
    },
    {
     "name": "stdout",
     "output_type": "stream",
     "text": [
      "_0004_0001_fluorescent.png\n"
     ]
    },
    {
     "name": "stderr",
     "output_type": "stream",
     "text": [
      "\n",
      " 35%|███▍      | 52/150 [02:52<04:03,  2.49s/it]\u001b[A"
     ]
    },
    {
     "name": "stdout",
     "output_type": "stream",
     "text": [
      "_0010_0003_fluorescent.png\n"
     ]
    },
    {
     "name": "stderr",
     "output_type": "stream",
     "text": [
      "\n",
      " 35%|███▌      | 53/150 [02:57<05:05,  3.15s/it]\u001b[A"
     ]
    },
    {
     "name": "stdout",
     "output_type": "stream",
     "text": [
      "_0006_0002_fluorescent.png\n"
     ]
    },
    {
     "name": "stderr",
     "output_type": "stream",
     "text": [
      "\n",
      " 36%|███▌      | 54/150 [03:01<05:16,  3.30s/it]\u001b[A"
     ]
    },
    {
     "name": "stdout",
     "output_type": "stream",
     "text": [
      "_0006_0005_fluorescent.png\n"
     ]
    },
    {
     "name": "stderr",
     "output_type": "stream",
     "text": [
      "\n",
      " 37%|███▋      | 55/150 [03:07<06:52,  4.34s/it]\u001b[A"
     ]
    },
    {
     "name": "stdout",
     "output_type": "stream",
     "text": [
      "_0010_0004_fluorescent.png\n"
     ]
    },
    {
     "name": "stderr",
     "output_type": "stream",
     "text": [
      "\n",
      " 37%|███▋      | 56/150 [03:12<06:52,  4.39s/it]\u001b[A"
     ]
    },
    {
     "name": "stdout",
     "output_type": "stream",
     "text": [
      "_0004_0006_fluorescent.png\n"
     ]
    },
    {
     "name": "stderr",
     "output_type": "stream",
     "text": [
      "\n",
      " 38%|███▊      | 57/150 [03:17<07:17,  4.70s/it]\u001b[A"
     ]
    },
    {
     "name": "stdout",
     "output_type": "stream",
     "text": [
      "_0000_0000_fluorescent.png\n"
     ]
    },
    {
     "name": "stderr",
     "output_type": "stream",
     "text": [
      "\n",
      " 39%|███▊      | 58/150 [03:22<07:04,  4.61s/it]\u001b[A"
     ]
    },
    {
     "name": "stdout",
     "output_type": "stream",
     "text": [
      "_0002_0003_fluorescent.png\n"
     ]
    },
    {
     "name": "stderr",
     "output_type": "stream",
     "text": [
      "\n",
      " 39%|███▉      | 59/150 [03:23<05:26,  3.59s/it]\u001b[A"
     ]
    },
    {
     "name": "stdout",
     "output_type": "stream",
     "text": [
      "_0001_0006_fluorescent.png\n"
     ]
    },
    {
     "name": "stderr",
     "output_type": "stream",
     "text": [
      "\n",
      " 40%|████      | 60/150 [03:24<04:24,  2.94s/it]\u001b[A"
     ]
    },
    {
     "name": "stdout",
     "output_type": "stream",
     "text": [
      "_0003_0005_fluorescent.png\n"
     ]
    },
    {
     "name": "stderr",
     "output_type": "stream",
     "text": [
      "\n",
      " 41%|████      | 61/150 [03:26<03:39,  2.47s/it]\u001b[A"
     ]
    },
    {
     "name": "stdout",
     "output_type": "stream",
     "text": [
      "_0007_0003_fluorescent.png\n"
     ]
    },
    {
     "name": "stderr",
     "output_type": "stream",
     "text": [
      "\n",
      " 41%|████▏     | 62/150 [03:33<05:54,  4.03s/it]\u001b[A"
     ]
    },
    {
     "name": "stdout",
     "output_type": "stream",
     "text": [
      "_0011_0002_fluorescent.png\n"
     ]
    },
    {
     "name": "stderr",
     "output_type": "stream",
     "text": [
      "\n",
      " 42%|████▏     | 63/150 [03:35<04:38,  3.20s/it]\u001b[A"
     ]
    },
    {
     "name": "stdout",
     "output_type": "stream",
     "text": [
      "_0005_0000_fluorescent.png\n"
     ]
    },
    {
     "name": "stderr",
     "output_type": "stream",
     "text": [
      "\n",
      " 43%|████▎     | 64/150 [03:36<03:45,  2.62s/it]\u001b[A"
     ]
    },
    {
     "name": "stdout",
     "output_type": "stream",
     "text": [
      "_0008_0003_fluorescent.png\n"
     ]
    },
    {
     "name": "stderr",
     "output_type": "stream",
     "text": [
      "\n",
      " 43%|████▎     | 65/150 [03:37<03:14,  2.29s/it]\u001b[A"
     ]
    },
    {
     "name": "stdout",
     "output_type": "stream",
     "text": [
      "_0001_0009_fluorescent.png\n"
     ]
    },
    {
     "name": "stderr",
     "output_type": "stream",
     "text": [
      "\n",
      " 44%|████▍     | 66/150 [03:39<02:54,  2.08s/it]\u001b[A"
     ]
    },
    {
     "name": "stdout",
     "output_type": "stream",
     "text": [
      "_0004_0010_fluorescent.png\n"
     ]
    },
    {
     "name": "stderr",
     "output_type": "stream",
     "text": [
      "\n",
      " 45%|████▍     | 67/150 [03:44<04:02,  2.92s/it]\u001b[A"
     ]
    },
    {
     "name": "stdout",
     "output_type": "stream",
     "text": [
      "_0004_0009_fluorescent.png\n"
     ]
    },
    {
     "name": "stderr",
     "output_type": "stream",
     "text": [
      "\n",
      " 45%|████▌     | 68/150 [03:48<04:37,  3.38s/it]\u001b[A"
     ]
    },
    {
     "name": "stdout",
     "output_type": "stream",
     "text": [
      "_0009_0005_fluorescent.png\n"
     ]
    },
    {
     "name": "stderr",
     "output_type": "stream",
     "text": [
      "\n",
      " 46%|████▌     | 69/150 [03:55<05:41,  4.22s/it]\u001b[A"
     ]
    },
    {
     "name": "stdout",
     "output_type": "stream",
     "text": [
      "_0001_0010_fluorescent.png\n"
     ]
    },
    {
     "name": "stderr",
     "output_type": "stream",
     "text": [
      "\n",
      " 47%|████▋     | 70/150 [03:59<05:36,  4.20s/it]\u001b[A"
     ]
    },
    {
     "name": "stdout",
     "output_type": "stream",
     "text": [
      "_0007_0009_fluorescent.png\n"
     ]
    },
    {
     "name": "stderr",
     "output_type": "stream",
     "text": [
      "\n",
      " 47%|████▋     | 71/150 [04:04<05:52,  4.47s/it]\u001b[A"
     ]
    },
    {
     "name": "stdout",
     "output_type": "stream",
     "text": [
      "_0011_0008_fluorescent.png\n"
     ]
    },
    {
     "name": "stderr",
     "output_type": "stream",
     "text": [
      "\n",
      " 48%|████▊     | 72/150 [04:12<07:25,  5.71s/it]\u001b[A"
     ]
    },
    {
     "name": "stdout",
     "output_type": "stream",
     "text": [
      "_0002_0010_fluorescent.png\n"
     ]
    },
    {
     "name": "stderr",
     "output_type": "stream",
     "text": [
      "\n",
      " 49%|████▊     | 73/150 [04:17<06:52,  5.36s/it]\u001b[A"
     ]
    },
    {
     "name": "stdout",
     "output_type": "stream",
     "text": [
      "_0008_0006_fluorescent.png\n"
     ]
    },
    {
     "name": "stderr",
     "output_type": "stream",
     "text": [
      "\n",
      " 49%|████▉     | 74/150 [04:25<07:56,  6.27s/it]\u001b[A"
     ]
    },
    {
     "name": "stdout",
     "output_type": "stream",
     "text": [
      "_0002_0009_fluorescent.png\n"
     ]
    },
    {
     "name": "stderr",
     "output_type": "stream",
     "text": [
      "\n",
      " 50%|█████     | 75/150 [04:27<06:05,  4.87s/it]\u001b[A"
     ]
    },
    {
     "name": "stdout",
     "output_type": "stream",
     "text": [
      "_0009_0000_fluorescent.png\n"
     ]
    },
    {
     "name": "stderr",
     "output_type": "stream",
     "text": [
      "\n",
      " 51%|█████     | 76/150 [04:34<06:39,  5.39s/it]\u001b[A"
     ]
    },
    {
     "name": "stdout",
     "output_type": "stream",
     "text": [
      "_0011_0011_fluorescent.png\n"
     ]
    },
    {
     "name": "stderr",
     "output_type": "stream",
     "text": [
      "\n",
      " 51%|█████▏    | 77/150 [04:41<07:20,  6.03s/it]\u001b[A"
     ]
    },
    {
     "name": "stdout",
     "output_type": "stream",
     "text": [
      "_0007_0010_fluorescent.png\n"
     ]
    },
    {
     "name": "stderr",
     "output_type": "stream",
     "text": [
      "\n",
      " 52%|█████▏    | 78/150 [04:47<07:02,  5.87s/it]\u001b[A"
     ]
    },
    {
     "name": "stdout",
     "output_type": "stream",
     "text": [
      "_0002_0006_fluorescent.png\n"
     ]
    },
    {
     "name": "stderr",
     "output_type": "stream",
     "text": [
      "\n",
      " 53%|█████▎    | 79/150 [04:53<07:15,  6.14s/it]\u001b[A"
     ]
    },
    {
     "name": "stdout",
     "output_type": "stream",
     "text": [
      "_0000_0005_fluorescent.png\n"
     ]
    },
    {
     "name": "stderr",
     "output_type": "stream",
     "text": [
      "\n",
      " 53%|█████▎    | 80/150 [04:55<05:26,  4.66s/it]\u001b[A"
     ]
    },
    {
     "name": "stdout",
     "output_type": "stream",
     "text": [
      "_0008_0010_fluorescent.png\n"
     ]
    },
    {
     "name": "stderr",
     "output_type": "stream",
     "text": [
      "\n",
      " 54%|█████▍    | 81/150 [05:00<05:28,  4.76s/it]\u001b[A"
     ]
    },
    {
     "name": "stdout",
     "output_type": "stream",
     "text": [
      "_0010_0001_fluorescent.png\n"
     ]
    },
    {
     "name": "stderr",
     "output_type": "stream",
     "text": [
      "\n",
      " 55%|█████▍    | 82/150 [05:05<05:42,  5.04s/it]\u001b[A"
     ]
    },
    {
     "name": "stdout",
     "output_type": "stream",
     "text": [
      "_0004_0003_fluorescent.png\n"
     ]
    },
    {
     "name": "stderr",
     "output_type": "stream",
     "text": [
      "\n",
      " 55%|█████▌    | 83/150 [05:08<04:52,  4.37s/it]\u001b[A"
     ]
    },
    {
     "name": "stdout",
     "output_type": "stream",
     "text": [
      "_0006_0000_fluorescent.png\n"
     ]
    },
    {
     "name": "stderr",
     "output_type": "stream",
     "text": [
      "\n",
      " 56%|█████▌    | 84/150 [05:13<04:56,  4.49s/it]\u001b[A"
     ]
    },
    {
     "name": "stdout",
     "output_type": "stream",
     "text": [
      "_0011_0007_fluorescent.png\n"
     ]
    },
    {
     "name": "stderr",
     "output_type": "stream",
     "text": [
      "\n",
      " 57%|█████▋    | 85/150 [05:25<07:21,  6.80s/it]\u001b[A"
     ]
    },
    {
     "name": "stdout",
     "output_type": "stream",
     "text": [
      "_0005_0005_fluorescent.png\n"
     ]
    },
    {
     "name": "stderr",
     "output_type": "stream",
     "text": [
      "\n",
      " 57%|█████▋    | 86/150 [05:31<07:04,  6.63s/it]\u001b[A"
     ]
    },
    {
     "name": "stdout",
     "output_type": "stream",
     "text": [
      "_0007_0006_fluorescent.png\n"
     ]
    },
    {
     "name": "stderr",
     "output_type": "stream",
     "text": [
      "\n",
      " 58%|█████▊    | 87/150 [05:40<07:42,  7.35s/it]\u001b[A"
     ]
    },
    {
     "name": "stdout",
     "output_type": "stream",
     "text": [
      "_0003_0000_fluorescent.png\n"
     ]
    },
    {
     "name": "stderr",
     "output_type": "stream",
     "text": [
      "\n",
      " 59%|█████▊    | 88/150 [05:45<06:39,  6.45s/it]\u001b[A"
     ]
    },
    {
     "name": "stdout",
     "output_type": "stream",
     "text": [
      "_0008_0009_fluorescent.png\n"
     ]
    },
    {
     "name": "stderr",
     "output_type": "stream",
     "text": [
      "\n",
      " 59%|█████▉    | 89/150 [05:49<06:03,  5.96s/it]\u001b[A"
     ]
    },
    {
     "name": "stdout",
     "output_type": "stream",
     "text": [
      "_0001_0003_fluorescent.png\n"
     ]
    },
    {
     "name": "stderr",
     "output_type": "stream",
     "text": [
      "\n",
      " 60%|██████    | 90/150 [05:51<04:34,  4.57s/it]\u001b[A"
     ]
    },
    {
     "name": "stdout",
     "output_type": "stream",
     "text": [
      "_0009_0011_fluorescent.png\n"
     ]
    },
    {
     "name": "stderr",
     "output_type": "stream",
     "text": [
      "\n",
      " 61%|██████    | 91/150 [05:57<04:49,  4.91s/it]\u001b[A"
     ]
    },
    {
     "name": "stdout",
     "output_type": "stream",
     "text": [
      "_0001_0004_fluorescent.png\n"
     ]
    },
    {
     "name": "stderr",
     "output_type": "stream",
     "text": [
      "\n",
      " 61%|██████▏   | 92/150 [05:58<03:39,  3.79s/it]\u001b[A"
     ]
    },
    {
     "name": "stdout",
     "output_type": "stream",
     "text": [
      "_0003_0007_fluorescent.png\n"
     ]
    },
    {
     "name": "stderr",
     "output_type": "stream",
     "text": [
      "\n",
      " 62%|██████▏   | 93/150 [06:04<04:11,  4.41s/it]\u001b[A"
     ]
    },
    {
     "name": "stdout",
     "output_type": "stream",
     "text": [
      "_0007_0001_fluorescent.png\n"
     ]
    },
    {
     "name": "stderr",
     "output_type": "stream",
     "text": [
      "\n",
      " 63%|██████▎   | 94/150 [06:08<04:03,  4.35s/it]\u001b[A"
     ]
    },
    {
     "name": "stdout",
     "output_type": "stream",
     "text": [
      "_0005_0002_fluorescent.png\n"
     ]
    },
    {
     "name": "stderr",
     "output_type": "stream",
     "text": [
      "\n",
      " 63%|██████▎   | 95/150 [06:09<03:07,  3.40s/it]\u001b[A"
     ]
    },
    {
     "name": "stdout",
     "output_type": "stream",
     "text": [
      "_0011_0000_fluorescent.png\n"
     ]
    },
    {
     "name": "stderr",
     "output_type": "stream",
     "text": [
      "\n",
      " 64%|██████▍   | 96/150 [06:13<03:21,  3.73s/it]\u001b[A"
     ]
    },
    {
     "name": "stdout",
     "output_type": "stream",
     "text": [
      "_0006_0007_fluorescent.png\n"
     ]
    },
    {
     "name": "stderr",
     "output_type": "stream",
     "text": [
      "\n",
      " 65%|██████▍   | 97/150 [06:19<03:43,  4.23s/it]\u001b[A"
     ]
    },
    {
     "name": "stdout",
     "output_type": "stream",
     "text": [
      "_0004_0004_fluorescent.png\n"
     ]
    },
    {
     "name": "stderr",
     "output_type": "stream",
     "text": [
      "\n",
      " 65%|██████▌   | 98/150 [06:24<03:47,  4.38s/it]\u001b[A"
     ]
    },
    {
     "name": "stdout",
     "output_type": "stream",
     "text": [
      "_0010_0006_fluorescent.png\n"
     ]
    },
    {
     "name": "stderr",
     "output_type": "stream",
     "text": [
      "\n",
      " 66%|██████▌   | 99/150 [06:30<04:20,  5.10s/it]\u001b[A"
     ]
    },
    {
     "name": "stdout",
     "output_type": "stream",
     "text": [
      "_0000_0002_fluorescent.png\n"
     ]
    },
    {
     "name": "stderr",
     "output_type": "stream",
     "text": [
      "\n",
      " 67%|██████▋   | 100/150 [06:32<03:19,  3.98s/it]\u001b[A"
     ]
    },
    {
     "name": "stdout",
     "output_type": "stream",
     "text": [
      "_0009_0008_fluorescent.png\n"
     ]
    },
    {
     "name": "stderr",
     "output_type": "stream",
     "text": [
      "\n",
      " 67%|██████▋   | 101/150 [06:38<03:51,  4.72s/it]\u001b[A"
     ]
    },
    {
     "name": "stdout",
     "output_type": "stream",
     "text": [
      "_0002_0001_fluorescent.png\n"
     ]
    },
    {
     "name": "stderr",
     "output_type": "stream",
     "text": [
      "\n",
      " 68%|██████▊   | 102/150 [06:42<03:37,  4.52s/it]\u001b[A"
     ]
    },
    {
     "name": "stdout",
     "output_type": "stream",
     "text": [
      "_0010_0009_fluorescent.png\n"
     ]
    },
    {
     "name": "stderr",
     "output_type": "stream",
     "text": [
      "\n",
      " 69%|██████▊   | 103/150 [06:48<03:54,  5.00s/it]\u001b[A"
     ]
    },
    {
     "name": "stdout",
     "output_type": "stream",
     "text": [
      "_0006_0008_fluorescent.png\n"
     ]
    },
    {
     "name": "stderr",
     "output_type": "stream",
     "text": [
      "\n",
      " 69%|██████▉   | 104/150 [06:53<03:45,  4.90s/it]\u001b[A"
     ]
    },
    {
     "name": "stdout",
     "output_type": "stream",
     "text": [
      "_0009_0007_fluorescent.png\n"
     ]
    },
    {
     "name": "stderr",
     "output_type": "stream",
     "text": [
      "\n",
      " 70%|███████   | 105/150 [06:58<03:36,  4.82s/it]\u001b[A"
     ]
    },
    {
     "name": "stdout",
     "output_type": "stream",
     "text": [
      "_0003_0011_fluorescent.png\n"
     ]
    },
    {
     "name": "stderr",
     "output_type": "stream",
     "text": [
      "\n",
      " 71%|███████   | 106/150 [07:02<03:32,  4.83s/it]\u001b[A"
     ]
    },
    {
     "name": "stdout",
     "output_type": "stream",
     "text": [
      "_0008_0001_fluorescent.png\n"
     ]
    },
    {
     "name": "stderr",
     "output_type": "stream",
     "text": [
      "\n",
      " 71%|███████▏  | 107/150 [07:10<04:04,  5.69s/it]\u001b[A"
     ]
    },
    {
     "name": "stdout",
     "output_type": "stream",
     "text": [
      "_0003_0008_fluorescent.png\n"
     ]
    },
    {
     "name": "stderr",
     "output_type": "stream",
     "text": [
      "\n",
      " 72%|███████▏  | 108/150 [07:15<03:47,  5.42s/it]\u001b[A"
     ]
    },
    {
     "name": "stdout",
     "output_type": "stream",
     "text": [
      "_0006_0011_fluorescent.png\n"
     ]
    },
    {
     "name": "stderr",
     "output_type": "stream",
     "text": [
      "\n",
      " 73%|███████▎  | 109/150 [07:21<03:51,  5.66s/it]\u001b[A"
     ]
    },
    {
     "name": "stdout",
     "output_type": "stream",
     "text": [
      "_0010_0010_fluorescent.png\n"
     ]
    },
    {
     "name": "stderr",
     "output_type": "stream",
     "text": [
      "\n",
      " 73%|███████▎  | 110/150 [07:27<03:42,  5.56s/it]\u001b[A"
     ]
    },
    {
     "name": "stdout",
     "output_type": "stream",
     "text": [
      "_0007_0000_fluorescent.png\n"
     ]
    },
    {
     "name": "stderr",
     "output_type": "stream",
     "text": [
      "\n",
      " 74%|███████▍  | 111/150 [07:28<02:46,  4.26s/it]\u001b[A"
     ]
    },
    {
     "name": "stdout",
     "output_type": "stream",
     "text": [
      "_0005_0003_fluorescent.png\n"
     ]
    },
    {
     "name": "stderr",
     "output_type": "stream",
     "text": [
      "\n",
      " 75%|███████▍  | 112/150 [07:32<02:43,  4.30s/it]\u001b[A"
     ]
    },
    {
     "name": "stdout",
     "output_type": "stream",
     "text": [
      "_0011_0001_fluorescent.png\n"
     ]
    },
    {
     "name": "stderr",
     "output_type": "stream",
     "text": [
      "\n",
      " 75%|███████▌  | 113/150 [07:37<02:41,  4.36s/it]\u001b[A"
     ]
    },
    {
     "name": "stdout",
     "output_type": "stream",
     "text": [
      "_0009_0010_fluorescent.png\n"
     ]
    },
    {
     "name": "stderr",
     "output_type": "stream",
     "text": [
      "\n",
      " 76%|███████▌  | 114/150 [07:45<03:18,  5.51s/it]\u001b[A"
     ]
    },
    {
     "name": "stdout",
     "output_type": "stream",
     "text": [
      "_0001_0005_fluorescent.png\n"
     ]
    },
    {
     "name": "stderr",
     "output_type": "stream",
     "text": [
      "\n",
      " 77%|███████▋  | 115/150 [07:46<02:28,  4.24s/it]\u001b[A"
     ]
    },
    {
     "name": "stdout",
     "output_type": "stream",
     "text": [
      "_0003_0006_fluorescent.png\n"
     ]
    },
    {
     "name": "stderr",
     "output_type": "stream",
     "text": [
      "\n",
      " 77%|███████▋  | 116/150 [07:51<02:27,  4.34s/it]\u001b[A"
     ]
    },
    {
     "name": "stdout",
     "output_type": "stream",
     "text": [
      "_0000_0003_fluorescent.png\n"
     ]
    },
    {
     "name": "stderr",
     "output_type": "stream",
     "text": [
      "\n",
      " 78%|███████▊  | 117/150 [07:52<01:52,  3.39s/it]\u001b[A"
     ]
    },
    {
     "name": "stdout",
     "output_type": "stream",
     "text": [
      "_0002_0000_fluorescent.png\n"
     ]
    },
    {
     "name": "stderr",
     "output_type": "stream",
     "text": [
      "\n",
      " 79%|███████▊  | 118/150 [07:53<01:29,  2.79s/it]\u001b[A"
     ]
    },
    {
     "name": "stdout",
     "output_type": "stream",
     "text": [
      "_0009_0009_fluorescent.png\n"
     ]
    },
    {
     "name": "stderr",
     "output_type": "stream",
     "text": [
      "\n",
      " 79%|███████▉  | 119/150 [08:06<02:56,  5.69s/it]\u001b[A"
     ]
    },
    {
     "name": "stdout",
     "output_type": "stream",
     "text": [
      "_0006_0006_fluorescent.png\n"
     ]
    },
    {
     "name": "stderr",
     "output_type": "stream",
     "text": [
      "\n",
      " 80%|████████  | 120/150 [13:36<51:32, 103.07s/it]\u001b[A"
     ]
    },
    {
     "name": "stdout",
     "output_type": "stream",
     "text": [
      "_0004_0005_fluorescent.png\n"
     ]
    },
    {
     "name": "stderr",
     "output_type": "stream",
     "text": [
      "\n",
      " 81%|████████  | 121/150 [13:42<35:40, 73.83s/it] \u001b[A"
     ]
    },
    {
     "name": "stdout",
     "output_type": "stream",
     "text": [
      "_0010_0007_fluorescent.png\n"
     ]
    },
    {
     "name": "stderr",
     "output_type": "stream",
     "text": [
      "\n",
      " 81%|████████▏ | 122/150 [14:12<28:22, 60.81s/it]\u001b[A"
     ]
    },
    {
     "name": "stdout",
     "output_type": "stream",
     "text": [
      "_0009_0006_fluorescent.png\n"
     ]
    },
    {
     "name": "stderr",
     "output_type": "stream",
     "text": [
      "\n",
      " 82%|████████▏ | 123/150 [14:18<19:55, 44.27s/it]\u001b[A"
     ]
    },
    {
     "name": "stdout",
     "output_type": "stream",
     "text": [
      "_0003_0010_fluorescent.png\n"
     ]
    },
    {
     "name": "stderr",
     "output_type": "stream",
     "text": [
      "\n",
      " 83%|████████▎ | 124/150 [16:39<31:44, 73.24s/it]\u001b[A"
     ]
    },
    {
     "name": "stdout",
     "output_type": "stream",
     "text": [
      "_0010_0008_fluorescent.png\n"
     ]
    },
    {
     "name": "stderr",
     "output_type": "stream",
     "text": [
      "\n",
      " 83%|████████▎ | 125/150 [16:54<23:19, 56.00s/it]\u001b[A"
     ]
    },
    {
     "name": "stdout",
     "output_type": "stream",
     "text": [
      "_0006_0009_fluorescent.png\n"
     ]
    },
    {
     "name": "stderr",
     "output_type": "stream",
     "text": [
      "\n",
      " 84%|████████▍ | 126/150 [17:00<16:22, 40.94s/it]\u001b[A"
     ]
    },
    {
     "name": "stdout",
     "output_type": "stream",
     "text": [
      "_0006_0010_fluorescent.png\n"
     ]
    },
    {
     "name": "stderr",
     "output_type": "stream",
     "text": [
      "\n",
      " 85%|████████▍ | 127/150 [17:06<11:38, 30.37s/it]\u001b[A"
     ]
    },
    {
     "name": "stdout",
     "output_type": "stream",
     "text": [
      "_0010_0011_fluorescent.png\n"
     ]
    },
    {
     "name": "stderr",
     "output_type": "stream",
     "text": [
      "\n",
      " 85%|████████▌ | 128/150 [17:13<08:33, 23.33s/it]\u001b[A"
     ]
    },
    {
     "name": "stdout",
     "output_type": "stream",
     "text": [
      "_0003_0009_fluorescent.png\n"
     ]
    },
    {
     "name": "stderr",
     "output_type": "stream",
     "text": [
      "\n",
      " 86%|████████▌ | 129/150 [17:18<06:13, 17.80s/it]\u001b[A"
     ]
    },
    {
     "name": "stdout",
     "output_type": "stream",
     "text": [
      "_0008_0000_fluorescent.png\n"
     ]
    },
    {
     "name": "stderr",
     "output_type": "stream",
     "text": [
      "\n",
      " 87%|████████▋ | 130/150 [17:23<04:39, 13.96s/it]\u001b[A"
     ]
    },
    {
     "name": "stdout",
     "output_type": "stream",
     "text": [
      "_0002_0011_fluorescent.png\n"
     ]
    },
    {
     "name": "stderr",
     "output_type": "stream",
     "text": [
      "\n",
      " 87%|████████▋ | 131/150 [17:29<03:40, 11.58s/it]\u001b[A"
     ]
    },
    {
     "name": "stdout",
     "output_type": "stream",
     "text": [
      "_0008_0007_fluorescent.png\n"
     ]
    },
    {
     "name": "stderr",
     "output_type": "stream",
     "text": [
      "\n",
      " 88%|████████▊ | 132/150 [17:38<03:15, 10.84s/it]\u001b[A"
     ]
    },
    {
     "name": "stdout",
     "output_type": "stream",
     "text": [
      "_0007_0008_fluorescent.png\n"
     ]
    },
    {
     "name": "stderr",
     "output_type": "stream",
     "text": [
      "\n",
      " 89%|████████▊ | 133/150 [17:44<02:40,  9.46s/it]\u001b[A"
     ]
    },
    {
     "name": "stdout",
     "output_type": "stream",
     "text": [
      "_0011_0009_fluorescent.png\n"
     ]
    },
    {
     "name": "stderr",
     "output_type": "stream",
     "text": [
      "\n",
      " 89%|████████▉ | 134/150 [17:52<02:23,  8.99s/it]\u001b[A"
     ]
    },
    {
     "name": "stdout",
     "output_type": "stream",
     "text": [
      "_0011_0010_fluorescent.png\n"
     ]
    },
    {
     "name": "stderr",
     "output_type": "stream",
     "text": [
      "\n",
      " 90%|█████████ | 135/150 [18:02<02:20,  9.34s/it]\u001b[A"
     ]
    },
    {
     "name": "stdout",
     "output_type": "stream",
     "text": [
      "_0007_0011_fluorescent.png\n"
     ]
    },
    {
     "name": "stderr",
     "output_type": "stream",
     "text": [
      "\n",
      " 91%|█████████ | 136/150 [18:06<01:47,  7.68s/it]\u001b[A"
     ]
    },
    {
     "name": "stdout",
     "output_type": "stream",
     "text": [
      "_0009_0001_fluorescent.png\n"
     ]
    },
    {
     "name": "stderr",
     "output_type": "stream",
     "text": [
      "\n",
      " 91%|█████████▏| 137/150 [18:10<01:26,  6.66s/it]\u001b[A"
     ]
    },
    {
     "name": "stdout",
     "output_type": "stream",
     "text": [
      "_0002_0008_fluorescent.png\n"
     ]
    },
    {
     "name": "stderr",
     "output_type": "stream",
     "text": [
      "\n",
      " 92%|█████████▏| 138/150 [18:17<01:22,  6.87s/it]\u001b[A"
     ]
    },
    {
     "name": "stdout",
     "output_type": "stream",
     "text": [
      "_0010_0000_fluorescent.png\n"
     ]
    },
    {
     "name": "stderr",
     "output_type": "stream",
     "text": [
      "\n",
      " 93%|█████████▎| 139/150 [18:19<00:58,  5.30s/it]\u001b[A"
     ]
    },
    {
     "name": "stdout",
     "output_type": "stream",
     "text": [
      "_0004_0002_fluorescent.png\n"
     ]
    },
    {
     "name": "stderr",
     "output_type": "stream",
     "text": [
      "\n",
      " 93%|█████████▎| 140/150 [18:24<00:52,  5.27s/it]\u001b[A"
     ]
    },
    {
     "name": "stdout",
     "output_type": "stream",
     "text": [
      "_0006_0001_fluorescent.png\n"
     ]
    },
    {
     "name": "stderr",
     "output_type": "stream",
     "text": [
      "\n",
      " 94%|█████████▍| 141/150 [18:28<00:43,  4.83s/it]\u001b[A"
     ]
    },
    {
     "name": "stdout",
     "output_type": "stream",
     "text": [
      "_0002_0007_fluorescent.png\n"
     ]
    },
    {
     "name": "stderr",
     "output_type": "stream",
     "text": [
      "\n",
      " 95%|█████████▍| 142/150 [18:34<00:40,  5.01s/it]\u001b[A"
     ]
    },
    {
     "name": "stdout",
     "output_type": "stream",
     "text": [
      "_0000_0004_fluorescent.png\n"
     ]
    },
    {
     "name": "stderr",
     "output_type": "stream",
     "text": [
      "\n",
      " 95%|█████████▌| 143/150 [18:35<00:27,  3.99s/it]\u001b[A"
     ]
    },
    {
     "name": "stdout",
     "output_type": "stream",
     "text": [
      "_0008_0011_fluorescent.png\n"
     ]
    },
    {
     "name": "stderr",
     "output_type": "stream",
     "text": [
      "\n",
      " 96%|█████████▌| 144/150 [18:41<00:26,  4.42s/it]\u001b[A"
     ]
    },
    {
     "name": "stdout",
     "output_type": "stream",
     "text": [
      "_0008_0008_fluorescent.png\n"
     ]
    },
    {
     "name": "stderr",
     "output_type": "stream",
     "text": [
      "\n",
      " 97%|█████████▋| 145/150 [18:47<00:24,  5.00s/it]\u001b[A"
     ]
    },
    {
     "name": "stdout",
     "output_type": "stream",
     "text": [
      "_0003_0001_fluorescent.png\n"
     ]
    },
    {
     "name": "stderr",
     "output_type": "stream",
     "text": [
      "\n",
      " 97%|█████████▋| 146/150 [18:48<00:15,  3.90s/it]\u001b[A"
     ]
    },
    {
     "name": "stdout",
     "output_type": "stream",
     "text": [
      "_0001_0002_fluorescent.png\n"
     ]
    },
    {
     "name": "stderr",
     "output_type": "stream",
     "text": [
      "\n",
      " 98%|█████████▊| 147/150 [18:50<00:09,  3.21s/it]\u001b[A"
     ]
    },
    {
     "name": "stdout",
     "output_type": "stream",
     "text": [
      "_0011_0006_fluorescent.png\n"
     ]
    },
    {
     "name": "stderr",
     "output_type": "stream",
     "text": [
      "\n",
      " 99%|█████████▊| 148/150 [18:57<00:08,  4.49s/it]\u001b[A"
     ]
    },
    {
     "name": "stdout",
     "output_type": "stream",
     "text": [
      "_0005_0004_fluorescent.png\n"
     ]
    },
    {
     "name": "stderr",
     "output_type": "stream",
     "text": [
      "\n",
      " 99%|█████████▉| 149/150 [19:02<00:04,  4.52s/it]\u001b[A"
     ]
    },
    {
     "name": "stdout",
     "output_type": "stream",
     "text": [
      "_0007_0007_fluorescent.png\n"
     ]
    },
    {
     "name": "stderr",
     "output_type": "stream",
     "text": [
      "\n",
      "100%|██████████| 150/150 [19:07<00:00,  4.73s/it]\u001b[A"
     ]
    },
    {
     "data": {
      "text/plain": [
       "['_0000_0001_fluorescent.png',\n",
       " '_0002_0002_fluorescent.png',\n",
       " '_0006_0004_fluorescent.png',\n",
       " '_0007_0002_fluorescent.png',\n",
       " '_0003_0004_fluorescent.png',\n",
       " '_0001_0011_fluorescent.png',\n",
       " '_0000_0009_fluorescent.png',\n",
       " '_0003_0003_fluorescent.png',\n",
       " '_0001_0000_fluorescent.png',\n",
       " '_0006_0003_fluorescent.png',\n",
       " '_0000_0008_fluorescent.png',\n",
       " '_0000_0011_fluorescent.png',\n",
       " '_0007_0004_fluorescent.png',\n",
       " '_0002_0004_fluorescent.png',\n",
       " '_0000_0007_fluorescent.png',\n",
       " '_0004_0001_fluorescent.png',\n",
       " '_0006_0002_fluorescent.png',\n",
       " '_0002_0003_fluorescent.png',\n",
       " '_0001_0006_fluorescent.png',\n",
       " '_0003_0005_fluorescent.png',\n",
       " '_0011_0002_fluorescent.png',\n",
       " '_0005_0000_fluorescent.png',\n",
       " '_0008_0003_fluorescent.png',\n",
       " '_0001_0009_fluorescent.png',\n",
       " '_0002_0009_fluorescent.png',\n",
       " '_0000_0005_fluorescent.png',\n",
       " '_0004_0003_fluorescent.png',\n",
       " '_0006_0000_fluorescent.png',\n",
       " '_0001_0003_fluorescent.png',\n",
       " '_0001_0004_fluorescent.png',\n",
       " '_0005_0002_fluorescent.png',\n",
       " '_0000_0002_fluorescent.png',\n",
       " '_0007_0000_fluorescent.png',\n",
       " '_0001_0005_fluorescent.png',\n",
       " '_0000_0003_fluorescent.png',\n",
       " '_0002_0000_fluorescent.png',\n",
       " '_0008_0000_fluorescent.png',\n",
       " '_0007_0011_fluorescent.png',\n",
       " '_0009_0001_fluorescent.png',\n",
       " '_0010_0000_fluorescent.png',\n",
       " '_0006_0001_fluorescent.png',\n",
       " '_0002_0007_fluorescent.png',\n",
       " '_0000_0004_fluorescent.png',\n",
       " '_0003_0001_fluorescent.png',\n",
       " '_0001_0002_fluorescent.png',\n",
       " '_0005_0004_fluorescent.png']"
      ]
     },
     "execution_count": 19,
     "metadata": {},
     "output_type": "execute_result"
    }
   ],
   "source": [
    "th=150\n",
    "run_registration(Folders,th,setup)"
   ]
  }
 ],
 "metadata": {
  "kernelspec": {
   "display_name": "Python 3",
   "language": "python",
   "name": "python3"
  },
  "language_info": {
   "codemirror_mode": {
    "name": "ipython",
    "version": 3
   },
   "file_extension": ".py",
   "mimetype": "text/x-python",
   "name": "python",
   "nbconvert_exporter": "python",
   "pygments_lexer": "ipython3",
   "version": "3.6.8"
  },
  "toc": {
   "base_numbering": 1,
   "nav_menu": {},
   "number_sections": true,
   "sideBar": true,
   "skip_h1_title": false,
   "title_cell": "Table of Contents",
   "title_sidebar": "Contents",
   "toc_cell": true,
   "toc_position": {
    "height": "calc(100% - 180px)",
    "left": "10px",
    "top": "150px",
    "width": "165px"
   },
   "toc_section_display": true,
   "toc_window_display": true
  },
  "varInspector": {
   "cols": {
    "lenName": 16,
    "lenType": 16,
    "lenVar": 40
   },
   "kernels_config": {
    "python": {
     "delete_cmd_postfix": "",
     "delete_cmd_prefix": "del ",
     "library": "var_list.py",
     "varRefreshCmd": "print(var_dic_list())"
    },
    "r": {
     "delete_cmd_postfix": ") ",
     "delete_cmd_prefix": "rm(",
     "library": "var_list.r",
     "varRefreshCmd": "cat(var_dic_list()) "
    }
   },
   "types_to_exclude": [
    "module",
    "function",
    "builtin_function_or_method",
    "instance",
    "_Feature"
   ],
   "window_display": false
  }
 },
 "nbformat": 4,
 "nbformat_minor": 2
}
