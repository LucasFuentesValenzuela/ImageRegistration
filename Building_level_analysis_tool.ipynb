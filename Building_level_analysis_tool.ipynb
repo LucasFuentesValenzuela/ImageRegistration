{
 "cells": [
  {
   "cell_type": "markdown",
   "metadata": {
    "toc": true
   },
   "source": [
    "<h1>Table of Contents<span class=\"tocSkip\"></span></h1>\n",
    "<div class=\"toc\"><ul class=\"toc-item\"><li><span><a href=\"#Building-level-analysis\" data-toc-modified-id=\"Building-level-analysis-1\"><span class=\"toc-item-num\">1&nbsp;&nbsp;</span>Building-level analysis</a></span></li><li><span><a href=\"#Total-load-breakdown-by-building-type\" data-toc-modified-id=\"Total-load-breakdown-by-building-type-2\"><span class=\"toc-item-num\">2&nbsp;&nbsp;</span>Total load breakdown by building type</a></span></li><li><span><a href=\"#Forecasting\" data-toc-modified-id=\"Forecasting-3\"><span class=\"toc-item-num\">3&nbsp;&nbsp;</span>Forecasting</a></span></li></ul></div>"
   ]
  },
  {
   "cell_type": "code",
   "execution_count": null,
   "metadata": {},
   "outputs": [],
   "source": [
    "from IPython.display import HTML\n",
    "HTML('''<script>\n",
    "code_show=true; \n",
    "function code_toggle() {\n",
    " if (code_show){\n",
    " $('div.input').hide();\n",
    " } else {\n",
    " $('div.input').show();\n",
    " }\n",
    " code_show = !code_show\n",
    "} \n",
    "$( document ).ready(code_toggle);\n",
    "</script>\n",
    "The raw code for this IPython notebook is by default hidden for easier reading.\n",
    "To toggle on/off the raw code, click <a href=\"javascript:code_toggle()\">here</a>.''')"
   ]
  },
  {
   "cell_type": "code",
   "execution_count": 1,
   "metadata": {},
   "outputs": [
    {
     "name": "stdout",
     "output_type": "stream",
     "text": [
      "Executable you are using\n",
      "/Users/lucasfuentes/anaconda3/bin/python\n",
      "Your DATA_PATH:\n",
      "/Volumes/GoogleDrive/My Drive/sesi-buildings/data/\n"
     ]
    }
   ],
   "source": [
    "%matplotlib inline\n",
    "%load_ext autoreload\n",
    "%autoreload 2\n",
    "\n",
    "import sys\n",
    "print(\"Executable you are using\")\n",
    "print(sys.executable)\n",
    "from sesibuildings import config\n",
    "print(\"Your DATA_PATH:\")\n",
    "print(config[\"DATA_PATH\"])"
   ]
  },
  {
   "cell_type": "code",
   "execution_count": 2,
   "metadata": {},
   "outputs": [],
   "source": [
    "import pandas as pd\n",
    "import numpy as np\n",
    "import re\n",
    "import os\n",
    "from sesibuildings.data.load_clean_data import load_meters,change_columns_names\n",
    "import ipywidgets as widgets\n",
    "from ipywidgets import interact, interactive, fixed, interact_manual\n",
    "from sesibuildings.viz.gui_objects import GUIBaseViz, GUIStackedPlot, GUIPredViz"
   ]
  },
  {
   "cell_type": "code",
   "execution_count": 3,
   "metadata": {},
   "outputs": [
    {
     "name": "stderr",
     "output_type": "stream",
     "text": [
      "/Users/lucasfuentes/Documents/Benson/Code/sesi-buildings/src/sesibuildings/data/load_clean_data.py:181: RuntimeWarning: invalid value encountered in less\n",
      "  bb = np.where(aa < 0)[0]\n"
     ]
    }
   ],
   "source": [
    "# Load data\n",
    "nrows = None  # pass in None here toload all rows\n",
    "\n",
    "df_c = load_meters(meters=\"buildings\", building_type=\"C\", clean=True, nrows=nrows)\n",
    "\n",
    "df_c_0=load_meters(meters=\"buildings\", building_type=\"C\", clean=False, nrows = nrows)\n",
    "df_c_0=df_c_0.diff()\n",
    "\n",
    "df_c=change_columns_names(df_c)\n",
    "df_c_0=change_columns_names(df_c_0)\n",
    "\n",
    "df_T=load_meters(meters=\"temperature\", clean=False)\n",
    "\n",
    "df_cef = load_meters(\"cef\", clean=True)"
   ]
  },
  {
   "cell_type": "markdown",
   "metadata": {},
   "source": [
    "# Building-level analysis"
   ]
  },
  {
   "cell_type": "code",
   "execution_count": 7,
   "metadata": {
    "scrolled": false
   },
   "outputs": [
    {
     "data": {
      "application/vnd.jupyter.widget-view+json": {
       "model_id": "67ad62bea57647828ee63450333836a5",
       "version_major": 2,
       "version_minor": 0
      },
      "text/plain": [
       "VBox(children=(HBox(children=(Dropdown(description='Building: ', options=('McCLATCHY HALL', 'BUILDING 170 - MA…"
      ]
     },
     "metadata": {},
     "output_type": "display_data"
    },
    {
     "data": {
      "application/vnd.jupyter.widget-view+json": {
       "model_id": "c9f28abdeb6b46418dea06847e85f422",
       "version_major": 2,
       "version_minor": 0
      },
      "text/plain": [
       "Output()"
      ]
     },
     "metadata": {},
     "output_type": "display_data"
    }
   ],
   "source": [
    "gui = GUIBaseViz(df_c, df_c_0)\n",
    "gui.make_viz()\n",
    "gui.display()"
   ]
  },
  {
   "cell_type": "markdown",
   "metadata": {},
   "source": [
    "# Total load breakdown by building type"
   ]
  },
  {
   "cell_type": "code",
   "execution_count": null,
   "metadata": {},
   "outputs": [],
   "source": [
    "# Recreate aggregated dataset\n",
    "\n",
    "from sesibuildings.data.meter_ref import building_to_meter\n",
    "bm = building_to_meter()\n",
    "# Recreate building profiles\n",
    "building_profile = dict()\n",
    "for col in df_c.columns:\n",
    "    matched = bm[bm[\"Building Name\"] == col]\n",
    "    if len(matched) == 1:\n",
    "        building_profile[col] = matched[\"Building Profile\"].values[0]\n",
    "    elif (\"E.D. STONE\" in col) or (\"NURSING POD\" in col) or (\"BECKMAN CENTER\" in col) or (\"hospital\" in col.lower()):\n",
    "            building_profile[col] = \"Hospital\"\n",
    "    else:\n",
    "        building_profile[col] = \"NA\"\n",
    "#         print(col)\n",
    "building_meta = pd.DataFrame.from_dict(building_profile, orient=\"index\", columns=[\"profile\"])\n",
    "df_agg = pd.DataFrame(index=df_c.index)\n",
    "\n",
    "for type_ in building_meta.profile.unique():\n",
    "    columns = building_meta[building_meta.profile == type_].index\n",
    "    df_agg[type_] = df_c[[col for col in columns]].sum(axis=1)"
   ]
  },
  {
   "cell_type": "code",
   "execution_count": null,
   "metadata": {},
   "outputs": [],
   "source": [
    "gui = GUIStackedPlot(df_agg, df_cef)\n",
    "gui.make_viz()\n",
    "gui.display()"
   ]
  },
  {
   "cell_type": "markdown",
   "metadata": {},
   "source": [
    "# Forecasting"
   ]
  },
  {
   "cell_type": "code",
   "execution_count": 4,
   "metadata": {},
   "outputs": [],
   "source": [
    "#prepare the data set for Gaussian forecaster for now\n",
    "df_T=pd.DataFrame(df_T,columns=['LOKEY_OAT'])\n",
    "df_T['day']=df_T.index.date\n",
    "df_T=df_T.groupby('day').max()\n",
    "df_T.index=pd.to_datetime(df_T.index)"
   ]
  },
  {
   "cell_type": "code",
   "execution_count": 5,
   "metadata": {
    "scrolled": false
   },
   "outputs": [
    {
     "ename": "EOFError",
     "evalue": "Ran out of input",
     "output_type": "error",
     "traceback": [
      "\u001b[0;31m---------------------------------------------------------------------------\u001b[0m",
      "\u001b[0;31mEOFError\u001b[0m                                  Traceback (most recent call last)",
      "\u001b[0;32m<ipython-input-5-26fe43fdab8d>\u001b[0m in \u001b[0;36m<module>\u001b[0;34m\u001b[0m\n\u001b[1;32m      1\u001b[0m \u001b[0mgui\u001b[0m \u001b[0;34m=\u001b[0m \u001b[0mGUIPredViz\u001b[0m\u001b[0;34m(\u001b[0m\u001b[0mdf_c\u001b[0m\u001b[0;34m,\u001b[0m \u001b[0mdf_T\u001b[0m\u001b[0;34m)\u001b[0m\u001b[0;34m\u001b[0m\u001b[0;34m\u001b[0m\u001b[0m\n\u001b[0;32m----> 2\u001b[0;31m \u001b[0mgui\u001b[0m\u001b[0;34m.\u001b[0m\u001b[0mmake_viz\u001b[0m\u001b[0;34m(\u001b[0m\u001b[0;34m)\u001b[0m\u001b[0;34m\u001b[0m\u001b[0;34m\u001b[0m\u001b[0m\n\u001b[0m\u001b[1;32m      3\u001b[0m \u001b[0mgui\u001b[0m\u001b[0;34m.\u001b[0m\u001b[0mdisplay\u001b[0m\u001b[0;34m(\u001b[0m\u001b[0;34m)\u001b[0m\u001b[0;34m\u001b[0m\u001b[0;34m\u001b[0m\u001b[0m\n",
      "\u001b[0;32m~/Documents/Benson/Code/sesi-buildings/src/sesibuildings/viz/gui_objects.py\u001b[0m in \u001b[0;36mmake_viz\u001b[0;34m(self)\u001b[0m\n\u001b[1;32m    225\u001b[0m         \u001b[0mwidgs\u001b[0m \u001b[0;34m=\u001b[0m \u001b[0mdict\u001b[0m\u001b[0;34m(\u001b[0m\u001b[0;34m)\u001b[0m\u001b[0;34m\u001b[0m\u001b[0;34m\u001b[0m\u001b[0m\n\u001b[1;32m    226\u001b[0m         \u001b[0mwidgs\u001b[0m\u001b[0;34m[\u001b[0m\u001b[0;34m'select_building'\u001b[0m\u001b[0;34m]\u001b[0m \u001b[0;34m=\u001b[0m \u001b[0mcreate_widgets\u001b[0m\u001b[0;34m(\u001b[0m\u001b[0;34m'select_building'\u001b[0m\u001b[0;34m,\u001b[0m \u001b[0mself\u001b[0m\u001b[0;34m.\u001b[0m\u001b[0mdf\u001b[0m\u001b[0;34m)\u001b[0m\u001b[0;34m\u001b[0m\u001b[0;34m\u001b[0m\u001b[0m\n\u001b[0;32m--> 227\u001b[0;31m         \u001b[0mwidgs\u001b[0m\u001b[0;34m[\u001b[0m\u001b[0;34m'pred_date'\u001b[0m\u001b[0;34m]\u001b[0m \u001b[0;34m=\u001b[0m \u001b[0mcreate_widgets\u001b[0m\u001b[0;34m(\u001b[0m\u001b[0;34m'pred_date'\u001b[0m\u001b[0;34m,\u001b[0m \u001b[0mself\u001b[0m\u001b[0;34m.\u001b[0m\u001b[0mdf\u001b[0m\u001b[0;34m)\u001b[0m\u001b[0;34m\u001b[0m\u001b[0;34m\u001b[0m\u001b[0m\n\u001b[0m\u001b[1;32m    228\u001b[0m \u001b[0;34m\u001b[0m\u001b[0m\n\u001b[1;32m    229\u001b[0m         widgs['select_building'].observe(\n",
      "\u001b[0;32m~/Documents/Benson/Code/sesi-buildings/src/sesibuildings/viz/gui_objects.py\u001b[0m in \u001b[0;36mcreate_widgets\u001b[0;34m(widg_key, df)\u001b[0m\n\u001b[1;32m     47\u001b[0m     \u001b[0;32melif\u001b[0m \u001b[0mwidg_key\u001b[0m \u001b[0;34m==\u001b[0m \u001b[0;34m'pred_date'\u001b[0m\u001b[0;34m:\u001b[0m\u001b[0;34m\u001b[0m\u001b[0;34m\u001b[0m\u001b[0m\n\u001b[1;32m     48\u001b[0m         \u001b[0;31m# to avoid chosing dates out-of-sample for now\u001b[0m\u001b[0;34m\u001b[0m\u001b[0;34m\u001b[0m\u001b[0;34m\u001b[0m\u001b[0m\n\u001b[0;32m---> 49\u001b[0;31m         \u001b[0m_\u001b[0m\u001b[0;34m,\u001b[0m \u001b[0mtraining_end_date\u001b[0m \u001b[0;34m=\u001b[0m \u001b[0mload_pretrained\u001b[0m\u001b[0;34m(\u001b[0m\u001b[0;34m'Gaussian'\u001b[0m\u001b[0;34m)\u001b[0m\u001b[0;34m\u001b[0m\u001b[0;34m\u001b[0m\u001b[0m\n\u001b[0m\u001b[1;32m     50\u001b[0m         \u001b[0mdates\u001b[0m \u001b[0;34m=\u001b[0m \u001b[0mpd\u001b[0m\u001b[0;34m.\u001b[0m\u001b[0mdate_range\u001b[0m\u001b[0;34m(\u001b[0m\u001b[0mdf\u001b[0m\u001b[0;34m.\u001b[0m\u001b[0mindex\u001b[0m\u001b[0;34m[\u001b[0m\u001b[0;36m0\u001b[0m\u001b[0;34m]\u001b[0m\u001b[0;34m,\u001b[0m \u001b[0mtraining_end_date\u001b[0m\u001b[0;34m,\u001b[0m \u001b[0mfreq\u001b[0m\u001b[0;34m=\u001b[0m\u001b[0;34m'D'\u001b[0m\u001b[0;34m)\u001b[0m\u001b[0;34m\u001b[0m\u001b[0;34m\u001b[0m\u001b[0m\n\u001b[1;32m     51\u001b[0m         \u001b[0moptions\u001b[0m \u001b[0;34m=\u001b[0m \u001b[0;34m[\u001b[0m\u001b[0;34m(\u001b[0m\u001b[0mdate\u001b[0m\u001b[0;34m.\u001b[0m\u001b[0mstrftime\u001b[0m\u001b[0;34m(\u001b[0m\u001b[0;34m' %d/%m/%Y '\u001b[0m\u001b[0;34m)\u001b[0m\u001b[0;34m,\u001b[0m \u001b[0mdate\u001b[0m\u001b[0;34m)\u001b[0m \u001b[0;32mfor\u001b[0m \u001b[0mdate\u001b[0m \u001b[0;32min\u001b[0m \u001b[0mdates\u001b[0m\u001b[0;34m]\u001b[0m\u001b[0;34m\u001b[0m\u001b[0;34m\u001b[0m\u001b[0m\n",
      "\u001b[0;32m~/Documents/Benson/Code/sesi-buildings/src/sesibuildings/forecast/helpers_models.py\u001b[0m in \u001b[0;36mload_pretrained\u001b[0;34m(forecaster)\u001b[0m\n\u001b[1;32m     10\u001b[0m     with open(os.path.join(config[\"DATA_PATH\"], 'Models',\n\u001b[1;32m     11\u001b[0m                            forecaster+'.pkl'), 'rb') as f:\n\u001b[0;32m---> 12\u001b[0;31m         \u001b[0mmodel_buildings\u001b[0m\u001b[0;34m,\u001b[0m \u001b[0mtraining_end_date\u001b[0m \u001b[0;34m=\u001b[0m \u001b[0mpickle\u001b[0m\u001b[0;34m.\u001b[0m\u001b[0mload\u001b[0m\u001b[0;34m(\u001b[0m\u001b[0mf\u001b[0m\u001b[0;34m)\u001b[0m\u001b[0;34m\u001b[0m\u001b[0;34m\u001b[0m\u001b[0m\n\u001b[0m\u001b[1;32m     13\u001b[0m \u001b[0;34m\u001b[0m\u001b[0m\n\u001b[1;32m     14\u001b[0m     \u001b[0;32mreturn\u001b[0m \u001b[0mmodel_buildings\u001b[0m\u001b[0;34m,\u001b[0m \u001b[0mtraining_end_date\u001b[0m\u001b[0;34m\u001b[0m\u001b[0;34m\u001b[0m\u001b[0m\n",
      "\u001b[0;31mEOFError\u001b[0m: Ran out of input"
     ]
    }
   ],
   "source": [
    "gui = GUIPredViz(df_c, df_T)\n",
    "gui.make_viz()\n",
    "gui.display()"
   ]
  },
  {
   "cell_type": "code",
   "execution_count": 25,
   "metadata": {},
   "outputs": [],
   "source": [
    "from sesibuildings.forecast.helpers_testing import load_pretrained"
   ]
  },
  {
   "cell_type": "code",
   "execution_count": 26,
   "metadata": {},
   "outputs": [
    {
     "ename": "EOFError",
     "evalue": "Ran out of input",
     "output_type": "error",
     "traceback": [
      "\u001b[0;31m---------------------------------------------------------------------------\u001b[0m",
      "\u001b[0;31mEOFError\u001b[0m                                  Traceback (most recent call last)",
      "\u001b[0;32m<ipython-input-26-3c2b8cd55e4a>\u001b[0m in \u001b[0;36m<module>\u001b[0;34m\u001b[0m\n\u001b[0;32m----> 1\u001b[0;31m \u001b[0mmodel\u001b[0m\u001b[0;34m,\u001b[0m \u001b[0mtraining_end_date\u001b[0m \u001b[0;34m=\u001b[0m \u001b[0mload_pretrained\u001b[0m\u001b[0;34m(\u001b[0m\u001b[0;34m'Gaussian'\u001b[0m\u001b[0;34m)\u001b[0m\u001b[0;34m\u001b[0m\u001b[0;34m\u001b[0m\u001b[0m\n\u001b[0m",
      "\u001b[0;32m~/Documents/Benson/Code/sesi-buildings/src/sesibuildings/forecast/helpers_models.py\u001b[0m in \u001b[0;36mload_pretrained\u001b[0;34m(forecaster)\u001b[0m\n\u001b[1;32m     10\u001b[0m     with open(os.path.join(config[\"DATA_PATH\"], 'Models',\n\u001b[1;32m     11\u001b[0m                            forecaster+'.pkl'), 'rb') as f:\n\u001b[0;32m---> 12\u001b[0;31m         \u001b[0mmodel_buildings\u001b[0m\u001b[0;34m,\u001b[0m \u001b[0mtraining_end_date\u001b[0m \u001b[0;34m=\u001b[0m \u001b[0mpickle\u001b[0m\u001b[0;34m.\u001b[0m\u001b[0mload\u001b[0m\u001b[0;34m(\u001b[0m\u001b[0mf\u001b[0m\u001b[0;34m)\u001b[0m\u001b[0;34m\u001b[0m\u001b[0;34m\u001b[0m\u001b[0m\n\u001b[0m\u001b[1;32m     13\u001b[0m \u001b[0;34m\u001b[0m\u001b[0m\n\u001b[1;32m     14\u001b[0m     \u001b[0;32mreturn\u001b[0m \u001b[0mmodel_buildings\u001b[0m\u001b[0;34m,\u001b[0m \u001b[0mtraining_end_date\u001b[0m\u001b[0;34m\u001b[0m\u001b[0;34m\u001b[0m\u001b[0m\n",
      "\u001b[0;31mEOFError\u001b[0m: Ran out of input"
     ]
    }
   ],
   "source": [
    "model, training_end_date = load_pretrained('Gaussian')"
   ]
  }
 ],
 "metadata": {
  "kernelspec": {
   "display_name": "Python 3",
   "language": "python",
   "name": "python3"
  },
  "language_info": {
   "codemirror_mode": {
    "name": "ipython",
    "version": 3
   },
   "file_extension": ".py",
   "mimetype": "text/x-python",
   "name": "python",
   "nbconvert_exporter": "python",
   "pygments_lexer": "ipython3",
   "version": "3.6.8"
  },
  "toc": {
   "base_numbering": 1,
   "nav_menu": {},
   "number_sections": true,
   "sideBar": true,
   "skip_h1_title": false,
   "title_cell": "Table of Contents",
   "title_sidebar": "Contents",
   "toc_cell": true,
   "toc_position": {},
   "toc_section_display": true,
   "toc_window_display": true
  },
  "varInspector": {
   "cols": {
    "lenName": 16,
    "lenType": 16,
    "lenVar": 40
   },
   "kernels_config": {
    "python": {
     "delete_cmd_postfix": "",
     "delete_cmd_prefix": "del ",
     "library": "var_list.py",
     "varRefreshCmd": "print(var_dic_list())"
    },
    "r": {
     "delete_cmd_postfix": ") ",
     "delete_cmd_prefix": "rm(",
     "library": "var_list.r",
     "varRefreshCmd": "cat(var_dic_list()) "
    }
   },
   "types_to_exclude": [
    "module",
    "function",
    "builtin_function_or_method",
    "instance",
    "_Feature"
   ],
   "window_display": false
  }
 },
 "nbformat": 4,
 "nbformat_minor": 2
}
